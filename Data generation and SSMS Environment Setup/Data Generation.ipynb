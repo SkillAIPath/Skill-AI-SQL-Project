{
 "cells": [
  {
   "cell_type": "code",
   "execution_count": 0,
   "metadata": {
    "application/vnd.databricks.v1+cell": {
     "cellMetadata": {
      "byteLimit": 2048000,
      "rowLimit": 10000
     },
     "inputWidgets": {},
     "nuid": "9eb49d51-9505-426f-ae3b-6ee8642a4a02",
     "showTitle": false,
     "tableResultSettingsMap": {},
     "title": ""
    }
   },
   "outputs": [
    {
     "output_type": "stream",
     "name": "stdout",
     "output_type": "stream",
     "text": [
      "Python interpreter will be restarted.\nCollecting dbldatagen\n  Downloading dbldatagen-0.4.0.post1-py3-none-any.whl (122 kB)\nCollecting faker\n  Downloading faker-37.4.0-py3-none-any.whl (1.9 MB)\nCollecting tzdata\n  Downloading tzdata-2025.2-py2.py3-none-any.whl (347 kB)\nInstalling collected packages: tzdata, faker, dbldatagen\nSuccessfully installed dbldatagen-0.4.0.post1 faker-37.4.0 tzdata-2025.2\nPython interpreter will be restarted.\n"
     ]
    }
   ],
   "source": [
    "pip install dbldatagen faker"
   ]
  },
  {
   "cell_type": "code",
   "execution_count": 0,
   "metadata": {
    "application/vnd.databricks.v1+cell": {
     "cellMetadata": {
      "byteLimit": 2048000,
      "rowLimit": 10000
     },
     "inputWidgets": {},
     "nuid": "0d5fa824-c98c-4d3a-8138-f5d343dbad70",
     "showTitle": true,
     "tableResultSettingsMap": {},
     "title": "customers"
    }
   },
   "outputs": [],
   "source": [
    "import dbldatagen as dg\n",
    "from faker import Faker\n",
    "from datetime import datetime, date\n",
    "import hashlib\n",
    "import random\n",
    "from pyspark.sql.types import StringType, TimestampType, BooleanType\n",
    "from pyspark.sql.functions import col, udf, when, expr, rand\n",
    "\n",
    "# Initialize Faker\n",
    "fake = Faker('en_IN')\n",
    "\n",
    "# Configuration\n",
    "num_customers = 1000\n",
    "devices = ['Android', 'iOS', 'Desktop']\n",
    "signup_sources = ['organic', 'paid', 'referral', 'affiliate']\n",
    "countries = [\n",
    "    \"India\", \"Singapore\", \"Japan\", \"Indonesia\", \"Malaysia\", \"Thailand\",\n",
    "    \"Philippines\", \"Vietnam\", \"Bangladesh\", \"Sri Lanka\", \"Nepal\"\n",
    "]\n",
    "cities_map = {\n",
    "    \"India\": [\"Mumbai\", \"Delhi\", \"Bangalore\", \"Hyderabad\", \"Chennai\", \"Kolkata\"],\n",
    "    \"Singapore\": [\"Singapore\"],\n",
    "    \"Japan\": [\"Tokyo\", \"Osaka\", \"Kyoto\", \"Nagoya\"],\n",
    "    \"Indonesia\": [\"Jakarta\", \"Bandung\", \"Surabaya\"],\n",
    "    \"Malaysia\": [\"Kuala Lumpur\", \"Penang\", \"Johor Bahru\"],\n",
    "    \"Thailand\": [\"Bangkok\", \"Chiang Mai\", \"Phuket\"],\n",
    "    \"Philippines\": [\"Manila\", \"Cebu\", \"Davao\"],\n",
    "    \"Vietnam\": [\"Hanoi\", \"Ho Chi Minh City\", \"Da Nang\"],\n",
    "    \"Bangladesh\": [\"Dhaka\", \"Chittagong\", \"Khulna\"],\n",
    "    \"Sri Lanka\": [\"Colombo\", \"Kandy\", \"Galle\"],\n",
    "    \"Nepal\": [\"Kathmandu\", \"Pokhara\", \"Lalitpur\"]\n",
    "}\n",
    "batch_id_val = str(fake.uuid4())\n",
    "ingest_ts_val = datetime.utcnow().isoformat()\n",
    "source_val = \"faker\"\n",
    "\n",
    "# Generate name + gender\n",
    "def generate_name_and_gender():\n",
    "    gender = random.choice(['Male', 'Female'])\n",
    "    name = fake.name_male() if gender == 'Male' else fake.name_female()\n",
    "    return name, gender\n",
    "\n",
    "name_gender_pairs = [generate_name_and_gender() for _ in range(1000)]\n",
    "user_names = [ng[0] for ng in name_gender_pairs]\n",
    "user_genders = [ng[1] for ng in name_gender_pairs]\n",
    "emails = [fake.email() for _ in range(1000)]\n",
    "signup_dates = [fake.date_between(start_date='-1y', end_date=date(2025, 2, 26)) for _ in range(1000)]\n",
    "\n",
    "# Record hash function\n",
    "def record_hash_udf(*cols):\n",
    "    combined = \"||\".join([str(c) if c is not None else \"NULL\" for c in cols])\n",
    "    return hashlib.md5(combined.encode(\"utf-8\")).hexdigest()\n",
    "record_hash = udf(record_hash_udf, StringType())\n",
    "\n",
    "@udf(StringType())\n",
    "def assign_city(country):\n",
    "    return random.choice(cities_map.get(country, [\"Unknown\"]))\n",
    "\n",
    "# Generate DataFrame\n",
    "customers = (\n",
    "    dg.DataGenerator(spark, name=\"customers\", rows=num_customers, partitions=4)\n",
    "    .withColumn(\"customer_id\", \"long\", minValue=1000000, uniqueValues=num_customers)\n",
    "    .withColumn(\"name\", StringType(), values=user_names)\n",
    "    .withColumn(\"email\", StringType(), values=emails)\n",
    "    .withColumn(\"gender\", StringType(), values=user_genders)\n",
    "    .withColumn(\"country\", StringType(), values=countries)\n",
    "    .withColumn(\"signup_date\", TimestampType(), values=signup_dates)\n",
    "    .withColumn(\"device\", StringType(), values=devices)\n",
    "    .withColumn(\"signup_source\", StringType(), values=signup_sources)\n",
    "    .withColumn(\"activation_date\", TimestampType(), expr(\"signup_date + interval 1 day\"))\n",
    "    .withColumn(\"batch_id\", StringType(), values=[batch_id_val])\n",
    "    .withColumn(\"ingest_ts\", StringType(), values=[ingest_ts_val])\n",
    "    .withColumn(\"source\", StringType(), values=[source_val])\n",
    ")\n",
    "\n",
    "df_customers = customers.build()\n",
    "\n",
    "# Add city from country\n",
    "df_customers = df_customers.withColumn(\"city\", assign_city(col(\"country\")))\n",
    "\n",
    "# Assign lifecycle stage using a single bucket\n",
    "df_customers = df_customers.withColumn(\"lifecycle_bucket\", rand())\n",
    "df_customers = df_customers.withColumn(\n",
    "    \"lifecycle_stage\",\n",
    "    when(col(\"lifecycle_bucket\") < 0.05, \"Visitor\")\n",
    "    .when(col(\"lifecycle_bucket\") < 0.15, \"Lead\")\n",
    "    .when(col(\"lifecycle_bucket\") < 0.27, \"Activated\")\n",
    "    .when(col(\"lifecycle_bucket\") < 0.37, \"Engaged\")\n",
    "    .when(col(\"lifecycle_bucket\") < 0.72, \"Paying\")\n",
    "    .when(col(\"lifecycle_bucket\") < 0.90, \"Retained\")\n",
    "    .otherwise(\"Lost\")\n",
    ")\n",
    "\n",
    "# Set churn flag for \"Lost\" only\n",
    "df_customers = df_customers.withColumn(\n",
    "    \"churn_flag\",\n",
    "    when(col(\"lifecycle_stage\") == \"Lost\", True).otherwise(False)\n",
    ")\n",
    "\n",
    "# Add churn date if churned\n",
    "df_customers = df_customers.withColumn(\"churn_offset\", (col(\"customer_id\") % 31 + 60).cast(\"int\"))\n",
    "df_customers = df_customers.withColumn(\n",
    "    \"churn_date\",\n",
    "    when(col(\"churn_flag\") == True, expr(\"date_add(activation_date, churn_offset)\"))\n",
    ")\n",
    "\n",
    "# Add record hash\n",
    "df_customers = df_customers.withColumn(\n",
    "    \"record_hash\",\n",
    "    record_hash(\n",
    "        \"customer_id\", \"name\", \"email\", \"signup_date\", \"device\", \"signup_source\",\n",
    "        \"gender\", \"activation_date\", \"churn_flag\", \"churn_date\",\n",
    "        \"country\", \"city\", \"lifecycle_stage\"\n",
    "    )\n",
    ")\n",
    "\n",
    "# Final column order\n",
    "df_customers = df_customers.drop(\"lifecycle_bucket\")\n",
    "df_customers = df_customers.select(\n",
    "    \"customer_id\", \"name\", \"email\", \"gender\", \"country\", \"city\",\n",
    "    \"signup_date\", \"activation_date\", \"churn_flag\", \"churn_date\",\n",
    "    \"device\", \"signup_source\", \"lifecycle_stage\",\n",
    "    \"batch_id\", \"ingest_ts\", \"source\", \"record_hash\"\n",
    ")\n",
    "\n",
    "# Create view and preview\n",
    "df_customers.createOrReplaceTempView(\"customers\")"
   ]
  },
  {
   "cell_type": "code",
   "execution_count": 0,
   "metadata": {
    "application/vnd.databricks.v1+cell": {
     "cellMetadata": {
      "byteLimit": 2048000,
      "rowLimit": 10000
     },
     "inputWidgets": {},
     "nuid": "4f98d14e-5f33-420b-ab9d-fc0bdbd9743b",
     "showTitle": false,
     "tableResultSettingsMap": {},
     "title": ""
    }
   },
   "outputs": [
    {
     "output_type": "display_data",
     "data": {
      "text/html": [
       "<style scoped>\n",
       "  .table-result-container {\n",
       "    max-height: 300px;\n",
       "    overflow: auto;\n",
       "  }\n",
       "  table, th, td {\n",
       "    border: 1px solid black;\n",
       "    border-collapse: collapse;\n",
       "  }\n",
       "  th, td {\n",
       "    padding: 5px;\n",
       "  }\n",
       "  th {\n",
       "    text-align: left;\n",
       "  }\n",
       "</style><div class='table-result-container'><table class='table-result'><thead style='background-color: white'><tr><th>customer_id</th><th>name</th><th>email</th><th>gender</th><th>country</th><th>city</th><th>signup_date</th><th>activation_date</th><th>churn_flag</th><th>churn_date</th><th>device</th><th>signup_source</th><th>lifecycle_stage</th><th>batch_id</th><th>ingest_ts</th><th>source</th><th>record_hash</th></tr></thead><tbody><tr><td>1000000</td><td>Mohammed Kalita</td><td>jarya@example.net</td><td>Male</td><td>India</td><td>Mumbai</td><td>2025-01-12T00:00:00.000+0000</td><td>2024-01-01T00:00:00.000+0000</td><td>false</td><td>null</td><td>Android</td><td>organic</td><td>Visitor</td><td>568940cd-f785-472d-b9bd-41f2c506eef6</td><td>2025-06-16T17:40:00.517639</td><td>faker</td><td>7b6856c7f37dbd1641ec66d2d4d2c93e</td></tr><tr><td>1000001</td><td>Adya Mishra</td><td>ravaladvik@example.com</td><td>Female</td><td>Singapore</td><td>Singapore</td><td>2024-06-26T00:00:00.000+0000</td><td>2024-01-02T00:00:00.000+0000</td><td>false</td><td>null</td><td>iOS</td><td>paid</td><td>Retained</td><td>568940cd-f785-472d-b9bd-41f2c506eef6</td><td>2025-06-16T17:40:00.517639</td><td>faker</td><td>c5638a19ab075a2e2f06e8d29fe0412a</td></tr><tr><td>1000002</td><td>Nitesh Khosla</td><td>lallajagat@example.org</td><td>Male</td><td>Japan</td><td>Tokyo</td><td>2025-01-15T00:00:00.000+0000</td><td>2024-01-03T00:00:00.000+0000</td><td>false</td><td>null</td><td>Desktop</td><td>referral</td><td>Engaged</td><td>568940cd-f785-472d-b9bd-41f2c506eef6</td><td>2025-06-16T17:40:00.517639</td><td>faker</td><td>aa268998bf329d1c03738599615af72f</td></tr><tr><td>1000003</td><td>Krisha Sodhi</td><td>warda27@example.org</td><td>Female</td><td>Indonesia</td><td>Jakarta</td><td>2024-07-12T00:00:00.000+0000</td><td>2024-01-04T00:00:00.000+0000</td><td>true</td><td>2024-03-09</td><td>Android</td><td>affiliate</td><td>Lost</td><td>568940cd-f785-472d-b9bd-41f2c506eef6</td><td>2025-06-16T17:40:00.517639</td><td>faker</td><td>cbbfc1cd71adab759fbc596bce1e1c97</td></tr><tr><td>1000004</td><td>Anita Walla</td><td>zsathe@example.org</td><td>Female</td><td>Malaysia</td><td>Johor Bahru</td><td>2024-10-20T00:00:00.000+0000</td><td>2024-01-05T00:00:00.000+0000</td><td>false</td><td>null</td><td>iOS</td><td>organic</td><td>Activated</td><td>568940cd-f785-472d-b9bd-41f2c506eef6</td><td>2025-06-16T17:40:00.517639</td><td>faker</td><td>a03ec14fccd5ff1c3116afbd3521adde</td></tr><tr><td>1000005</td><td>Ansh Lall</td><td>birgirish@example.net</td><td>Male</td><td>Thailand</td><td>Phuket</td><td>2024-11-03T00:00:00.000+0000</td><td>2024-01-06T00:00:00.000+0000</td><td>false</td><td>null</td><td>Desktop</td><td>paid</td><td>Paying</td><td>568940cd-f785-472d-b9bd-41f2c506eef6</td><td>2025-06-16T17:40:00.517639</td><td>faker</td><td>d9a28f0a4d9fd2a232bbea60b4d51a96</td></tr><tr><td>1000006</td><td>Hritik Thaker</td><td>qrao@example.net</td><td>Male</td><td>Philippines</td><td>Manila</td><td>2025-01-08T00:00:00.000+0000</td><td>2024-01-07T00:00:00.000+0000</td><td>false</td><td>null</td><td>Android</td><td>referral</td><td>Engaged</td><td>568940cd-f785-472d-b9bd-41f2c506eef6</td><td>2025-06-16T17:40:00.517639</td><td>faker</td><td>c1b4c6ecea9fbcc67b5dd1b0833514ae</td></tr><tr><td>1000007</td><td>Chanchal Mannan</td><td>daksheshpillai@example.com</td><td>Female</td><td>Vietnam</td><td>Da Nang</td><td>2024-06-27T00:00:00.000+0000</td><td>2024-01-08T00:00:00.000+0000</td><td>false</td><td>null</td><td>iOS</td><td>affiliate</td><td>Visitor</td><td>568940cd-f785-472d-b9bd-41f2c506eef6</td><td>2025-06-16T17:40:00.517639</td><td>faker</td><td>9a5cc92f73a20069c57972d3581b4f90</td></tr><tr><td>1000008</td><td>Viraj Saran</td><td>hraval@example.com</td><td>Male</td><td>Bangladesh</td><td>Khulna</td><td>2024-12-10T00:00:00.000+0000</td><td>2024-01-09T00:00:00.000+0000</td><td>false</td><td>null</td><td>Desktop</td><td>organic</td><td>Activated</td><td>568940cd-f785-472d-b9bd-41f2c506eef6</td><td>2025-06-16T17:40:00.517639</td><td>faker</td><td>ff661db6e2b8b47b954261737f4479ae</td></tr><tr><td>1000009</td><td>Nicholas Chacko</td><td>poojaram@example.com</td><td>Male</td><td>Sri Lanka</td><td>Kandy</td><td>2024-11-23T00:00:00.000+0000</td><td>2024-01-10T00:00:00.000+0000</td><td>false</td><td>null</td><td>Android</td><td>paid</td><td>Paying</td><td>568940cd-f785-472d-b9bd-41f2c506eef6</td><td>2025-06-16T17:40:00.517639</td><td>faker</td><td>99136f8dd9a0114f90adf1933452813d</td></tr><tr><td>1000010</td><td>Yahvi Bajaj</td><td>aashinanda@example.com</td><td>Female</td><td>Nepal</td><td>Pokhara</td><td>2024-08-21T00:00:00.000+0000</td><td>2024-01-11T00:00:00.000+0000</td><td>false</td><td>null</td><td>iOS</td><td>referral</td><td>Lead</td><td>568940cd-f785-472d-b9bd-41f2c506eef6</td><td>2025-06-16T17:40:00.517639</td><td>faker</td><td>dde618e10631ebfc971194813ee9b610</td></tr><tr><td>1000011</td><td>Vasana Acharya</td><td>nihalborde@example.com</td><td>Female</td><td>India</td><td>Kolkata</td><td>2024-09-12T00:00:00.000+0000</td><td>2024-01-12T00:00:00.000+0000</td><td>false</td><td>null</td><td>Desktop</td><td>affiliate</td><td>Activated</td><td>568940cd-f785-472d-b9bd-41f2c506eef6</td><td>2025-06-16T17:40:00.517639</td><td>faker</td><td>feb9df8fb46ce5eece98c6a3ff419e7d</td></tr><tr><td>1000012</td><td>Lavanya Sharaf</td><td>semabha@example.net</td><td>Female</td><td>Singapore</td><td>Singapore</td><td>2024-10-02T00:00:00.000+0000</td><td>2024-01-13T00:00:00.000+0000</td><td>false</td><td>null</td><td>Android</td><td>organic</td><td>Engaged</td><td>568940cd-f785-472d-b9bd-41f2c506eef6</td><td>2025-06-16T17:40:00.517639</td><td>faker</td><td>f1602a679cde893df1e1b87c5daf1de1</td></tr><tr><td>1000013</td><td>Indira Agarwal</td><td>kritikabaral@example.com</td><td>Female</td><td>Japan</td><td>Osaka</td><td>2024-07-18T00:00:00.000+0000</td><td>2024-01-14T00:00:00.000+0000</td><td>false</td><td>null</td><td>iOS</td><td>paid</td><td>Retained</td><td>568940cd-f785-472d-b9bd-41f2c506eef6</td><td>2025-06-16T17:40:00.517639</td><td>faker</td><td>9c19278ee8bd65643086608c59e4590b</td></tr><tr><td>1000014</td><td>Ria Mandal</td><td>warinder06@example.com</td><td>Female</td><td>Indonesia</td><td>Surabaya</td><td>2024-06-17T00:00:00.000+0000</td><td>2024-01-15T00:00:00.000+0000</td><td>false</td><td>null</td><td>Desktop</td><td>referral</td><td>Activated</td><td>568940cd-f785-472d-b9bd-41f2c506eef6</td><td>2025-06-16T17:40:00.517639</td><td>faker</td><td>e3def0f1d15588e12e957d4ba2ee604a</td></tr><tr><td>1000015</td><td>Harinakshi Dayal</td><td>pauthomas@example.com</td><td>Female</td><td>Malaysia</td><td>Kuala Lumpur</td><td>2025-01-20T00:00:00.000+0000</td><td>2024-01-16T00:00:00.000+0000</td><td>false</td><td>null</td><td>Android</td><td>affiliate</td><td>Paying</td><td>568940cd-f785-472d-b9bd-41f2c506eef6</td><td>2025-06-16T17:40:00.517639</td><td>faker</td><td>cac3cdf9e80a7d94be17af405f34690a</td></tr><tr><td>1000016</td><td>Michael Saha</td><td>vrittipatel@example.net</td><td>Male</td><td>Thailand</td><td>Chiang Mai</td><td>2024-12-28T00:00:00.000+0000</td><td>2024-01-17T00:00:00.000+0000</td><td>false</td><td>null</td><td>iOS</td><td>organic</td><td>Retained</td><td>568940cd-f785-472d-b9bd-41f2c506eef6</td><td>2025-06-16T17:40:00.517639</td><td>faker</td><td>fcec8d3710c0ffc7ffc758afda8760d3</td></tr><tr><td>1000017</td><td>Tarak Arya</td><td>agarwalvarsha@example.net</td><td>Male</td><td>Philippines</td><td>Davao</td><td>2024-10-23T00:00:00.000+0000</td><td>2024-01-18T00:00:00.000+0000</td><td>false</td><td>null</td><td>Desktop</td><td>paid</td><td>Paying</td><td>568940cd-f785-472d-b9bd-41f2c506eef6</td><td>2025-06-16T17:40:00.517639</td><td>faker</td><td>858232af8d5a3ff1d47234d13144825d</td></tr><tr><td>1000018</td><td>Prisha Chana</td><td>gournaveen@example.net</td><td>Female</td><td>Vietnam</td><td>Da Nang</td><td>2024-09-27T00:00:00.000+0000</td><td>2024-01-19T00:00:00.000+0000</td><td>false</td><td>null</td><td>Android</td><td>referral</td><td>Paying</td><td>568940cd-f785-472d-b9bd-41f2c506eef6</td><td>2025-06-16T17:40:00.517639</td><td>faker</td><td>3c127826ac2cf1ac39721031ca3bdb30</td></tr><tr><td>1000019</td><td>Jeremiah Malhotra</td><td>gdevan@example.com</td><td>Male</td><td>Bangladesh</td><td>Chittagong</td><td>2024-07-16T00:00:00.000+0000</td><td>2024-01-20T00:00:00.000+0000</td><td>false</td><td>null</td><td>iOS</td><td>affiliate</td><td>Paying</td><td>568940cd-f785-472d-b9bd-41f2c506eef6</td><td>2025-06-16T17:40:00.517639</td><td>faker</td><td>b94afc10cb04914ccc1787e1cf711d33</td></tr><tr><td>1000020</td><td>Gunbir Chaudhari</td><td>chadaanirudh@example.com</td><td>Male</td><td>Sri Lanka</td><td>Colombo</td><td>2024-12-21T00:00:00.000+0000</td><td>2024-01-21T00:00:00.000+0000</td><td>false</td><td>null</td><td>Desktop</td><td>organic</td><td>Paying</td><td>568940cd-f785-472d-b9bd-41f2c506eef6</td><td>2025-06-16T17:40:00.517639</td><td>faker</td><td>db0b8c891a044ca81bd80100d341e13c</td></tr><tr><td>1000021</td><td>Forum Ahluwalia</td><td>jthakkar@example.org</td><td>Female</td><td>Nepal</td><td>Kathmandu</td><td>2024-07-09T00:00:00.000+0000</td><td>2024-01-22T00:00:00.000+0000</td><td>false</td><td>null</td><td>Android</td><td>paid</td><td>Visitor</td><td>568940cd-f785-472d-b9bd-41f2c506eef6</td><td>2025-06-16T17:40:00.517639</td><td>faker</td><td>61529f0844cfd942c90792dd95ddef1b</td></tr><tr><td>1000022</td><td>Triveni Sandhu</td><td>karanyogi@example.net</td><td>Female</td><td>India</td><td>Delhi</td><td>2024-09-26T00:00:00.000+0000</td><td>2024-01-23T00:00:00.000+0000</td><td>false</td><td>null</td><td>iOS</td><td>referral</td><td>Retained</td><td>568940cd-f785-472d-b9bd-41f2c506eef6</td><td>2025-06-16T17:40:00.517639</td><td>faker</td><td>24fa61b745c1fdff57196f064732f170</td></tr><tr><td>1000023</td><td>Suhani Mitter</td><td>vbhalla@example.org</td><td>Female</td><td>Singapore</td><td>Singapore</td><td>2024-08-22T00:00:00.000+0000</td><td>2024-01-24T00:00:00.000+0000</td><td>false</td><td>null</td><td>Desktop</td><td>affiliate</td><td>Paying</td><td>568940cd-f785-472d-b9bd-41f2c506eef6</td><td>2025-06-16T17:40:00.517639</td><td>faker</td><td>6928bede008577b9accde3a98b354e39</td></tr><tr><td>1000024</td><td>Amara Patil</td><td>mohammedbassi@example.org</td><td>Female</td><td>Japan</td><td>Kyoto</td><td>2024-07-22T00:00:00.000+0000</td><td>2024-01-25T00:00:00.000+0000</td><td>false</td><td>null</td><td>Android</td><td>organic</td><td>Paying</td><td>568940cd-f785-472d-b9bd-41f2c506eef6</td><td>2025-06-16T17:40:00.517639</td><td>faker</td><td>dab55e8508386940b88b87a92a42defb</td></tr><tr><td>1000025</td><td>Nachiket Walla</td><td>daminioak@example.com</td><td>Male</td><td>Indonesia</td><td>Jakarta</td><td>2024-12-28T00:00:00.000+0000</td><td>2024-01-26T00:00:00.000+0000</td><td>false</td><td>null</td><td>iOS</td><td>paid</td><td>Paying</td><td>568940cd-f785-472d-b9bd-41f2c506eef6</td><td>2025-06-16T17:40:00.517639</td><td>faker</td><td>4d8c3536efc1b0975f7c1f3cb35c3c06</td></tr><tr><td>1000026</td><td>Nathan Gole</td><td>hpalla@example.net</td><td>Male</td><td>Malaysia</td><td>Kuala Lumpur</td><td>2025-02-19T00:00:00.000+0000</td><td>2024-01-27T00:00:00.000+0000</td><td>false</td><td>null</td><td>Desktop</td><td>referral</td><td>Paying</td><td>568940cd-f785-472d-b9bd-41f2c506eef6</td><td>2025-06-16T17:40:00.517639</td><td>faker</td><td>5b692eaadccb88050d44bce8d66e632e</td></tr><tr><td>1000027</td><td>Omaja Issac</td><td>anmol96@example.net</td><td>Female</td><td>Thailand</td><td>Chiang Mai</td><td>2024-07-28T00:00:00.000+0000</td><td>2024-01-28T00:00:00.000+0000</td><td>false</td><td>null</td><td>Android</td><td>affiliate</td><td>Activated</td><td>568940cd-f785-472d-b9bd-41f2c506eef6</td><td>2025-06-16T17:40:00.517639</td><td>faker</td><td>4e4b3bd73fe843e5b5c9c330b0982e82</td></tr><tr><td>1000028</td><td>Wyatt Manda</td><td>warhi48@example.net</td><td>Male</td><td>Philippines</td><td>Cebu</td><td>2025-01-20T00:00:00.000+0000</td><td>2024-01-29T00:00:00.000+0000</td><td>false</td><td>null</td><td>iOS</td><td>organic</td><td>Paying</td><td>568940cd-f785-472d-b9bd-41f2c506eef6</td><td>2025-06-16T17:40:00.517639</td><td>faker</td><td>cd1ffc1c45ec655529e3459455221d40</td></tr><tr><td>1000029</td><td>Lekha Golla</td><td>dalbir49@example.com</td><td>Female</td><td>Vietnam</td><td>Hanoi</td><td>2025-01-26T00:00:00.000+0000</td><td>2024-01-30T00:00:00.000+0000</td><td>false</td><td>null</td><td>Desktop</td><td>paid</td><td>Activated</td><td>568940cd-f785-472d-b9bd-41f2c506eef6</td><td>2025-06-16T17:40:00.517639</td><td>faker</td><td>44ac46c0b244248bf5317f2fc8819c1b</td></tr><tr><td>1000030</td><td>Shaurya Varty</td><td>nagymanan@example.net</td><td>Male</td><td>Bangladesh</td><td>Dhaka</td><td>2024-10-03T00:00:00.000+0000</td><td>2024-01-31T00:00:00.000+0000</td><td>false</td><td>null</td><td>Android</td><td>referral</td><td>Visitor</td><td>568940cd-f785-472d-b9bd-41f2c506eef6</td><td>2025-06-16T17:40:00.517639</td><td>faker</td><td>734344b44a9b597a49fd23ee4da48d8d</td></tr><tr><td>1000031</td><td>Indrajit Date</td><td>idikaraja@example.net</td><td>Male</td><td>Sri Lanka</td><td>Galle</td><td>2024-10-16T00:00:00.000+0000</td><td>2024-02-01T00:00:00.000+0000</td><td>false</td><td>null</td><td>iOS</td><td>affiliate</td><td>Paying</td><td>568940cd-f785-472d-b9bd-41f2c506eef6</td><td>2025-06-16T17:40:00.517639</td><td>faker</td><td>f90637e53512ce3045548bdb11515258</td></tr><tr><td>1000032</td><td>Chavvi Rajagopal</td><td>ipalla@example.net</td><td>Female</td><td>Nepal</td><td>Lalitpur</td><td>2024-09-04T00:00:00.000+0000</td><td>2024-02-02T00:00:00.000+0000</td><td>false</td><td>null</td><td>Desktop</td><td>organic</td><td>Retained</td><td>568940cd-f785-472d-b9bd-41f2c506eef6</td><td>2025-06-16T17:40:00.517639</td><td>faker</td><td>505ad22bc2511a27b5054085239145d4</td></tr><tr><td>1000033</td><td>Rajeshri Thakur</td><td>rsaran@example.com</td><td>Female</td><td>India</td><td>Delhi</td><td>2024-09-11T00:00:00.000+0000</td><td>2024-02-03T00:00:00.000+0000</td><td>true</td><td>2024-04-07</td><td>Android</td><td>paid</td><td>Lost</td><td>568940cd-f785-472d-b9bd-41f2c506eef6</td><td>2025-06-16T17:40:00.517639</td><td>faker</td><td>447c9b05cc2672e6b07f5a7f6b0abd75</td></tr><tr><td>1000034</td><td>Rushil Pathak</td><td>urvi47@example.net</td><td>Male</td><td>Singapore</td><td>Singapore</td><td>2024-07-07T00:00:00.000+0000</td><td>2024-02-04T00:00:00.000+0000</td><td>false</td><td>null</td><td>iOS</td><td>referral</td><td>Paying</td><td>568940cd-f785-472d-b9bd-41f2c506eef6</td><td>2025-06-16T17:40:00.517639</td><td>faker</td><td>1d5d393dc1f600bb1c8ca82d697b4483</td></tr><tr><td>1000035</td><td>Balveer Deep</td><td>iapte@example.org</td><td>Male</td><td>Japan</td><td>Kyoto</td><td>2024-09-10T00:00:00.000+0000</td><td>2024-02-05T00:00:00.000+0000</td><td>true</td><td>2024-04-11</td><td>Desktop</td><td>affiliate</td><td>Lost</td><td>568940cd-f785-472d-b9bd-41f2c506eef6</td><td>2025-06-16T17:40:00.517639</td><td>faker</td><td>60543c42f8b9562c6528b6940146e825</td></tr><tr><td>1000036</td><td>Samaksh Baria</td><td>xagarwal@example.com</td><td>Male</td><td>Indonesia</td><td>Surabaya</td><td>2024-07-18T00:00:00.000+0000</td><td>2024-02-06T00:00:00.000+0000</td><td>false</td><td>null</td><td>Android</td><td>organic</td><td>Engaged</td><td>568940cd-f785-472d-b9bd-41f2c506eef6</td><td>2025-06-16T17:40:00.517639</td><td>faker</td><td>1c67343b44b97c237b8f0aee5d6ab853</td></tr><tr><td>1000037</td><td>Amol Nair</td><td>kotharivedhika@example.net</td><td>Male</td><td>Malaysia</td><td>Kuala Lumpur</td><td>2024-09-27T00:00:00.000+0000</td><td>2024-02-07T00:00:00.000+0000</td><td>false</td><td>null</td><td>iOS</td><td>paid</td><td>Retained</td><td>568940cd-f785-472d-b9bd-41f2c506eef6</td><td>2025-06-16T17:40:00.517639</td><td>faker</td><td>9be3c3da6defc85dbcd3463756556532</td></tr><tr><td>1000038</td><td>Yochana Bora</td><td>majumdarmitesh@example.org</td><td>Female</td><td>Thailand</td><td>Bangkok</td><td>2025-01-25T00:00:00.000+0000</td><td>2024-02-08T00:00:00.000+0000</td><td>false</td><td>null</td><td>Desktop</td><td>referral</td><td>Paying</td><td>568940cd-f785-472d-b9bd-41f2c506eef6</td><td>2025-06-16T17:40:00.517639</td><td>faker</td><td>c3af4faec5fadae87b1f3effeae33d24</td></tr><tr><td>1000039</td><td>Ria Vyas</td><td>darsh45@example.com</td><td>Female</td><td>Philippines</td><td>Manila</td><td>2024-11-18T00:00:00.000+0000</td><td>2024-02-09T00:00:00.000+0000</td><td>false</td><td>null</td><td>Android</td><td>affiliate</td><td>Paying</td><td>568940cd-f785-472d-b9bd-41f2c506eef6</td><td>2025-06-16T17:40:00.517639</td><td>faker</td><td>d8ca414447f6d606f459dd18221ce3e0</td></tr><tr><td>1000040</td><td>Nitesh Rege</td><td>omishakapur@example.com</td><td>Male</td><td>Vietnam</td><td>Da Nang</td><td>2024-07-03T00:00:00.000+0000</td><td>2024-02-10T00:00:00.000+0000</td><td>false</td><td>null</td><td>iOS</td><td>organic</td><td>Activated</td><td>568940cd-f785-472d-b9bd-41f2c506eef6</td><td>2025-06-16T17:40:00.517639</td><td>faker</td><td>82eb56af17ae7fb6eadb50dead1fbe48</td></tr><tr><td>1000041</td><td>Zansi Gade</td><td>yoshitaganguly@example.org</td><td>Female</td><td>Bangladesh</td><td>Chittagong</td><td>2024-09-02T00:00:00.000+0000</td><td>2024-02-11T00:00:00.000+0000</td><td>false</td><td>null</td><td>Desktop</td><td>paid</td><td>Paying</td><td>568940cd-f785-472d-b9bd-41f2c506eef6</td><td>2025-06-16T17:40:00.517639</td><td>faker</td><td>9f0c839bd1902cac7e68a593a78c1dff</td></tr><tr><td>1000042</td><td>Teerth Solanki</td><td>dakshdhaliwal@example.net</td><td>Male</td><td>Sri Lanka</td><td>Kandy</td><td>2024-12-20T00:00:00.000+0000</td><td>2024-02-12T00:00:00.000+0000</td><td>false</td><td>null</td><td>Android</td><td>referral</td><td>Lead</td><td>568940cd-f785-472d-b9bd-41f2c506eef6</td><td>2025-06-16T17:40:00.517639</td><td>faker</td><td>3200cb21b5521f0e8390220e807204b0</td></tr><tr><td>1000043</td><td>Pranit Roy</td><td>jchawla@example.net</td><td>Male</td><td>Nepal</td><td>Pokhara</td><td>2024-11-08T00:00:00.000+0000</td><td>2024-02-13T00:00:00.000+0000</td><td>false</td><td>null</td><td>iOS</td><td>affiliate</td><td>Visitor</td><td>568940cd-f785-472d-b9bd-41f2c506eef6</td><td>2025-06-16T17:40:00.517639</td><td>faker</td><td>b44b207e46fb0a7f04c899652b56a98b</td></tr><tr><td>1000044</td><td>Aahana Hayre</td><td>brahmbhattaditya@example.net</td><td>Female</td><td>India</td><td>Kolkata</td><td>2024-08-23T00:00:00.000+0000</td><td>2024-02-14T00:00:00.000+0000</td><td>false</td><td>null</td><td>Desktop</td><td>organic</td><td>Paying</td><td>568940cd-f785-472d-b9bd-41f2c506eef6</td><td>2025-06-16T17:40:00.517639</td><td>faker</td><td>df3717959c597fdb1fc413b092e455d6</td></tr><tr><td>1000045</td><td>Naksh Parikh</td><td>ekiya32@example.org</td><td>Male</td><td>Singapore</td><td>Singapore</td><td>2024-10-10T00:00:00.000+0000</td><td>2024-02-15T00:00:00.000+0000</td><td>false</td><td>null</td><td>Android</td><td>paid</td><td>Engaged</td><td>568940cd-f785-472d-b9bd-41f2c506eef6</td><td>2025-06-16T17:40:00.517639</td><td>faker</td><td>68b31ecec9c53104a2a55fc216b053d1</td></tr><tr><td>1000046</td><td>Tara Apte</td><td>pbhatti@example.com</td><td>Female</td><td>Japan</td><td>Nagoya</td><td>2024-07-22T00:00:00.000+0000</td><td>2024-02-16T00:00:00.000+0000</td><td>false</td><td>null</td><td>iOS</td><td>referral</td><td>Activated</td><td>568940cd-f785-472d-b9bd-41f2c506eef6</td><td>2025-06-16T17:40:00.517639</td><td>faker</td><td>0c681e6926da744d0183161fcc109bd6</td></tr><tr><td>1000047</td><td>Logan Sethi</td><td>fariqkurian@example.com</td><td>Male</td><td>Indonesia</td><td>Bandung</td><td>2025-01-28T00:00:00.000+0000</td><td>2024-02-17T00:00:00.000+0000</td><td>false</td><td>null</td><td>Desktop</td><td>affiliate</td><td>Lead</td><td>568940cd-f785-472d-b9bd-41f2c506eef6</td><td>2025-06-16T17:40:00.517639</td><td>faker</td><td>c87620e3a1fe5f87f2ce30beada68a0b</td></tr><tr><td>1000048</td><td>Hritik Barad</td><td>pgala@example.org</td><td>Male</td><td>Malaysia</td><td>Johor Bahru</td><td>2025-02-14T00:00:00.000+0000</td><td>2024-02-18T00:00:00.000+0000</td><td>false</td><td>null</td><td>Android</td><td>organic</td><td>Lead</td><td>568940cd-f785-472d-b9bd-41f2c506eef6</td><td>2025-06-16T17:40:00.517639</td><td>faker</td><td>654c314614ab74d5a2d28c0afb00a076</td></tr><tr><td>1000049</td><td>Aditya Mahajan</td><td>omishakrishna@example.org</td><td>Male</td><td>Thailand</td><td>Bangkok</td><td>2024-07-29T00:00:00.000+0000</td><td>2024-02-19T00:00:00.000+0000</td><td>false</td><td>null</td><td>iOS</td><td>paid</td><td>Paying</td><td>568940cd-f785-472d-b9bd-41f2c506eef6</td><td>2025-06-16T17:40:00.517639</td><td>faker</td><td>a01f836d7621510624d196c8ffd0ef13</td></tr></tbody></table></div>"
      ]
     },
     "metadata": {
      "application/vnd.databricks.v1+output": {
       "addedWidgets": {},
       "aggData": [],
       "aggError": "",
       "aggOverflow": false,
       "aggSchema": [],
       "aggSeriesLimitReached": false,
       "aggType": "",
       "arguments": {},
       "columnCustomDisplayInfos": {},
       "data": [
        [
         1000000,
         "Mohammed Kalita",
         "jarya@example.net",
         "Male",
         "India",
         "Mumbai",
         "2025-01-12T00:00:00.000+0000",
         "2024-01-01T00:00:00.000+0000",
         false,
         null,
         "Android",
         "organic",
         "Visitor",
         "568940cd-f785-472d-b9bd-41f2c506eef6",
         "2025-06-16T17:40:00.517639",
         "faker",
         "7b6856c7f37dbd1641ec66d2d4d2c93e"
        ],
        [
         1000001,
         "Adya Mishra",
         "ravaladvik@example.com",
         "Female",
         "Singapore",
         "Singapore",
         "2024-06-26T00:00:00.000+0000",
         "2024-01-02T00:00:00.000+0000",
         false,
         null,
         "iOS",
         "paid",
         "Retained",
         "568940cd-f785-472d-b9bd-41f2c506eef6",
         "2025-06-16T17:40:00.517639",
         "faker",
         "c5638a19ab075a2e2f06e8d29fe0412a"
        ],
        [
         1000002,
         "Nitesh Khosla",
         "lallajagat@example.org",
         "Male",
         "Japan",
         "Tokyo",
         "2025-01-15T00:00:00.000+0000",
         "2024-01-03T00:00:00.000+0000",
         false,
         null,
         "Desktop",
         "referral",
         "Engaged",
         "568940cd-f785-472d-b9bd-41f2c506eef6",
         "2025-06-16T17:40:00.517639",
         "faker",
         "aa268998bf329d1c03738599615af72f"
        ],
        [
         1000003,
         "Krisha Sodhi",
         "warda27@example.org",
         "Female",
         "Indonesia",
         "Jakarta",
         "2024-07-12T00:00:00.000+0000",
         "2024-01-04T00:00:00.000+0000",
         true,
         "2024-03-09",
         "Android",
         "affiliate",
         "Lost",
         "568940cd-f785-472d-b9bd-41f2c506eef6",
         "2025-06-16T17:40:00.517639",
         "faker",
         "cbbfc1cd71adab759fbc596bce1e1c97"
        ],
        [
         1000004,
         "Anita Walla",
         "zsathe@example.org",
         "Female",
         "Malaysia",
         "Johor Bahru",
         "2024-10-20T00:00:00.000+0000",
         "2024-01-05T00:00:00.000+0000",
         false,
         null,
         "iOS",
         "organic",
         "Activated",
         "568940cd-f785-472d-b9bd-41f2c506eef6",
         "2025-06-16T17:40:00.517639",
         "faker",
         "a03ec14fccd5ff1c3116afbd3521adde"
        ],
        [
         1000005,
         "Ansh Lall",
         "birgirish@example.net",
         "Male",
         "Thailand",
         "Phuket",
         "2024-11-03T00:00:00.000+0000",
         "2024-01-06T00:00:00.000+0000",
         false,
         null,
         "Desktop",
         "paid",
         "Paying",
         "568940cd-f785-472d-b9bd-41f2c506eef6",
         "2025-06-16T17:40:00.517639",
         "faker",
         "d9a28f0a4d9fd2a232bbea60b4d51a96"
        ],
        [
         1000006,
         "Hritik Thaker",
         "qrao@example.net",
         "Male",
         "Philippines",
         "Manila",
         "2025-01-08T00:00:00.000+0000",
         "2024-01-07T00:00:00.000+0000",
         false,
         null,
         "Android",
         "referral",
         "Engaged",
         "568940cd-f785-472d-b9bd-41f2c506eef6",
         "2025-06-16T17:40:00.517639",
         "faker",
         "c1b4c6ecea9fbcc67b5dd1b0833514ae"
        ],
        [
         1000007,
         "Chanchal Mannan",
         "daksheshpillai@example.com",
         "Female",
         "Vietnam",
         "Da Nang",
         "2024-06-27T00:00:00.000+0000",
         "2024-01-08T00:00:00.000+0000",
         false,
         null,
         "iOS",
         "affiliate",
         "Visitor",
         "568940cd-f785-472d-b9bd-41f2c506eef6",
         "2025-06-16T17:40:00.517639",
         "faker",
         "9a5cc92f73a20069c57972d3581b4f90"
        ],
        [
         1000008,
         "Viraj Saran",
         "hraval@example.com",
         "Male",
         "Bangladesh",
         "Khulna",
         "2024-12-10T00:00:00.000+0000",
         "2024-01-09T00:00:00.000+0000",
         false,
         null,
         "Desktop",
         "organic",
         "Activated",
         "568940cd-f785-472d-b9bd-41f2c506eef6",
         "2025-06-16T17:40:00.517639",
         "faker",
         "ff661db6e2b8b47b954261737f4479ae"
        ],
        [
         1000009,
         "Nicholas Chacko",
         "poojaram@example.com",
         "Male",
         "Sri Lanka",
         "Kandy",
         "2024-11-23T00:00:00.000+0000",
         "2024-01-10T00:00:00.000+0000",
         false,
         null,
         "Android",
         "paid",
         "Paying",
         "568940cd-f785-472d-b9bd-41f2c506eef6",
         "2025-06-16T17:40:00.517639",
         "faker",
         "99136f8dd9a0114f90adf1933452813d"
        ],
        [
         1000010,
         "Yahvi Bajaj",
         "aashinanda@example.com",
         "Female",
         "Nepal",
         "Pokhara",
         "2024-08-21T00:00:00.000+0000",
         "2024-01-11T00:00:00.000+0000",
         false,
         null,
         "iOS",
         "referral",
         "Lead",
         "568940cd-f785-472d-b9bd-41f2c506eef6",
         "2025-06-16T17:40:00.517639",
         "faker",
         "dde618e10631ebfc971194813ee9b610"
        ],
        [
         1000011,
         "Vasana Acharya",
         "nihalborde@example.com",
         "Female",
         "India",
         "Kolkata",
         "2024-09-12T00:00:00.000+0000",
         "2024-01-12T00:00:00.000+0000",
         false,
         null,
         "Desktop",
         "affiliate",
         "Activated",
         "568940cd-f785-472d-b9bd-41f2c506eef6",
         "2025-06-16T17:40:00.517639",
         "faker",
         "feb9df8fb46ce5eece98c6a3ff419e7d"
        ],
        [
         1000012,
         "Lavanya Sharaf",
         "semabha@example.net",
         "Female",
         "Singapore",
         "Singapore",
         "2024-10-02T00:00:00.000+0000",
         "2024-01-13T00:00:00.000+0000",
         false,
         null,
         "Android",
         "organic",
         "Engaged",
         "568940cd-f785-472d-b9bd-41f2c506eef6",
         "2025-06-16T17:40:00.517639",
         "faker",
         "f1602a679cde893df1e1b87c5daf1de1"
        ],
        [
         1000013,
         "Indira Agarwal",
         "kritikabaral@example.com",
         "Female",
         "Japan",
         "Osaka",
         "2024-07-18T00:00:00.000+0000",
         "2024-01-14T00:00:00.000+0000",
         false,
         null,
         "iOS",
         "paid",
         "Retained",
         "568940cd-f785-472d-b9bd-41f2c506eef6",
         "2025-06-16T17:40:00.517639",
         "faker",
         "9c19278ee8bd65643086608c59e4590b"
        ],
        [
         1000014,
         "Ria Mandal",
         "warinder06@example.com",
         "Female",
         "Indonesia",
         "Surabaya",
         "2024-06-17T00:00:00.000+0000",
         "2024-01-15T00:00:00.000+0000",
         false,
         null,
         "Desktop",
         "referral",
         "Activated",
         "568940cd-f785-472d-b9bd-41f2c506eef6",
         "2025-06-16T17:40:00.517639",
         "faker",
         "e3def0f1d15588e12e957d4ba2ee604a"
        ],
        [
         1000015,
         "Harinakshi Dayal",
         "pauthomas@example.com",
         "Female",
         "Malaysia",
         "Kuala Lumpur",
         "2025-01-20T00:00:00.000+0000",
         "2024-01-16T00:00:00.000+0000",
         false,
         null,
         "Android",
         "affiliate",
         "Paying",
         "568940cd-f785-472d-b9bd-41f2c506eef6",
         "2025-06-16T17:40:00.517639",
         "faker",
         "cac3cdf9e80a7d94be17af405f34690a"
        ],
        [
         1000016,
         "Michael Saha",
         "vrittipatel@example.net",
         "Male",
         "Thailand",
         "Chiang Mai",
         "2024-12-28T00:00:00.000+0000",
         "2024-01-17T00:00:00.000+0000",
         false,
         null,
         "iOS",
         "organic",
         "Retained",
         "568940cd-f785-472d-b9bd-41f2c506eef6",
         "2025-06-16T17:40:00.517639",
         "faker",
         "fcec8d3710c0ffc7ffc758afda8760d3"
        ],
        [
         1000017,
         "Tarak Arya",
         "agarwalvarsha@example.net",
         "Male",
         "Philippines",
         "Davao",
         "2024-10-23T00:00:00.000+0000",
         "2024-01-18T00:00:00.000+0000",
         false,
         null,
         "Desktop",
         "paid",
         "Paying",
         "568940cd-f785-472d-b9bd-41f2c506eef6",
         "2025-06-16T17:40:00.517639",
         "faker",
         "858232af8d5a3ff1d47234d13144825d"
        ],
        [
         1000018,
         "Prisha Chana",
         "gournaveen@example.net",
         "Female",
         "Vietnam",
         "Da Nang",
         "2024-09-27T00:00:00.000+0000",
         "2024-01-19T00:00:00.000+0000",
         false,
         null,
         "Android",
         "referral",
         "Paying",
         "568940cd-f785-472d-b9bd-41f2c506eef6",
         "2025-06-16T17:40:00.517639",
         "faker",
         "3c127826ac2cf1ac39721031ca3bdb30"
        ],
        [
         1000019,
         "Jeremiah Malhotra",
         "gdevan@example.com",
         "Male",
         "Bangladesh",
         "Chittagong",
         "2024-07-16T00:00:00.000+0000",
         "2024-01-20T00:00:00.000+0000",
         false,
         null,
         "iOS",
         "affiliate",
         "Paying",
         "568940cd-f785-472d-b9bd-41f2c506eef6",
         "2025-06-16T17:40:00.517639",
         "faker",
         "b94afc10cb04914ccc1787e1cf711d33"
        ],
        [
         1000020,
         "Gunbir Chaudhari",
         "chadaanirudh@example.com",
         "Male",
         "Sri Lanka",
         "Colombo",
         "2024-12-21T00:00:00.000+0000",
         "2024-01-21T00:00:00.000+0000",
         false,
         null,
         "Desktop",
         "organic",
         "Paying",
         "568940cd-f785-472d-b9bd-41f2c506eef6",
         "2025-06-16T17:40:00.517639",
         "faker",
         "db0b8c891a044ca81bd80100d341e13c"
        ],
        [
         1000021,
         "Forum Ahluwalia",
         "jthakkar@example.org",
         "Female",
         "Nepal",
         "Kathmandu",
         "2024-07-09T00:00:00.000+0000",
         "2024-01-22T00:00:00.000+0000",
         false,
         null,
         "Android",
         "paid",
         "Visitor",
         "568940cd-f785-472d-b9bd-41f2c506eef6",
         "2025-06-16T17:40:00.517639",
         "faker",
         "61529f0844cfd942c90792dd95ddef1b"
        ],
        [
         1000022,
         "Triveni Sandhu",
         "karanyogi@example.net",
         "Female",
         "India",
         "Delhi",
         "2024-09-26T00:00:00.000+0000",
         "2024-01-23T00:00:00.000+0000",
         false,
         null,
         "iOS",
         "referral",
         "Retained",
         "568940cd-f785-472d-b9bd-41f2c506eef6",
         "2025-06-16T17:40:00.517639",
         "faker",
         "24fa61b745c1fdff57196f064732f170"
        ],
        [
         1000023,
         "Suhani Mitter",
         "vbhalla@example.org",
         "Female",
         "Singapore",
         "Singapore",
         "2024-08-22T00:00:00.000+0000",
         "2024-01-24T00:00:00.000+0000",
         false,
         null,
         "Desktop",
         "affiliate",
         "Paying",
         "568940cd-f785-472d-b9bd-41f2c506eef6",
         "2025-06-16T17:40:00.517639",
         "faker",
         "6928bede008577b9accde3a98b354e39"
        ],
        [
         1000024,
         "Amara Patil",
         "mohammedbassi@example.org",
         "Female",
         "Japan",
         "Kyoto",
         "2024-07-22T00:00:00.000+0000",
         "2024-01-25T00:00:00.000+0000",
         false,
         null,
         "Android",
         "organic",
         "Paying",
         "568940cd-f785-472d-b9bd-41f2c506eef6",
         "2025-06-16T17:40:00.517639",
         "faker",
         "dab55e8508386940b88b87a92a42defb"
        ],
        [
         1000025,
         "Nachiket Walla",
         "daminioak@example.com",
         "Male",
         "Indonesia",
         "Jakarta",
         "2024-12-28T00:00:00.000+0000",
         "2024-01-26T00:00:00.000+0000",
         false,
         null,
         "iOS",
         "paid",
         "Paying",
         "568940cd-f785-472d-b9bd-41f2c506eef6",
         "2025-06-16T17:40:00.517639",
         "faker",
         "4d8c3536efc1b0975f7c1f3cb35c3c06"
        ],
        [
         1000026,
         "Nathan Gole",
         "hpalla@example.net",
         "Male",
         "Malaysia",
         "Kuala Lumpur",
         "2025-02-19T00:00:00.000+0000",
         "2024-01-27T00:00:00.000+0000",
         false,
         null,
         "Desktop",
         "referral",
         "Paying",
         "568940cd-f785-472d-b9bd-41f2c506eef6",
         "2025-06-16T17:40:00.517639",
         "faker",
         "5b692eaadccb88050d44bce8d66e632e"
        ],
        [
         1000027,
         "Omaja Issac",
         "anmol96@example.net",
         "Female",
         "Thailand",
         "Chiang Mai",
         "2024-07-28T00:00:00.000+0000",
         "2024-01-28T00:00:00.000+0000",
         false,
         null,
         "Android",
         "affiliate",
         "Activated",
         "568940cd-f785-472d-b9bd-41f2c506eef6",
         "2025-06-16T17:40:00.517639",
         "faker",
         "4e4b3bd73fe843e5b5c9c330b0982e82"
        ],
        [
         1000028,
         "Wyatt Manda",
         "warhi48@example.net",
         "Male",
         "Philippines",
         "Cebu",
         "2025-01-20T00:00:00.000+0000",
         "2024-01-29T00:00:00.000+0000",
         false,
         null,
         "iOS",
         "organic",
         "Paying",
         "568940cd-f785-472d-b9bd-41f2c506eef6",
         "2025-06-16T17:40:00.517639",
         "faker",
         "cd1ffc1c45ec655529e3459455221d40"
        ],
        [
         1000029,
         "Lekha Golla",
         "dalbir49@example.com",
         "Female",
         "Vietnam",
         "Hanoi",
         "2025-01-26T00:00:00.000+0000",
         "2024-01-30T00:00:00.000+0000",
         false,
         null,
         "Desktop",
         "paid",
         "Activated",
         "568940cd-f785-472d-b9bd-41f2c506eef6",
         "2025-06-16T17:40:00.517639",
         "faker",
         "44ac46c0b244248bf5317f2fc8819c1b"
        ],
        [
         1000030,
         "Shaurya Varty",
         "nagymanan@example.net",
         "Male",
         "Bangladesh",
         "Dhaka",
         "2024-10-03T00:00:00.000+0000",
         "2024-01-31T00:00:00.000+0000",
         false,
         null,
         "Android",
         "referral",
         "Visitor",
         "568940cd-f785-472d-b9bd-41f2c506eef6",
         "2025-06-16T17:40:00.517639",
         "faker",
         "734344b44a9b597a49fd23ee4da48d8d"
        ],
        [
         1000031,
         "Indrajit Date",
         "idikaraja@example.net",
         "Male",
         "Sri Lanka",
         "Galle",
         "2024-10-16T00:00:00.000+0000",
         "2024-02-01T00:00:00.000+0000",
         false,
         null,
         "iOS",
         "affiliate",
         "Paying",
         "568940cd-f785-472d-b9bd-41f2c506eef6",
         "2025-06-16T17:40:00.517639",
         "faker",
         "f90637e53512ce3045548bdb11515258"
        ],
        [
         1000032,
         "Chavvi Rajagopal",
         "ipalla@example.net",
         "Female",
         "Nepal",
         "Lalitpur",
         "2024-09-04T00:00:00.000+0000",
         "2024-02-02T00:00:00.000+0000",
         false,
         null,
         "Desktop",
         "organic",
         "Retained",
         "568940cd-f785-472d-b9bd-41f2c506eef6",
         "2025-06-16T17:40:00.517639",
         "faker",
         "505ad22bc2511a27b5054085239145d4"
        ],
        [
         1000033,
         "Rajeshri Thakur",
         "rsaran@example.com",
         "Female",
         "India",
         "Delhi",
         "2024-09-11T00:00:00.000+0000",
         "2024-02-03T00:00:00.000+0000",
         true,
         "2024-04-07",
         "Android",
         "paid",
         "Lost",
         "568940cd-f785-472d-b9bd-41f2c506eef6",
         "2025-06-16T17:40:00.517639",
         "faker",
         "447c9b05cc2672e6b07f5a7f6b0abd75"
        ],
        [
         1000034,
         "Rushil Pathak",
         "urvi47@example.net",
         "Male",
         "Singapore",
         "Singapore",
         "2024-07-07T00:00:00.000+0000",
         "2024-02-04T00:00:00.000+0000",
         false,
         null,
         "iOS",
         "referral",
         "Paying",
         "568940cd-f785-472d-b9bd-41f2c506eef6",
         "2025-06-16T17:40:00.517639",
         "faker",
         "1d5d393dc1f600bb1c8ca82d697b4483"
        ],
        [
         1000035,
         "Balveer Deep",
         "iapte@example.org",
         "Male",
         "Japan",
         "Kyoto",
         "2024-09-10T00:00:00.000+0000",
         "2024-02-05T00:00:00.000+0000",
         true,
         "2024-04-11",
         "Desktop",
         "affiliate",
         "Lost",
         "568940cd-f785-472d-b9bd-41f2c506eef6",
         "2025-06-16T17:40:00.517639",
         "faker",
         "60543c42f8b9562c6528b6940146e825"
        ],
        [
         1000036,
         "Samaksh Baria",
         "xagarwal@example.com",
         "Male",
         "Indonesia",
         "Surabaya",
         "2024-07-18T00:00:00.000+0000",
         "2024-02-06T00:00:00.000+0000",
         false,
         null,
         "Android",
         "organic",
         "Engaged",
         "568940cd-f785-472d-b9bd-41f2c506eef6",
         "2025-06-16T17:40:00.517639",
         "faker",
         "1c67343b44b97c237b8f0aee5d6ab853"
        ],
        [
         1000037,
         "Amol Nair",
         "kotharivedhika@example.net",
         "Male",
         "Malaysia",
         "Kuala Lumpur",
         "2024-09-27T00:00:00.000+0000",
         "2024-02-07T00:00:00.000+0000",
         false,
         null,
         "iOS",
         "paid",
         "Retained",
         "568940cd-f785-472d-b9bd-41f2c506eef6",
         "2025-06-16T17:40:00.517639",
         "faker",
         "9be3c3da6defc85dbcd3463756556532"
        ],
        [
         1000038,
         "Yochana Bora",
         "majumdarmitesh@example.org",
         "Female",
         "Thailand",
         "Bangkok",
         "2025-01-25T00:00:00.000+0000",
         "2024-02-08T00:00:00.000+0000",
         false,
         null,
         "Desktop",
         "referral",
         "Paying",
         "568940cd-f785-472d-b9bd-41f2c506eef6",
         "2025-06-16T17:40:00.517639",
         "faker",
         "c3af4faec5fadae87b1f3effeae33d24"
        ],
        [
         1000039,
         "Ria Vyas",
         "darsh45@example.com",
         "Female",
         "Philippines",
         "Manila",
         "2024-11-18T00:00:00.000+0000",
         "2024-02-09T00:00:00.000+0000",
         false,
         null,
         "Android",
         "affiliate",
         "Paying",
         "568940cd-f785-472d-b9bd-41f2c506eef6",
         "2025-06-16T17:40:00.517639",
         "faker",
         "d8ca414447f6d606f459dd18221ce3e0"
        ],
        [
         1000040,
         "Nitesh Rege",
         "omishakapur@example.com",
         "Male",
         "Vietnam",
         "Da Nang",
         "2024-07-03T00:00:00.000+0000",
         "2024-02-10T00:00:00.000+0000",
         false,
         null,
         "iOS",
         "organic",
         "Activated",
         "568940cd-f785-472d-b9bd-41f2c506eef6",
         "2025-06-16T17:40:00.517639",
         "faker",
         "82eb56af17ae7fb6eadb50dead1fbe48"
        ],
        [
         1000041,
         "Zansi Gade",
         "yoshitaganguly@example.org",
         "Female",
         "Bangladesh",
         "Chittagong",
         "2024-09-02T00:00:00.000+0000",
         "2024-02-11T00:00:00.000+0000",
         false,
         null,
         "Desktop",
         "paid",
         "Paying",
         "568940cd-f785-472d-b9bd-41f2c506eef6",
         "2025-06-16T17:40:00.517639",
         "faker",
         "9f0c839bd1902cac7e68a593a78c1dff"
        ],
        [
         1000042,
         "Teerth Solanki",
         "dakshdhaliwal@example.net",
         "Male",
         "Sri Lanka",
         "Kandy",
         "2024-12-20T00:00:00.000+0000",
         "2024-02-12T00:00:00.000+0000",
         false,
         null,
         "Android",
         "referral",
         "Lead",
         "568940cd-f785-472d-b9bd-41f2c506eef6",
         "2025-06-16T17:40:00.517639",
         "faker",
         "3200cb21b5521f0e8390220e807204b0"
        ],
        [
         1000043,
         "Pranit Roy",
         "jchawla@example.net",
         "Male",
         "Nepal",
         "Pokhara",
         "2024-11-08T00:00:00.000+0000",
         "2024-02-13T00:00:00.000+0000",
         false,
         null,
         "iOS",
         "affiliate",
         "Visitor",
         "568940cd-f785-472d-b9bd-41f2c506eef6",
         "2025-06-16T17:40:00.517639",
         "faker",
         "b44b207e46fb0a7f04c899652b56a98b"
        ],
        [
         1000044,
         "Aahana Hayre",
         "brahmbhattaditya@example.net",
         "Female",
         "India",
         "Kolkata",
         "2024-08-23T00:00:00.000+0000",
         "2024-02-14T00:00:00.000+0000",
         false,
         null,
         "Desktop",
         "organic",
         "Paying",
         "568940cd-f785-472d-b9bd-41f2c506eef6",
         "2025-06-16T17:40:00.517639",
         "faker",
         "df3717959c597fdb1fc413b092e455d6"
        ],
        [
         1000045,
         "Naksh Parikh",
         "ekiya32@example.org",
         "Male",
         "Singapore",
         "Singapore",
         "2024-10-10T00:00:00.000+0000",
         "2024-02-15T00:00:00.000+0000",
         false,
         null,
         "Android",
         "paid",
         "Engaged",
         "568940cd-f785-472d-b9bd-41f2c506eef6",
         "2025-06-16T17:40:00.517639",
         "faker",
         "68b31ecec9c53104a2a55fc216b053d1"
        ],
        [
         1000046,
         "Tara Apte",
         "pbhatti@example.com",
         "Female",
         "Japan",
         "Nagoya",
         "2024-07-22T00:00:00.000+0000",
         "2024-02-16T00:00:00.000+0000",
         false,
         null,
         "iOS",
         "referral",
         "Activated",
         "568940cd-f785-472d-b9bd-41f2c506eef6",
         "2025-06-16T17:40:00.517639",
         "faker",
         "0c681e6926da744d0183161fcc109bd6"
        ],
        [
         1000047,
         "Logan Sethi",
         "fariqkurian@example.com",
         "Male",
         "Indonesia",
         "Bandung",
         "2025-01-28T00:00:00.000+0000",
         "2024-02-17T00:00:00.000+0000",
         false,
         null,
         "Desktop",
         "affiliate",
         "Lead",
         "568940cd-f785-472d-b9bd-41f2c506eef6",
         "2025-06-16T17:40:00.517639",
         "faker",
         "c87620e3a1fe5f87f2ce30beada68a0b"
        ],
        [
         1000048,
         "Hritik Barad",
         "pgala@example.org",
         "Male",
         "Malaysia",
         "Johor Bahru",
         "2025-02-14T00:00:00.000+0000",
         "2024-02-18T00:00:00.000+0000",
         false,
         null,
         "Android",
         "organic",
         "Lead",
         "568940cd-f785-472d-b9bd-41f2c506eef6",
         "2025-06-16T17:40:00.517639",
         "faker",
         "654c314614ab74d5a2d28c0afb00a076"
        ],
        [
         1000049,
         "Aditya Mahajan",
         "omishakrishna@example.org",
         "Male",
         "Thailand",
         "Bangkok",
         "2024-07-29T00:00:00.000+0000",
         "2024-02-19T00:00:00.000+0000",
         false,
         null,
         "iOS",
         "paid",
         "Paying",
         "568940cd-f785-472d-b9bd-41f2c506eef6",
         "2025-06-16T17:40:00.517639",
         "faker",
         "a01f836d7621510624d196c8ffd0ef13"
        ]
       ],
       "datasetInfos": [],
       "dbfsResultPath": null,
       "isJsonSchema": true,
       "metadata": {},
       "overflow": false,
       "plotOptions": {
        "customPlotOptions": {},
        "displayType": "table",
        "pivotAggregation": null,
        "pivotColumns": null,
        "xColumns": null,
        "yColumns": null
       },
       "removedWidgets": [],
       "schema": [
        {
         "metadata": "{}",
         "name": "customer_id",
         "type": "\"long\""
        },
        {
         "metadata": "{}",
         "name": "name",
         "type": "\"string\""
        },
        {
         "metadata": "{}",
         "name": "email",
         "type": "\"string\""
        },
        {
         "metadata": "{}",
         "name": "gender",
         "type": "\"string\""
        },
        {
         "metadata": "{}",
         "name": "country",
         "type": "\"string\""
        },
        {
         "metadata": "{}",
         "name": "city",
         "type": "\"string\""
        },
        {
         "metadata": "{}",
         "name": "signup_date",
         "type": "\"timestamp\""
        },
        {
         "metadata": "{}",
         "name": "activation_date",
         "type": "\"timestamp\""
        },
        {
         "metadata": "{}",
         "name": "churn_flag",
         "type": "\"boolean\""
        },
        {
         "metadata": "{}",
         "name": "churn_date",
         "type": "\"date\""
        },
        {
         "metadata": "{}",
         "name": "device",
         "type": "\"string\""
        },
        {
         "metadata": "{}",
         "name": "signup_source",
         "type": "\"string\""
        },
        {
         "metadata": "{}",
         "name": "lifecycle_stage",
         "type": "\"string\""
        },
        {
         "metadata": "{}",
         "name": "batch_id",
         "type": "\"string\""
        },
        {
         "metadata": "{}",
         "name": "ingest_ts",
         "type": "\"string\""
        },
        {
         "metadata": "{}",
         "name": "source",
         "type": "\"string\""
        },
        {
         "metadata": "{}",
         "name": "record_hash",
         "type": "\"string\""
        }
       ],
       "type": "table"
      }
     },
     "output_type": "display_data"
    }
   ],
   "source": [
    "display(df_customers.limit(50))"
   ]
  },
  {
   "cell_type": "code",
   "execution_count": 0,
   "metadata": {
    "application/vnd.databricks.v1+cell": {
     "cellMetadata": {
      "byteLimit": 2048000,
      "rowLimit": 10000
     },
     "inputWidgets": {},
     "nuid": "e0a0762d-0e63-454d-aa8d-f91cf306d919",
     "showTitle": true,
     "tableResultSettingsMap": {},
     "title": "Transaction"
    }
   },
   "outputs": [
    {
     "output_type": "display_data",
     "data": {
      "text/html": [
       "<style scoped>\n",
       "  .table-result-container {\n",
       "    max-height: 300px;\n",
       "    overflow: auto;\n",
       "  }\n",
       "  table, th, td {\n",
       "    border: 1px solid black;\n",
       "    border-collapse: collapse;\n",
       "  }\n",
       "  th, td {\n",
       "    padding: 5px;\n",
       "  }\n",
       "  th {\n",
       "    text-align: left;\n",
       "  }\n",
       "</style><div class='table-result-container'><table class='table-result'><thead style='background-color: white'><tr><th>transaction_id</th><th>customer_id</th><th>customer_name</th><th>product_name</th><th>product_category</th><th>payment_date</th><th>amount</th><th>refund_flag</th><th>plan_type</th><th>payment_method</th><th>batch_id</th><th>ingest_ts</th><th>source</th><th>record_hash</th></tr></thead><tbody><tr><td>200000</td><td>1000615</td><td>Yagnesh Dora</td><td>Quinoa</td><td>Grains</td><td>2024-11-29</td><td>80.0</td><td>true</td><td>Free</td><td>UPI</td><td>5000</td><td>2025-06-16T17:45:16.952+0000</td><td>app</td><td>ee81c04491da08f668c84208758843639c3320c7f1ef64a53dc418d89b9c5ee3</td></tr><tr><td>200001</td><td>1000379</td><td>Krishna Wable</td><td>Frozen entrees</td><td>Frozen</td><td>2024-03-14</td><td>140.0</td><td>false</td><td>Basic</td><td>Wallet</td><td>5001</td><td>2025-06-16T17:45:16.952+0000</td><td>web</td><td>962a8dae862ef6a60a6bed2e03de321cef464e1260ed880c1399f012a5b39ec8</td></tr><tr><td>200002</td><td>1000485</td><td>Vrinda Som</td><td>Mayonnaise</td><td>Condiments</td><td>2024-06-02</td><td>60.0</td><td>true</td><td>Premium</td><td>Card</td><td>5002</td><td>2025-06-16T17:45:16.952+0000</td><td>api</td><td>aac30b156607b4631c2b365da1900299a0f032559e7edd9283fd334615a2cb87</td></tr><tr><td>200003</td><td>1000869</td><td>Nathan Ghosh</td><td>Yogurt</td><td>Dairy</td><td>2024-07-27</td><td>30.0</td><td>false</td><td>null</td><td>NetBanking</td><td>5003</td><td>2025-06-16T17:45:16.952+0000</td><td>app</td><td>f07876fe032ff06b510ebfd99ee841192a6dad0f705748cc25f18d1a77c00ebe</td></tr><tr><td>200004</td><td>1000458</td><td>Jhalak Salvi</td><td>Frozen pizza</td><td>Frozen</td><td>2024-05-21</td><td>130.0</td><td>true</td><td>Free</td><td>UPI</td><td>5004</td><td>2025-06-16T17:45:16.952+0000</td><td>web</td><td>0a84a68d67095ce5b8ef08aa5d35da78c8b0f4e6f6a100e65fb83c5b08dac778</td></tr><tr><td>200005</td><td>1000698</td><td>Anamika Prabhakar</td><td>Bananas</td><td>Produce</td><td>2024-12-17</td><td>40.0</td><td>false</td><td>Basic</td><td>Wallet</td><td>5005</td><td>2025-06-16T17:45:16.952+0000</td><td>api</td><td>459f3c8aa22ca6d77a9cc6a4c2d1c7bc358a7c7f064a57bf5c4abbd37bf66465</td></tr><tr><td>200006</td><td>1000052</td><td>Akshay Singh</td><td>Soda</td><td>Beverage</td><td>2024-03-21</td><td>45.0</td><td>true</td><td>Premium</td><td>Card</td><td>5006</td><td>2025-06-16T17:45:16.952+0000</td><td>app</td><td>c1a5a07b8739e383eaa277a51cde4fc1bf942993692940419313777d765a781a</td></tr><tr><td>200007</td><td>1000791</td><td>Isaiah Kuruvilla</td><td>Cheese</td><td>Dairy</td><td>2024-03-03</td><td>90.0</td><td>false</td><td>null</td><td>NetBanking</td><td>5007</td><td>2025-06-16T17:45:16.952+0000</td><td>web</td><td>e8143db93e3c07d920dcda5c5b1c903afaa83b24e1a4e8e0939686cf4452ef06</td></tr><tr><td>200008</td><td>1000802</td><td>Damyanti Lal</td><td>Soda</td><td>Beverage</td><td>2024-05-16</td><td>45.0</td><td>true</td><td>Free</td><td>UPI</td><td>5008</td><td>2025-06-16T17:45:16.952+0000</td><td>api</td><td>d692b2d1568075a8a920e6f5a22a0fc352ee36b06c9a73d700e1e0cbd1bbc621</td></tr><tr><td>200009</td><td>1000966</td><td>Robert Aurora</td><td>Toilet paper</td><td>Household</td><td>2024-09-10</td><td>80.0</td><td>false</td><td>Basic</td><td>Wallet</td><td>5009</td><td>2025-06-16T17:45:16.952+0000</td><td>app</td><td>f0b5a081ba5a3314bbbb0bd0b133fdfcc3b425838b342a6b9087069a33bea4f7</td></tr></tbody></table></div>"
      ]
     },
     "metadata": {
      "application/vnd.databricks.v1+output": {
       "addedWidgets": {},
       "aggData": [],
       "aggError": "",
       "aggOverflow": false,
       "aggSchema": [],
       "aggSeriesLimitReached": false,
       "aggType": "",
       "arguments": {},
       "columnCustomDisplayInfos": {},
       "data": [
        [
         200000,
         1000615,
         "Yagnesh Dora",
         "Quinoa",
         "Grains",
         "2024-11-29",
         80.0,
         true,
         "Free",
         "UPI",
         5000,
         "2025-06-16T17:45:16.952+0000",
         "app",
         "ee81c04491da08f668c84208758843639c3320c7f1ef64a53dc418d89b9c5ee3"
        ],
        [
         200001,
         1000379,
         "Krishna Wable",
         "Frozen entrees",
         "Frozen",
         "2024-03-14",
         140.0,
         false,
         "Basic",
         "Wallet",
         5001,
         "2025-06-16T17:45:16.952+0000",
         "web",
         "962a8dae862ef6a60a6bed2e03de321cef464e1260ed880c1399f012a5b39ec8"
        ],
        [
         200002,
         1000485,
         "Vrinda Som",
         "Mayonnaise",
         "Condiments",
         "2024-06-02",
         60.0,
         true,
         "Premium",
         "Card",
         5002,
         "2025-06-16T17:45:16.952+0000",
         "api",
         "aac30b156607b4631c2b365da1900299a0f032559e7edd9283fd334615a2cb87"
        ],
        [
         200003,
         1000869,
         "Nathan Ghosh",
         "Yogurt",
         "Dairy",
         "2024-07-27",
         30.0,
         false,
         null,
         "NetBanking",
         5003,
         "2025-06-16T17:45:16.952+0000",
         "app",
         "f07876fe032ff06b510ebfd99ee841192a6dad0f705748cc25f18d1a77c00ebe"
        ],
        [
         200004,
         1000458,
         "Jhalak Salvi",
         "Frozen pizza",
         "Frozen",
         "2024-05-21",
         130.0,
         true,
         "Free",
         "UPI",
         5004,
         "2025-06-16T17:45:16.952+0000",
         "web",
         "0a84a68d67095ce5b8ef08aa5d35da78c8b0f4e6f6a100e65fb83c5b08dac778"
        ],
        [
         200005,
         1000698,
         "Anamika Prabhakar",
         "Bananas",
         "Produce",
         "2024-12-17",
         40.0,
         false,
         "Basic",
         "Wallet",
         5005,
         "2025-06-16T17:45:16.952+0000",
         "api",
         "459f3c8aa22ca6d77a9cc6a4c2d1c7bc358a7c7f064a57bf5c4abbd37bf66465"
        ],
        [
         200006,
         1000052,
         "Akshay Singh",
         "Soda",
         "Beverage",
         "2024-03-21",
         45.0,
         true,
         "Premium",
         "Card",
         5006,
         "2025-06-16T17:45:16.952+0000",
         "app",
         "c1a5a07b8739e383eaa277a51cde4fc1bf942993692940419313777d765a781a"
        ],
        [
         200007,
         1000791,
         "Isaiah Kuruvilla",
         "Cheese",
         "Dairy",
         "2024-03-03",
         90.0,
         false,
         null,
         "NetBanking",
         5007,
         "2025-06-16T17:45:16.952+0000",
         "web",
         "e8143db93e3c07d920dcda5c5b1c903afaa83b24e1a4e8e0939686cf4452ef06"
        ],
        [
         200008,
         1000802,
         "Damyanti Lal",
         "Soda",
         "Beverage",
         "2024-05-16",
         45.0,
         true,
         "Free",
         "UPI",
         5008,
         "2025-06-16T17:45:16.952+0000",
         "api",
         "d692b2d1568075a8a920e6f5a22a0fc352ee36b06c9a73d700e1e0cbd1bbc621"
        ],
        [
         200009,
         1000966,
         "Robert Aurora",
         "Toilet paper",
         "Household",
         "2024-09-10",
         80.0,
         false,
         "Basic",
         "Wallet",
         5009,
         "2025-06-16T17:45:16.952+0000",
         "app",
         "f0b5a081ba5a3314bbbb0bd0b133fdfcc3b425838b342a6b9087069a33bea4f7"
        ]
       ],
       "datasetInfos": [],
       "dbfsResultPath": null,
       "isJsonSchema": true,
       "metadata": {},
       "overflow": false,
       "plotOptions": {
        "customPlotOptions": {},
        "displayType": "table",
        "pivotAggregation": null,
        "pivotColumns": null,
        "xColumns": null,
        "yColumns": null
       },
       "removedWidgets": [],
       "schema": [
        {
         "metadata": "{}",
         "name": "transaction_id",
         "type": "\"long\""
        },
        {
         "metadata": "{}",
         "name": "customer_id",
         "type": "\"long\""
        },
        {
         "metadata": "{}",
         "name": "customer_name",
         "type": "\"string\""
        },
        {
         "metadata": "{}",
         "name": "product_name",
         "type": "\"string\""
        },
        {
         "metadata": "{}",
         "name": "product_category",
         "type": "\"string\""
        },
        {
         "metadata": "{}",
         "name": "payment_date",
         "type": "\"date\""
        },
        {
         "metadata": "{}",
         "name": "amount",
         "type": "\"float\""
        },
        {
         "metadata": "{}",
         "name": "refund_flag",
         "type": "\"boolean\""
        },
        {
         "metadata": "{}",
         "name": "plan_type",
         "type": "\"string\""
        },
        {
         "metadata": "{}",
         "name": "payment_method",
         "type": "\"string\""
        },
        {
         "metadata": "{}",
         "name": "batch_id",
         "type": "\"long\""
        },
        {
         "metadata": "{}",
         "name": "ingest_ts",
         "type": "\"timestamp\""
        },
        {
         "metadata": "{}",
         "name": "source",
         "type": "\"string\""
        },
        {
         "metadata": "{}",
         "name": "record_hash",
         "type": "\"string\""
        }
       ],
       "type": "table"
      }
     },
     "output_type": "display_data"
    }
   ],
   "source": [
    "from datetime import timedelta\n",
    "from pyspark.sql.types import StringType, FloatType, BooleanType, DateType\n",
    "from pyspark.sql.functions import expr\n",
    "import dbldatagen as dg\n",
    "import random\n",
    "from faker import Faker\n",
    "\n",
    "fake = Faker()\n",
    "spark.conf.set(\"spark.sql.shuffle.partitions\", \"4\")\n",
    "\n",
    "# Step 1: Filter relevant customers\n",
    "customer_df = spark.sql(\"\"\"\n",
    "    SELECT customer_id, name, activation_date, churn_date, lifecycle_stage\n",
    "    FROM customers\n",
    "    WHERE lifecycle_stage IN ('Paying', 'Retained', 'Lost')\n",
    "\"\"\").cache()\n",
    "\n",
    "customer_ids = [row['customer_id'] for row in customer_df.collect()]\n",
    "customer_names = {row['customer_id']: row['name'] for row in customer_df.collect()}\n",
    "customer_activation = {row['customer_id']: row['activation_date'] for row in customer_df.collect()}\n",
    "customer_churn = {row['customer_id']: row['churn_date'] for row in customer_df.collect()}\n",
    "\n",
    "# Step 2: Sampling strategy\n",
    "vip_customers = random.sample(customer_ids, int(0.1 * len(customer_ids)))\n",
    "weighted_customer_ids = customer_ids + vip_customers * 4\n",
    "\n",
    "num_transactions = 5000\n",
    "customer_id_samples = random.choices(weighted_customer_ids, k=num_transactions)\n",
    "customer_name_samples = [customer_names[cid] for cid in customer_id_samples]\n",
    "\n",
    "# Step 3: Payment dates between activation and churn\n",
    "payment_dates = []\n",
    "for cid in customer_id_samples:\n",
    "    start = customer_activation[cid]\n",
    "    end = customer_churn[cid] if customer_churn[cid] else start + timedelta(days=90)\n",
    "\n",
    "    # Ensure both are datetime\n",
    "    if isinstance(start, date) and not isinstance(start, datetime):\n",
    "        start = datetime.combine(start, datetime.min.time())\n",
    "    if isinstance(end, date) and not isinstance(end, datetime):\n",
    "        end = datetime.combine(end, datetime.min.time())\n",
    "\n",
    "    days_range = max((end - start).days, 1)\n",
    "    offset = random.randint(1, days_range)\n",
    "    payment_dates.append(start + timedelta(days=offset))\n",
    "\n",
    "# Step 4: Full product list with prices\n",
    "product_names = [\n",
    "    \"Milk\", \"Cheese\", \"Yogurt\", \"Apples\", \"Bananas\", \"Lettuce\", \"Tomatoes\", \"Tomato sauce\",\n",
    "    \"Canned beans\", \"Canned soup\", \"Spaghetti\", \"Rice\", \"Quinoa\", \"Oatmeal\", \"Potato chips\",\n",
    "    \"Pretzels\", \"Nuts\", \"Soda\", \"Bottled water\", \"Coffee\", \"Tea\", \"Frozen pizza\",\n",
    "    \"Frozen vegetables\", \"Ice cream\", \"Frozen entrees\", \"Sliced bread\", \"Bagels\",\n",
    "    \"Hamburger and hot dog buns\", \"Pastries\", \"Ketchup\", \"Mustard\", \"Mayonnaise\", \"BBQ sauce\",\n",
    "    \"Soy sauce\", \"Salad dressing\", \"Toilet paper\", \"Paper towels\", \"Laundry detergent\",\n",
    "    \"Dish soap\", \"Trash bags\"\n",
    "]\n",
    "\n",
    "product_categories = {\n",
    "    \"Milk\": \"Dairy\", \"Cheese\": \"Dairy\", \"Yogurt\": \"Dairy\",\n",
    "    \"Apples\": \"Produce\", \"Bananas\": \"Produce\", \"Lettuce\": \"Produce\", \"Tomatoes\": \"Produce\",\n",
    "    \"Tomato sauce\": \"Canned\", \"Canned beans\": \"Canned\", \"Canned soup\": \"Canned\",\n",
    "    \"Spaghetti\": \"Grains\", \"Rice\": \"Grains\", \"Quinoa\": \"Grains\", \"Oatmeal\": \"Grains\",\n",
    "    \"Potato chips\": \"Snacks\", \"Pretzels\": \"Snacks\", \"Nuts\": \"Snacks\",\n",
    "    \"Soda\": \"Beverage\", \"Bottled water\": \"Beverage\", \"Coffee\": \"Beverage\", \"Tea\": \"Beverage\",\n",
    "    \"Frozen pizza\": \"Frozen\", \"Frozen vegetables\": \"Frozen\", \"Ice cream\": \"Frozen\", \"Frozen entrees\": \"Frozen\",\n",
    "    \"Sliced bread\": \"Bakery\", \"Bagels\": \"Bakery\", \"Hamburger and hot dog buns\": \"Bakery\", \"Pastries\": \"Bakery\",\n",
    "    \"Ketchup\": \"Condiments\", \"Mustard\": \"Condiments\", \"Mayonnaise\": \"Condiments\", \"BBQ sauce\": \"Condiments\",\n",
    "    \"Soy sauce\": \"Condiments\", \"Salad dressing\": \"Condiments\",\n",
    "    \"Toilet paper\": \"Household\", \"Paper towels\": \"Household\", \"Laundry detergent\": \"Household\",\n",
    "    \"Dish soap\": \"Household\", \"Trash bags\": \"Household\"\n",
    "}\n",
    "\n",
    "product_prices = {\n",
    "    \"Milk\": 45, \"Cheese\": 90, \"Yogurt\": 30, \"Apples\": 50, \"Bananas\": 40, \"Lettuce\": 35, \"Tomatoes\": 48,\n",
    "    \"Tomato sauce\": 55, \"Canned beans\": 65, \"Canned soup\": 70, \"Spaghetti\": 72, \"Rice\": 60, \"Quinoa\": 80,\n",
    "    \"Oatmeal\": 50, \"Potato chips\": 35, \"Pretzels\": 38, \"Nuts\": 120, \"Soda\": 45, \"Bottled water\": 20,\n",
    "    \"Coffee\": 150, \"Tea\": 70, \"Frozen pizza\": 130, \"Frozen vegetables\": 60, \"Ice cream\": 90,\n",
    "    \"Frozen entrees\": 140, \"Sliced bread\": 35, \"Bagels\": 40, \"Hamburger and hot dog buns\": 42,\n",
    "    \"Pastries\": 55, \"Ketchup\": 40, \"Mustard\": 42, \"Mayonnaise\": 60, \"BBQ sauce\": 65, \"Soy sauce\": 50,\n",
    "    \"Salad dressing\": 70, \"Toilet paper\": 80, \"Paper towels\": 75, \"Laundry detergent\": 120,\n",
    "    \"Dish soap\": 60, \"Trash bags\": 85\n",
    "}\n",
    "\n",
    "product_samples = random.choices(product_names, k=num_transactions)\n",
    "product_category_samples = [product_categories[p] for p in product_samples]\n",
    "product_price_samples = [float(product_prices[p]) for p in product_samples]\n",
    "\n",
    "# Other configurations\n",
    "plan_types = [\"Free\", \"Basic\", \"Premium\"]\n",
    "payment_methods = [\"UPI\", \"Wallet\", \"Card\", \"NetBanking\"]\n",
    "\n",
    "# Step 5: Generate transaction table\n",
    "df_txn = (\n",
    "    dg.DataGenerator(spark, name=\"transactions\", rows=num_transactions, partitions=4)\n",
    "    .withColumn(\"transaction_id\", \"long\", minValue=200000, uniqueValues=num_transactions * 2)\n",
    "    .withColumn(\"customer_id\", \"long\", values=customer_id_samples)\n",
    "    .withColumn(\"customer_name\", StringType(), values=customer_name_samples)\n",
    "    .withColumn(\"product_name\", StringType(), values=product_samples)\n",
    "    .withColumn(\"product_category\", StringType(), values=product_category_samples)\n",
    "    .withColumn(\"payment_date\", DateType(), values=payment_dates)\n",
    "    .withColumn(\"amount\", FloatType(), values=product_price_samples)\n",
    "    .withColumn(\"refund_flag\", BooleanType(), values=[True, False])\n",
    "    .withColumn(\"plan_type\", StringType(), values=plan_types + [None])\n",
    "    .withColumn(\"payment_method\", StringType(), values=payment_methods)\n",
    "    .withColumn(\"batch_id\", \"long\", minValue=5000, maxValue=6000)\n",
    "    .withColumn(\"ingest_ts\", \"timestamp\", expr=\"current_timestamp()\")\n",
    "    .withColumn(\"source\", StringType(), values=[\"app\", \"web\", \"api\"])\n",
    "    .withColumn(\"record_hash\", StringType(), expr=\"sha2(concat(transaction_id, customer_id), 256)\")\n",
    ")\n",
    "\n",
    "df_transactions = df_txn.build()\n",
    "df_transactions.createOrReplaceTempView(\"transactions\")\n",
    "display(df_transactions.limit(10))"
   ]
  },
  {
   "cell_type": "code",
   "execution_count": 0,
   "metadata": {
    "application/vnd.databricks.v1+cell": {
     "cellMetadata": {
      "byteLimit": 2048000,
      "rowLimit": 10000
     },
     "inputWidgets": {},
     "nuid": "811b812a-7532-477f-9b19-543170b3b79c",
     "showTitle": false,
     "tableResultSettingsMap": {},
     "title": ""
    }
   },
   "outputs": [
    {
     "output_type": "display_data",
     "data": {
      "text/html": [
       "<style scoped>\n",
       "  .table-result-container {\n",
       "    max-height: 300px;\n",
       "    overflow: auto;\n",
       "  }\n",
       "  table, th, td {\n",
       "    border: 1px solid black;\n",
       "    border-collapse: collapse;\n",
       "  }\n",
       "  th, td {\n",
       "    padding: 5px;\n",
       "  }\n",
       "  th {\n",
       "    text-align: left;\n",
       "  }\n",
       "</style><div class='table-result-container'><table class='table-result'><thead style='background-color: white'><tr><th>transaction_id</th><th>customer_id</th><th>customer_name</th><th>product_name</th><th>product_category</th><th>payment_date</th><th>amount</th><th>refund_flag</th><th>plan_type</th><th>payment_method</th><th>batch_id</th><th>ingest_ts</th><th>source</th><th>record_hash</th></tr></thead><tbody><tr><td>200000</td><td>1000615</td><td>Yagnesh Dora</td><td>Quinoa</td><td>Grains</td><td>2024-11-29</td><td>80.0</td><td>true</td><td>Free</td><td>UPI</td><td>5000</td><td>2025-06-16T17:45:18.471+0000</td><td>app</td><td>ee81c04491da08f668c84208758843639c3320c7f1ef64a53dc418d89b9c5ee3</td></tr><tr><td>200001</td><td>1000379</td><td>Krishna Wable</td><td>Frozen entrees</td><td>Frozen</td><td>2024-03-14</td><td>140.0</td><td>false</td><td>Basic</td><td>Wallet</td><td>5001</td><td>2025-06-16T17:45:18.471+0000</td><td>web</td><td>962a8dae862ef6a60a6bed2e03de321cef464e1260ed880c1399f012a5b39ec8</td></tr><tr><td>200002</td><td>1000485</td><td>Vrinda Som</td><td>Mayonnaise</td><td>Condiments</td><td>2024-06-02</td><td>60.0</td><td>true</td><td>Premium</td><td>Card</td><td>5002</td><td>2025-06-16T17:45:18.471+0000</td><td>api</td><td>aac30b156607b4631c2b365da1900299a0f032559e7edd9283fd334615a2cb87</td></tr><tr><td>200003</td><td>1000869</td><td>Nathan Ghosh</td><td>Yogurt</td><td>Dairy</td><td>2024-07-27</td><td>30.0</td><td>false</td><td>null</td><td>NetBanking</td><td>5003</td><td>2025-06-16T17:45:18.471+0000</td><td>app</td><td>f07876fe032ff06b510ebfd99ee841192a6dad0f705748cc25f18d1a77c00ebe</td></tr><tr><td>200004</td><td>1000458</td><td>Jhalak Salvi</td><td>Frozen pizza</td><td>Frozen</td><td>2024-05-21</td><td>130.0</td><td>true</td><td>Free</td><td>UPI</td><td>5004</td><td>2025-06-16T17:45:18.471+0000</td><td>web</td><td>0a84a68d67095ce5b8ef08aa5d35da78c8b0f4e6f6a100e65fb83c5b08dac778</td></tr><tr><td>200005</td><td>1000698</td><td>Anamika Prabhakar</td><td>Bananas</td><td>Produce</td><td>2024-12-17</td><td>40.0</td><td>false</td><td>Basic</td><td>Wallet</td><td>5005</td><td>2025-06-16T17:45:18.471+0000</td><td>api</td><td>459f3c8aa22ca6d77a9cc6a4c2d1c7bc358a7c7f064a57bf5c4abbd37bf66465</td></tr><tr><td>200006</td><td>1000052</td><td>Akshay Singh</td><td>Soda</td><td>Beverage</td><td>2024-03-21</td><td>45.0</td><td>true</td><td>Premium</td><td>Card</td><td>5006</td><td>2025-06-16T17:45:18.471+0000</td><td>app</td><td>c1a5a07b8739e383eaa277a51cde4fc1bf942993692940419313777d765a781a</td></tr><tr><td>200007</td><td>1000791</td><td>Isaiah Kuruvilla</td><td>Cheese</td><td>Dairy</td><td>2024-03-03</td><td>90.0</td><td>false</td><td>null</td><td>NetBanking</td><td>5007</td><td>2025-06-16T17:45:18.471+0000</td><td>web</td><td>e8143db93e3c07d920dcda5c5b1c903afaa83b24e1a4e8e0939686cf4452ef06</td></tr><tr><td>200008</td><td>1000802</td><td>Damyanti Lal</td><td>Soda</td><td>Beverage</td><td>2024-05-16</td><td>45.0</td><td>true</td><td>Free</td><td>UPI</td><td>5008</td><td>2025-06-16T17:45:18.471+0000</td><td>api</td><td>d692b2d1568075a8a920e6f5a22a0fc352ee36b06c9a73d700e1e0cbd1bbc621</td></tr><tr><td>200009</td><td>1000966</td><td>Robert Aurora</td><td>Toilet paper</td><td>Household</td><td>2024-09-10</td><td>80.0</td><td>false</td><td>Basic</td><td>Wallet</td><td>5009</td><td>2025-06-16T17:45:18.471+0000</td><td>app</td><td>f0b5a081ba5a3314bbbb0bd0b133fdfcc3b425838b342a6b9087069a33bea4f7</td></tr><tr><td>200010</td><td>1000503</td><td>Nikita Bava</td><td>Apples</td><td>Produce</td><td>2024-07-28</td><td>50.0</td><td>true</td><td>Premium</td><td>Card</td><td>5010</td><td>2025-06-16T17:45:18.471+0000</td><td>web</td><td>865b9bc51a7147db521d29054d539791ba50a42964533a638d62abb5cd353083</td></tr><tr><td>200011</td><td>1000407</td><td>Zayan Gole</td><td>Yogurt</td><td>Dairy</td><td>2024-04-05</td><td>30.0</td><td>false</td><td>null</td><td>NetBanking</td><td>5011</td><td>2025-06-16T17:45:18.471+0000</td><td>api</td><td>04ce6c435b437b993033062e9ef81f31d3713a40cfb7be65dc0eb7f394f74f1b</td></tr><tr><td>200012</td><td>1000016</td><td>Michael Saha</td><td>Frozen entrees</td><td>Frozen</td><td>2024-03-21</td><td>140.0</td><td>true</td><td>Free</td><td>UPI</td><td>5012</td><td>2025-06-16T17:45:18.471+0000</td><td>app</td><td>f89d7ebd9774263066cae75e79b1f1f2b28e2b72a01fe682938a90bd29587d64</td></tr><tr><td>200013</td><td>1000407</td><td>Zayan Gole</td><td>Sliced bread</td><td>Bakery</td><td>2024-02-26</td><td>35.0</td><td>false</td><td>Basic</td><td>Wallet</td><td>5013</td><td>2025-06-16T17:45:18.471+0000</td><td>web</td><td>141981726ac70bbb0b16e6b9e617531721207381affecdce752b5dd3bbe7a0b9</td></tr><tr><td>200014</td><td>1000949</td><td>Matthew Andra</td><td>Canned soup</td><td>Canned</td><td>2024-09-06</td><td>70.0</td><td>true</td><td>Premium</td><td>Card</td><td>5014</td><td>2025-06-16T17:45:18.471+0000</td><td>api</td><td>70ba91d2cd109b1969e5592c0060d5e27790246805c5a9ba2625df6e87dafce1</td></tr><tr><td>200015</td><td>1000161</td><td>Krishna Tiwari</td><td>Frozen pizza</td><td>Frozen</td><td>2024-06-23</td><td>130.0</td><td>false</td><td>null</td><td>NetBanking</td><td>5015</td><td>2025-06-16T17:45:18.471+0000</td><td>app</td><td>33169786f7ffa759233f632e70b7a9c1c2e278be7a45827954dd7cba7fb4f7e7</td></tr><tr><td>200016</td><td>1000682</td><td>Charles Bali</td><td>Laundry detergent</td><td>Household</td><td>2025-01-17</td><td>120.0</td><td>true</td><td>Free</td><td>UPI</td><td>5016</td><td>2025-06-16T17:45:18.471+0000</td><td>web</td><td>b8506a63a9c03cb86765eec0c16bc66524846e83fadfd0eb43f71388b39b24fd</td></tr><tr><td>200017</td><td>1000365</td><td>Tanmayi Murthy</td><td>Spaghetti</td><td>Grains</td><td>2025-01-29</td><td>72.0</td><td>false</td><td>Basic</td><td>Wallet</td><td>5017</td><td>2025-06-16T17:45:18.471+0000</td><td>api</td><td>27978ccc9bb034e1394278463ca517452abe858d4fe373b70549d74780defa5b</td></tr><tr><td>200018</td><td>1000065</td><td>Nachiket Dash</td><td>Milk</td><td>Dairy</td><td>2024-05-08</td><td>45.0</td><td>true</td><td>Premium</td><td>Card</td><td>5018</td><td>2025-06-16T17:45:18.471+0000</td><td>app</td><td>fa509501ee9aefd835ac08944c6f64ca7c3016fad5ffb9a65887a4536ca9b4e0</td></tr><tr><td>200019</td><td>1000534</td><td>William Lanka</td><td>Soda</td><td>Beverage</td><td>2024-07-26</td><td>45.0</td><td>false</td><td>null</td><td>NetBanking</td><td>5019</td><td>2025-06-16T17:45:18.471+0000</td><td>web</td><td>5d6cc6dd67cb611c9bb773899593576259018edbda06db25d628acaed74e6474</td></tr><tr><td>200020</td><td>1000657</td><td>Rachita Soman</td><td>Spaghetti</td><td>Grains</td><td>2024-12-08</td><td>72.0</td><td>true</td><td>Free</td><td>UPI</td><td>5020</td><td>2025-06-16T17:45:18.471+0000</td><td>api</td><td>309317ff83625872d0ce7d59f459b6119c81bf2964eebfaa315a812ddada7ca5</td></tr><tr><td>200021</td><td>1000554</td><td>Ayaan Dada</td><td>Pastries</td><td>Bakery</td><td>2024-09-19</td><td>55.0</td><td>false</td><td>Basic</td><td>Wallet</td><td>5021</td><td>2025-06-16T17:45:18.471+0000</td><td>app</td><td>edb0e5fdf6caa55fde9d45f66d3fb006e5f479a36b15597de615dd6bed5b41c6</td></tr><tr><td>200022</td><td>1000415</td><td>Mohini De</td><td>Spaghetti</td><td>Grains</td><td>2024-04-01</td><td>72.0</td><td>true</td><td>Premium</td><td>Card</td><td>5022</td><td>2025-06-16T17:45:18.471+0000</td><td>web</td><td>2e4f833c7abdffe39d67d19d2bdddca4ee997ce74c06b184bb4e7e4beb77558d</td></tr><tr><td>200023</td><td>1000016</td><td>Michael Saha</td><td>Tomato sauce</td><td>Canned</td><td>2024-02-21</td><td>55.0</td><td>false</td><td>null</td><td>NetBanking</td><td>5023</td><td>2025-06-16T17:45:18.471+0000</td><td>api</td><td>3f5a1808915f45bd7ad6851b0f2c9074ad6934a4e60c14b3ea5004c6f2d1bacf</td></tr><tr><td>200024</td><td>1000255</td><td>Chaitaly Pant</td><td>Canned beans</td><td>Canned</td><td>2024-12-03</td><td>65.0</td><td>true</td><td>Free</td><td>UPI</td><td>5024</td><td>2025-06-16T17:45:18.471+0000</td><td>app</td><td>aa61991d872c9c922d8d2b556c180ff25f656b0e3b4b83259668759ea4f718b1</td></tr><tr><td>200025</td><td>1000735</td><td>Dhruv Sanghvi</td><td>Trash bags</td><td>Household</td><td>2024-03-09</td><td>85.0</td><td>false</td><td>Basic</td><td>Wallet</td><td>5025</td><td>2025-06-16T17:45:18.471+0000</td><td>web</td><td>b55fe3ec9f8f024bce62a1a8fabbe36970fced9d0ae6d75379c7ab51012f67a7</td></tr><tr><td>200026</td><td>1000613</td><td>Zashil Soni</td><td>Pretzels</td><td>Snacks</td><td>2024-11-07</td><td>38.0</td><td>true</td><td>Premium</td><td>Card</td><td>5026</td><td>2025-06-16T17:45:18.471+0000</td><td>api</td><td>818d41d3d0f734df8aec26cd96d989185f51e42bf483763056d0b94f686ca82d</td></tr><tr><td>200027</td><td>1000073</td><td>Michael Pathak</td><td>Pastries</td><td>Bakery</td><td>2024-04-04</td><td>55.0</td><td>false</td><td>null</td><td>NetBanking</td><td>5027</td><td>2025-06-16T17:45:18.471+0000</td><td>app</td><td>360cf8e713336f8d882063b4ea4331ada2f2d9da1214d54e149107824e4af6ea</td></tr><tr><td>200028</td><td>1000085</td><td>Ryan Sur</td><td>Spaghetti</td><td>Grains</td><td>2024-04-01</td><td>72.0</td><td>true</td><td>Free</td><td>UPI</td><td>5028</td><td>2025-06-16T17:45:18.471+0000</td><td>web</td><td>fd8c0839609c4e148bb6581983307cf5f25cdeb9316206e2f66333a0bffa81b7</td></tr><tr><td>200029</td><td>1000969</td><td>Vyanjana Sane</td><td>Toilet paper</td><td>Household</td><td>2024-10-03</td><td>80.0</td><td>false</td><td>Basic</td><td>Wallet</td><td>5029</td><td>2025-06-16T17:45:18.471+0000</td><td>api</td><td>e0f8dfb4adeee01442782ce582e07103f3fc031c6356e58362a85271ca171a3d</td></tr><tr><td>200030</td><td>1000837</td><td>Samarth D’Alia</td><td>Toilet paper</td><td>Household</td><td>2024-05-10</td><td>80.0</td><td>true</td><td>Premium</td><td>Card</td><td>5030</td><td>2025-06-16T17:45:18.471+0000</td><td>app</td><td>2fe967fdefaf584adc00063a2f21a70e4983d6d1a4a1da3da256d2f2224bfc85</td></tr><tr><td>200031</td><td>1000149</td><td>Pranav Pradhan</td><td>BBQ sauce</td><td>Condiments</td><td>2024-08-25</td><td>65.0</td><td>false</td><td>null</td><td>NetBanking</td><td>5031</td><td>2025-06-16T17:45:18.471+0000</td><td>web</td><td>7fe539c2b35ad0f44f24ac6fced66a5a60c53722a4cd8fa5b2512042cd8f2d53</td></tr><tr><td>200032</td><td>1000794</td><td>Simon Seth</td><td>Tomatoes</td><td>Produce</td><td>2024-04-06</td><td>48.0</td><td>true</td><td>Free</td><td>UPI</td><td>5032</td><td>2025-06-16T17:45:18.471+0000</td><td>api</td><td>8cf869392c41af1cb5e33b28a6c4ecb393229a1880d827c878e363712e81b387</td></tr><tr><td>200033</td><td>1000388</td><td>Ekaraj Merchant</td><td>Oatmeal</td><td>Grains</td><td>2024-01-27</td><td>50.0</td><td>false</td><td>Basic</td><td>Wallet</td><td>5033</td><td>2025-06-16T17:45:18.471+0000</td><td>app</td><td>69bfcee59ec2d85baefecd1bc99a217a0c2f07a60fe254e4e3f236c1e6a07a4e</td></tr><tr><td>200034</td><td>1000128</td><td>Anya Keer</td><td>Tomatoes</td><td>Produce</td><td>2024-06-29</td><td>48.0</td><td>true</td><td>Premium</td><td>Card</td><td>5034</td><td>2025-06-16T17:45:18.471+0000</td><td>web</td><td>d9dfff885e8f418849acdad6af3648accccebc0551d367f2ba94388fb3ce3f06</td></tr><tr><td>200035</td><td>1000784</td><td>Vedika Kannan</td><td>BBQ sauce</td><td>Condiments</td><td>2024-03-30</td><td>65.0</td><td>false</td><td>null</td><td>NetBanking</td><td>5035</td><td>2025-06-16T17:45:18.471+0000</td><td>api</td><td>0dfed523327c36ff28b5ab8303dfda3599dd318c3d56ab94238a712cb6529b06</td></tr><tr><td>200036</td><td>1000516</td><td>Aarnav Goswami</td><td>Sliced bread</td><td>Bakery</td><td>2024-07-12</td><td>35.0</td><td>true</td><td>Free</td><td>UPI</td><td>5036</td><td>2025-06-16T17:45:18.471+0000</td><td>app</td><td>777bd7860f5c5375326d6e6b75fdf23c785038c92fdf76455be5d8109d69bb74</td></tr><tr><td>200037</td><td>1000407</td><td>Zayan Gole</td><td>Potato chips</td><td>Snacks</td><td>2024-03-18</td><td>35.0</td><td>false</td><td>Basic</td><td>Wallet</td><td>5037</td><td>2025-06-16T17:45:18.471+0000</td><td>web</td><td>6fd7f68e50e9b2f6c26c8deb18485b8de3a81d83c0f80d54ea72b45cfc10b079</td></tr><tr><td>200038</td><td>1000065</td><td>Nachiket Dash</td><td>Paper towels</td><td>Household</td><td>2024-03-09</td><td>75.0</td><td>true</td><td>Premium</td><td>Card</td><td>5038</td><td>2025-06-16T17:45:18.471+0000</td><td>api</td><td>32ad89bc057e49ec46cdbdf555ffb2d73ce096b3b88a86d0831618d98e1418b7</td></tr><tr><td>200039</td><td>1000483</td><td>Ekantika Nath</td><td>Oatmeal</td><td>Grains</td><td>2024-07-12</td><td>50.0</td><td>false</td><td>null</td><td>NetBanking</td><td>5039</td><td>2025-06-16T17:45:18.471+0000</td><td>app</td><td>1ef7ebd941c528dd2f9665899cd838e5bd5b57a0831b666da4c5b859acbb62e2</td></tr><tr><td>200040</td><td>1000560</td><td>Luke Sandhu</td><td>Oatmeal</td><td>Grains</td><td>2024-09-11</td><td>50.0</td><td>true</td><td>Free</td><td>UPI</td><td>5040</td><td>2025-06-16T17:45:18.471+0000</td><td>web</td><td>5124ec2308a7b785147ab30c902bf3a67c338341a1b342cd9b4120b5ec127b2c</td></tr><tr><td>200041</td><td>1000898</td><td>Varenya Mammen</td><td>Laundry detergent</td><td>Household</td><td>2024-07-04</td><td>120.0</td><td>false</td><td>Basic</td><td>Wallet</td><td>5041</td><td>2025-06-16T17:45:18.471+0000</td><td>api</td><td>2292859e7e2591fac09a38281e4bcac24b15343d9bb0bc3e1d7eb28009ea485c</td></tr><tr><td>200042</td><td>1000009</td><td>Nicholas Chacko</td><td>Sliced bread</td><td>Bakery</td><td>2024-03-23</td><td>35.0</td><td>true</td><td>Premium</td><td>Card</td><td>5042</td><td>2025-06-16T17:45:18.471+0000</td><td>app</td><td>f4352a6e481c52b204532b2ef18bb43b90840c65a530db9259fcbc1d1215b0d8</td></tr><tr><td>200043</td><td>1000213</td><td>Quincy Rau</td><td>Laundry detergent</td><td>Household</td><td>2024-10-24</td><td>120.0</td><td>false</td><td>null</td><td>NetBanking</td><td>5043</td><td>2025-06-16T17:45:18.471+0000</td><td>web</td><td>3d8fb50297899c4d0c8823365dd9b1f693972b6746ca427cc9f845468611da3c</td></tr><tr><td>200044</td><td>1000090</td><td>Thomas Kumar</td><td>Ketchup</td><td>Condiments</td><td>2024-05-25</td><td>40.0</td><td>true</td><td>Free</td><td>UPI</td><td>5044</td><td>2025-06-16T17:45:18.471+0000</td><td>api</td><td>763818e2599561874682e16e3c4d45bbb946a4ee2d2bae8132c5a3d43dd69a75</td></tr><tr><td>200045</td><td>1000562</td><td>Garima Gola</td><td>Frozen vegetables</td><td>Frozen</td><td>2024-10-08</td><td>60.0</td><td>false</td><td>Basic</td><td>Wallet</td><td>5045</td><td>2025-06-16T17:45:18.471+0000</td><td>app</td><td>1e9f408d5c57a387f902302db63269f0bf8f7563b272267cf553c76679f4e42d</td></tr><tr><td>200046</td><td>1000289</td><td>Dipta Raja</td><td>Mustard</td><td>Condiments</td><td>2024-11-09</td><td>42.0</td><td>true</td><td>Premium</td><td>Card</td><td>5046</td><td>2025-06-16T17:45:18.471+0000</td><td>web</td><td>656fde33d7f0597a46bfaa8e55d48d5559622262cc2e08e1d3c0a2a3bd2ede79</td></tr><tr><td>200047</td><td>1000893</td><td>Jackson Suri</td><td>Oatmeal</td><td>Grains</td><td>2024-08-30</td><td>50.0</td><td>false</td><td>null</td><td>NetBanking</td><td>5047</td><td>2025-06-16T17:45:18.471+0000</td><td>api</td><td>61f2f066e31c7cf56e7a422797ee9d1e69225109e948924de2f81ad4aa142654</td></tr><tr><td>200048</td><td>1000097</td><td>Pallavi Divan</td><td>Ketchup</td><td>Condiments</td><td>2024-04-28</td><td>40.0</td><td>true</td><td>Free</td><td>UPI</td><td>5048</td><td>2025-06-16T17:45:18.471+0000</td><td>app</td><td>fab1ee5a9ea4825e0855e42450a1df28f79304a736ef1847f045de45e2076319</td></tr><tr><td>200049</td><td>1000031</td><td>Indrajit Date</td><td>Salad dressing</td><td>Condiments</td><td>2024-02-04</td><td>70.0</td><td>false</td><td>Basic</td><td>Wallet</td><td>5049</td><td>2025-06-16T17:45:18.471+0000</td><td>web</td><td>7eadb9e0f754da3e97ab449bea4128c2fb8d713a324547a07a3e8627716d2137</td></tr></tbody></table></div>"
      ]
     },
     "metadata": {
      "application/vnd.databricks.v1+output": {
       "addedWidgets": {},
       "aggData": [],
       "aggError": "",
       "aggOverflow": false,
       "aggSchema": [],
       "aggSeriesLimitReached": false,
       "aggType": "",
       "arguments": {},
       "columnCustomDisplayInfos": {},
       "data": [
        [
         200000,
         1000615,
         "Yagnesh Dora",
         "Quinoa",
         "Grains",
         "2024-11-29",
         80.0,
         true,
         "Free",
         "UPI",
         5000,
         "2025-06-16T17:45:18.471+0000",
         "app",
         "ee81c04491da08f668c84208758843639c3320c7f1ef64a53dc418d89b9c5ee3"
        ],
        [
         200001,
         1000379,
         "Krishna Wable",
         "Frozen entrees",
         "Frozen",
         "2024-03-14",
         140.0,
         false,
         "Basic",
         "Wallet",
         5001,
         "2025-06-16T17:45:18.471+0000",
         "web",
         "962a8dae862ef6a60a6bed2e03de321cef464e1260ed880c1399f012a5b39ec8"
        ],
        [
         200002,
         1000485,
         "Vrinda Som",
         "Mayonnaise",
         "Condiments",
         "2024-06-02",
         60.0,
         true,
         "Premium",
         "Card",
         5002,
         "2025-06-16T17:45:18.471+0000",
         "api",
         "aac30b156607b4631c2b365da1900299a0f032559e7edd9283fd334615a2cb87"
        ],
        [
         200003,
         1000869,
         "Nathan Ghosh",
         "Yogurt",
         "Dairy",
         "2024-07-27",
         30.0,
         false,
         null,
         "NetBanking",
         5003,
         "2025-06-16T17:45:18.471+0000",
         "app",
         "f07876fe032ff06b510ebfd99ee841192a6dad0f705748cc25f18d1a77c00ebe"
        ],
        [
         200004,
         1000458,
         "Jhalak Salvi",
         "Frozen pizza",
         "Frozen",
         "2024-05-21",
         130.0,
         true,
         "Free",
         "UPI",
         5004,
         "2025-06-16T17:45:18.471+0000",
         "web",
         "0a84a68d67095ce5b8ef08aa5d35da78c8b0f4e6f6a100e65fb83c5b08dac778"
        ],
        [
         200005,
         1000698,
         "Anamika Prabhakar",
         "Bananas",
         "Produce",
         "2024-12-17",
         40.0,
         false,
         "Basic",
         "Wallet",
         5005,
         "2025-06-16T17:45:18.471+0000",
         "api",
         "459f3c8aa22ca6d77a9cc6a4c2d1c7bc358a7c7f064a57bf5c4abbd37bf66465"
        ],
        [
         200006,
         1000052,
         "Akshay Singh",
         "Soda",
         "Beverage",
         "2024-03-21",
         45.0,
         true,
         "Premium",
         "Card",
         5006,
         "2025-06-16T17:45:18.471+0000",
         "app",
         "c1a5a07b8739e383eaa277a51cde4fc1bf942993692940419313777d765a781a"
        ],
        [
         200007,
         1000791,
         "Isaiah Kuruvilla",
         "Cheese",
         "Dairy",
         "2024-03-03",
         90.0,
         false,
         null,
         "NetBanking",
         5007,
         "2025-06-16T17:45:18.471+0000",
         "web",
         "e8143db93e3c07d920dcda5c5b1c903afaa83b24e1a4e8e0939686cf4452ef06"
        ],
        [
         200008,
         1000802,
         "Damyanti Lal",
         "Soda",
         "Beverage",
         "2024-05-16",
         45.0,
         true,
         "Free",
         "UPI",
         5008,
         "2025-06-16T17:45:18.471+0000",
         "api",
         "d692b2d1568075a8a920e6f5a22a0fc352ee36b06c9a73d700e1e0cbd1bbc621"
        ],
        [
         200009,
         1000966,
         "Robert Aurora",
         "Toilet paper",
         "Household",
         "2024-09-10",
         80.0,
         false,
         "Basic",
         "Wallet",
         5009,
         "2025-06-16T17:45:18.471+0000",
         "app",
         "f0b5a081ba5a3314bbbb0bd0b133fdfcc3b425838b342a6b9087069a33bea4f7"
        ],
        [
         200010,
         1000503,
         "Nikita Bava",
         "Apples",
         "Produce",
         "2024-07-28",
         50.0,
         true,
         "Premium",
         "Card",
         5010,
         "2025-06-16T17:45:18.471+0000",
         "web",
         "865b9bc51a7147db521d29054d539791ba50a42964533a638d62abb5cd353083"
        ],
        [
         200011,
         1000407,
         "Zayan Gole",
         "Yogurt",
         "Dairy",
         "2024-04-05",
         30.0,
         false,
         null,
         "NetBanking",
         5011,
         "2025-06-16T17:45:18.471+0000",
         "api",
         "04ce6c435b437b993033062e9ef81f31d3713a40cfb7be65dc0eb7f394f74f1b"
        ],
        [
         200012,
         1000016,
         "Michael Saha",
         "Frozen entrees",
         "Frozen",
         "2024-03-21",
         140.0,
         true,
         "Free",
         "UPI",
         5012,
         "2025-06-16T17:45:18.471+0000",
         "app",
         "f89d7ebd9774263066cae75e79b1f1f2b28e2b72a01fe682938a90bd29587d64"
        ],
        [
         200013,
         1000407,
         "Zayan Gole",
         "Sliced bread",
         "Bakery",
         "2024-02-26",
         35.0,
         false,
         "Basic",
         "Wallet",
         5013,
         "2025-06-16T17:45:18.471+0000",
         "web",
         "141981726ac70bbb0b16e6b9e617531721207381affecdce752b5dd3bbe7a0b9"
        ],
        [
         200014,
         1000949,
         "Matthew Andra",
         "Canned soup",
         "Canned",
         "2024-09-06",
         70.0,
         true,
         "Premium",
         "Card",
         5014,
         "2025-06-16T17:45:18.471+0000",
         "api",
         "70ba91d2cd109b1969e5592c0060d5e27790246805c5a9ba2625df6e87dafce1"
        ],
        [
         200015,
         1000161,
         "Krishna Tiwari",
         "Frozen pizza",
         "Frozen",
         "2024-06-23",
         130.0,
         false,
         null,
         "NetBanking",
         5015,
         "2025-06-16T17:45:18.471+0000",
         "app",
         "33169786f7ffa759233f632e70b7a9c1c2e278be7a45827954dd7cba7fb4f7e7"
        ],
        [
         200016,
         1000682,
         "Charles Bali",
         "Laundry detergent",
         "Household",
         "2025-01-17",
         120.0,
         true,
         "Free",
         "UPI",
         5016,
         "2025-06-16T17:45:18.471+0000",
         "web",
         "b8506a63a9c03cb86765eec0c16bc66524846e83fadfd0eb43f71388b39b24fd"
        ],
        [
         200017,
         1000365,
         "Tanmayi Murthy",
         "Spaghetti",
         "Grains",
         "2025-01-29",
         72.0,
         false,
         "Basic",
         "Wallet",
         5017,
         "2025-06-16T17:45:18.471+0000",
         "api",
         "27978ccc9bb034e1394278463ca517452abe858d4fe373b70549d74780defa5b"
        ],
        [
         200018,
         1000065,
         "Nachiket Dash",
         "Milk",
         "Dairy",
         "2024-05-08",
         45.0,
         true,
         "Premium",
         "Card",
         5018,
         "2025-06-16T17:45:18.471+0000",
         "app",
         "fa509501ee9aefd835ac08944c6f64ca7c3016fad5ffb9a65887a4536ca9b4e0"
        ],
        [
         200019,
         1000534,
         "William Lanka",
         "Soda",
         "Beverage",
         "2024-07-26",
         45.0,
         false,
         null,
         "NetBanking",
         5019,
         "2025-06-16T17:45:18.471+0000",
         "web",
         "5d6cc6dd67cb611c9bb773899593576259018edbda06db25d628acaed74e6474"
        ],
        [
         200020,
         1000657,
         "Rachita Soman",
         "Spaghetti",
         "Grains",
         "2024-12-08",
         72.0,
         true,
         "Free",
         "UPI",
         5020,
         "2025-06-16T17:45:18.471+0000",
         "api",
         "309317ff83625872d0ce7d59f459b6119c81bf2964eebfaa315a812ddada7ca5"
        ],
        [
         200021,
         1000554,
         "Ayaan Dada",
         "Pastries",
         "Bakery",
         "2024-09-19",
         55.0,
         false,
         "Basic",
         "Wallet",
         5021,
         "2025-06-16T17:45:18.471+0000",
         "app",
         "edb0e5fdf6caa55fde9d45f66d3fb006e5f479a36b15597de615dd6bed5b41c6"
        ],
        [
         200022,
         1000415,
         "Mohini De",
         "Spaghetti",
         "Grains",
         "2024-04-01",
         72.0,
         true,
         "Premium",
         "Card",
         5022,
         "2025-06-16T17:45:18.471+0000",
         "web",
         "2e4f833c7abdffe39d67d19d2bdddca4ee997ce74c06b184bb4e7e4beb77558d"
        ],
        [
         200023,
         1000016,
         "Michael Saha",
         "Tomato sauce",
         "Canned",
         "2024-02-21",
         55.0,
         false,
         null,
         "NetBanking",
         5023,
         "2025-06-16T17:45:18.471+0000",
         "api",
         "3f5a1808915f45bd7ad6851b0f2c9074ad6934a4e60c14b3ea5004c6f2d1bacf"
        ],
        [
         200024,
         1000255,
         "Chaitaly Pant",
         "Canned beans",
         "Canned",
         "2024-12-03",
         65.0,
         true,
         "Free",
         "UPI",
         5024,
         "2025-06-16T17:45:18.471+0000",
         "app",
         "aa61991d872c9c922d8d2b556c180ff25f656b0e3b4b83259668759ea4f718b1"
        ],
        [
         200025,
         1000735,
         "Dhruv Sanghvi",
         "Trash bags",
         "Household",
         "2024-03-09",
         85.0,
         false,
         "Basic",
         "Wallet",
         5025,
         "2025-06-16T17:45:18.471+0000",
         "web",
         "b55fe3ec9f8f024bce62a1a8fabbe36970fced9d0ae6d75379c7ab51012f67a7"
        ],
        [
         200026,
         1000613,
         "Zashil Soni",
         "Pretzels",
         "Snacks",
         "2024-11-07",
         38.0,
         true,
         "Premium",
         "Card",
         5026,
         "2025-06-16T17:45:18.471+0000",
         "api",
         "818d41d3d0f734df8aec26cd96d989185f51e42bf483763056d0b94f686ca82d"
        ],
        [
         200027,
         1000073,
         "Michael Pathak",
         "Pastries",
         "Bakery",
         "2024-04-04",
         55.0,
         false,
         null,
         "NetBanking",
         5027,
         "2025-06-16T17:45:18.471+0000",
         "app",
         "360cf8e713336f8d882063b4ea4331ada2f2d9da1214d54e149107824e4af6ea"
        ],
        [
         200028,
         1000085,
         "Ryan Sur",
         "Spaghetti",
         "Grains",
         "2024-04-01",
         72.0,
         true,
         "Free",
         "UPI",
         5028,
         "2025-06-16T17:45:18.471+0000",
         "web",
         "fd8c0839609c4e148bb6581983307cf5f25cdeb9316206e2f66333a0bffa81b7"
        ],
        [
         200029,
         1000969,
         "Vyanjana Sane",
         "Toilet paper",
         "Household",
         "2024-10-03",
         80.0,
         false,
         "Basic",
         "Wallet",
         5029,
         "2025-06-16T17:45:18.471+0000",
         "api",
         "e0f8dfb4adeee01442782ce582e07103f3fc031c6356e58362a85271ca171a3d"
        ],
        [
         200030,
         1000837,
         "Samarth D’Alia",
         "Toilet paper",
         "Household",
         "2024-05-10",
         80.0,
         true,
         "Premium",
         "Card",
         5030,
         "2025-06-16T17:45:18.471+0000",
         "app",
         "2fe967fdefaf584adc00063a2f21a70e4983d6d1a4a1da3da256d2f2224bfc85"
        ],
        [
         200031,
         1000149,
         "Pranav Pradhan",
         "BBQ sauce",
         "Condiments",
         "2024-08-25",
         65.0,
         false,
         null,
         "NetBanking",
         5031,
         "2025-06-16T17:45:18.471+0000",
         "web",
         "7fe539c2b35ad0f44f24ac6fced66a5a60c53722a4cd8fa5b2512042cd8f2d53"
        ],
        [
         200032,
         1000794,
         "Simon Seth",
         "Tomatoes",
         "Produce",
         "2024-04-06",
         48.0,
         true,
         "Free",
         "UPI",
         5032,
         "2025-06-16T17:45:18.471+0000",
         "api",
         "8cf869392c41af1cb5e33b28a6c4ecb393229a1880d827c878e363712e81b387"
        ],
        [
         200033,
         1000388,
         "Ekaraj Merchant",
         "Oatmeal",
         "Grains",
         "2024-01-27",
         50.0,
         false,
         "Basic",
         "Wallet",
         5033,
         "2025-06-16T17:45:18.471+0000",
         "app",
         "69bfcee59ec2d85baefecd1bc99a217a0c2f07a60fe254e4e3f236c1e6a07a4e"
        ],
        [
         200034,
         1000128,
         "Anya Keer",
         "Tomatoes",
         "Produce",
         "2024-06-29",
         48.0,
         true,
         "Premium",
         "Card",
         5034,
         "2025-06-16T17:45:18.471+0000",
         "web",
         "d9dfff885e8f418849acdad6af3648accccebc0551d367f2ba94388fb3ce3f06"
        ],
        [
         200035,
         1000784,
         "Vedika Kannan",
         "BBQ sauce",
         "Condiments",
         "2024-03-30",
         65.0,
         false,
         null,
         "NetBanking",
         5035,
         "2025-06-16T17:45:18.471+0000",
         "api",
         "0dfed523327c36ff28b5ab8303dfda3599dd318c3d56ab94238a712cb6529b06"
        ],
        [
         200036,
         1000516,
         "Aarnav Goswami",
         "Sliced bread",
         "Bakery",
         "2024-07-12",
         35.0,
         true,
         "Free",
         "UPI",
         5036,
         "2025-06-16T17:45:18.471+0000",
         "app",
         "777bd7860f5c5375326d6e6b75fdf23c785038c92fdf76455be5d8109d69bb74"
        ],
        [
         200037,
         1000407,
         "Zayan Gole",
         "Potato chips",
         "Snacks",
         "2024-03-18",
         35.0,
         false,
         "Basic",
         "Wallet",
         5037,
         "2025-06-16T17:45:18.471+0000",
         "web",
         "6fd7f68e50e9b2f6c26c8deb18485b8de3a81d83c0f80d54ea72b45cfc10b079"
        ],
        [
         200038,
         1000065,
         "Nachiket Dash",
         "Paper towels",
         "Household",
         "2024-03-09",
         75.0,
         true,
         "Premium",
         "Card",
         5038,
         "2025-06-16T17:45:18.471+0000",
         "api",
         "32ad89bc057e49ec46cdbdf555ffb2d73ce096b3b88a86d0831618d98e1418b7"
        ],
        [
         200039,
         1000483,
         "Ekantika Nath",
         "Oatmeal",
         "Grains",
         "2024-07-12",
         50.0,
         false,
         null,
         "NetBanking",
         5039,
         "2025-06-16T17:45:18.471+0000",
         "app",
         "1ef7ebd941c528dd2f9665899cd838e5bd5b57a0831b666da4c5b859acbb62e2"
        ],
        [
         200040,
         1000560,
         "Luke Sandhu",
         "Oatmeal",
         "Grains",
         "2024-09-11",
         50.0,
         true,
         "Free",
         "UPI",
         5040,
         "2025-06-16T17:45:18.471+0000",
         "web",
         "5124ec2308a7b785147ab30c902bf3a67c338341a1b342cd9b4120b5ec127b2c"
        ],
        [
         200041,
         1000898,
         "Varenya Mammen",
         "Laundry detergent",
         "Household",
         "2024-07-04",
         120.0,
         false,
         "Basic",
         "Wallet",
         5041,
         "2025-06-16T17:45:18.471+0000",
         "api",
         "2292859e7e2591fac09a38281e4bcac24b15343d9bb0bc3e1d7eb28009ea485c"
        ],
        [
         200042,
         1000009,
         "Nicholas Chacko",
         "Sliced bread",
         "Bakery",
         "2024-03-23",
         35.0,
         true,
         "Premium",
         "Card",
         5042,
         "2025-06-16T17:45:18.471+0000",
         "app",
         "f4352a6e481c52b204532b2ef18bb43b90840c65a530db9259fcbc1d1215b0d8"
        ],
        [
         200043,
         1000213,
         "Quincy Rau",
         "Laundry detergent",
         "Household",
         "2024-10-24",
         120.0,
         false,
         null,
         "NetBanking",
         5043,
         "2025-06-16T17:45:18.471+0000",
         "web",
         "3d8fb50297899c4d0c8823365dd9b1f693972b6746ca427cc9f845468611da3c"
        ],
        [
         200044,
         1000090,
         "Thomas Kumar",
         "Ketchup",
         "Condiments",
         "2024-05-25",
         40.0,
         true,
         "Free",
         "UPI",
         5044,
         "2025-06-16T17:45:18.471+0000",
         "api",
         "763818e2599561874682e16e3c4d45bbb946a4ee2d2bae8132c5a3d43dd69a75"
        ],
        [
         200045,
         1000562,
         "Garima Gola",
         "Frozen vegetables",
         "Frozen",
         "2024-10-08",
         60.0,
         false,
         "Basic",
         "Wallet",
         5045,
         "2025-06-16T17:45:18.471+0000",
         "app",
         "1e9f408d5c57a387f902302db63269f0bf8f7563b272267cf553c76679f4e42d"
        ],
        [
         200046,
         1000289,
         "Dipta Raja",
         "Mustard",
         "Condiments",
         "2024-11-09",
         42.0,
         true,
         "Premium",
         "Card",
         5046,
         "2025-06-16T17:45:18.471+0000",
         "web",
         "656fde33d7f0597a46bfaa8e55d48d5559622262cc2e08e1d3c0a2a3bd2ede79"
        ],
        [
         200047,
         1000893,
         "Jackson Suri",
         "Oatmeal",
         "Grains",
         "2024-08-30",
         50.0,
         false,
         null,
         "NetBanking",
         5047,
         "2025-06-16T17:45:18.471+0000",
         "api",
         "61f2f066e31c7cf56e7a422797ee9d1e69225109e948924de2f81ad4aa142654"
        ],
        [
         200048,
         1000097,
         "Pallavi Divan",
         "Ketchup",
         "Condiments",
         "2024-04-28",
         40.0,
         true,
         "Free",
         "UPI",
         5048,
         "2025-06-16T17:45:18.471+0000",
         "app",
         "fab1ee5a9ea4825e0855e42450a1df28f79304a736ef1847f045de45e2076319"
        ],
        [
         200049,
         1000031,
         "Indrajit Date",
         "Salad dressing",
         "Condiments",
         "2024-02-04",
         70.0,
         false,
         "Basic",
         "Wallet",
         5049,
         "2025-06-16T17:45:18.471+0000",
         "web",
         "7eadb9e0f754da3e97ab449bea4128c2fb8d713a324547a07a3e8627716d2137"
        ]
       ],
       "datasetInfos": [],
       "dbfsResultPath": null,
       "isJsonSchema": true,
       "metadata": {},
       "overflow": false,
       "plotOptions": {
        "customPlotOptions": {},
        "displayType": "table",
        "pivotAggregation": null,
        "pivotColumns": null,
        "xColumns": null,
        "yColumns": null
       },
       "removedWidgets": [],
       "schema": [
        {
         "metadata": "{}",
         "name": "transaction_id",
         "type": "\"long\""
        },
        {
         "metadata": "{}",
         "name": "customer_id",
         "type": "\"long\""
        },
        {
         "metadata": "{}",
         "name": "customer_name",
         "type": "\"string\""
        },
        {
         "metadata": "{}",
         "name": "product_name",
         "type": "\"string\""
        },
        {
         "metadata": "{}",
         "name": "product_category",
         "type": "\"string\""
        },
        {
         "metadata": "{}",
         "name": "payment_date",
         "type": "\"date\""
        },
        {
         "metadata": "{}",
         "name": "amount",
         "type": "\"float\""
        },
        {
         "metadata": "{}",
         "name": "refund_flag",
         "type": "\"boolean\""
        },
        {
         "metadata": "{}",
         "name": "plan_type",
         "type": "\"string\""
        },
        {
         "metadata": "{}",
         "name": "payment_method",
         "type": "\"string\""
        },
        {
         "metadata": "{}",
         "name": "batch_id",
         "type": "\"long\""
        },
        {
         "metadata": "{}",
         "name": "ingest_ts",
         "type": "\"timestamp\""
        },
        {
         "metadata": "{}",
         "name": "source",
         "type": "\"string\""
        },
        {
         "metadata": "{}",
         "name": "record_hash",
         "type": "\"string\""
        }
       ],
       "type": "table"
      }
     },
     "output_type": "display_data"
    }
   ],
   "source": [
    "display(df_transactions.limit(50))"
   ]
  },
  {
   "cell_type": "code",
   "execution_count": 0,
   "metadata": {
    "application/vnd.databricks.v1+cell": {
     "cellMetadata": {
      "byteLimit": 2048000,
      "implicitDf": true,
      "rowLimit": 10000
     },
     "inputWidgets": {},
     "nuid": "3ecbc57b-4ef5-44c9-86e8-c7c2fd6e185f",
     "showTitle": false,
     "tableResultSettingsMap": {},
     "title": ""
    }
   },
   "outputs": [],
   "source": [
    "# %sql\n",
    "# SELECT \n",
    "#     DISTINCT c.lifecycle_stage\n",
    "# FROM transactions t\n",
    "# JOIN customers c \n",
    "#     ON t.customer_id = c.customer_id\n",
    "# WHERE c.lifecycle_stage NOT IN ('Paying', 'Retained', 'Lost');"
   ]
  },
  {
   "cell_type": "code",
   "execution_count": 0,
   "metadata": {
    "application/vnd.databricks.v1+cell": {
     "cellMetadata": {
      "byteLimit": 2048000,
      "implicitDf": true,
      "rowLimit": 10000
     },
     "inputWidgets": {},
     "nuid": "fb7fb030-95bd-4491-8904-92f7e10f8209",
     "showTitle": false,
     "tableResultSettingsMap": {},
     "title": ""
    }
   },
   "outputs": [],
   "source": [
    "# %sql\n",
    "# SELECT \n",
    "#     customer_id,\n",
    "#     COUNT(*) AS num_transactions\n",
    "# FROM transactions\n",
    "# GROUP BY customer_id\n",
    "# ORDER BY num_transactions DESC\n",
    "# LIMIT 10;\n"
   ]
  },
  {
   "cell_type": "code",
   "execution_count": 0,
   "metadata": {
    "application/vnd.databricks.v1+cell": {
     "cellMetadata": {
      "byteLimit": 2048000,
      "implicitDf": true,
      "rowLimit": 10000
     },
     "inputWidgets": {},
     "nuid": "8d4a4c41-d0ca-435f-9575-fd5e3400f91b",
     "showTitle": false,
     "tableResultSettingsMap": {},
     "title": ""
    }
   },
   "outputs": [],
   "source": [
    "# %sql\n",
    "# SELECT \n",
    "#     t.transaction_id,\n",
    "#     t.customer_id,\n",
    "#     t.payment_date,\n",
    "#     c.activation_date,\n",
    "#     c.churn_date\n",
    "# FROM transactions t\n",
    "# JOIN customers c ON t.customer_id = c.customer_id\n",
    "# WHERE \n",
    "#     t.payment_date < c.activation_date\n",
    "#     OR (c.churn_date IS NOT NULL AND t.payment_date > c.churn_date);\n"
   ]
  },
  {
   "cell_type": "code",
   "execution_count": 0,
   "metadata": {
    "application/vnd.databricks.v1+cell": {
     "cellMetadata": {
      "byteLimit": 2048000,
      "implicitDf": true,
      "rowLimit": 10000
     },
     "inputWidgets": {},
     "nuid": "64102316-8fe5-480a-b7dd-43ac766ce354",
     "showTitle": false,
     "tableResultSettingsMap": {},
     "title": ""
    }
   },
   "outputs": [],
   "source": [
    "# %sql\n",
    "# SELECT \n",
    "#     product_name, \n",
    "#     ROUND(AVG(amount), 2) AS avg_price,\n",
    "#     COUNT(*) AS num_sales\n",
    "# FROM transactions\n",
    "# GROUP BY product_name\n",
    "# ORDER BY avg_price DESC;\n"
   ]
  },
  {
   "cell_type": "code",
   "execution_count": 0,
   "metadata": {
    "application/vnd.databricks.v1+cell": {
     "cellMetadata": {
      "byteLimit": 2048000,
      "implicitDf": true,
      "rowLimit": 10000
     },
     "inputWidgets": {},
     "nuid": "29ffa7c9-5369-491e-8dde-dde5972ee971",
     "showTitle": false,
     "tableResultSettingsMap": {},
     "title": ""
    }
   },
   "outputs": [
    {
     "output_type": "display_data",
     "data": {
      "text/html": [
       "<style scoped>\n",
       "  .table-result-container {\n",
       "    max-height: 300px;\n",
       "    overflow: auto;\n",
       "  }\n",
       "  table, th, td {\n",
       "    border: 1px solid black;\n",
       "    border-collapse: collapse;\n",
       "  }\n",
       "  th, td {\n",
       "    padding: 5px;\n",
       "  }\n",
       "  th {\n",
       "    text-align: left;\n",
       "  }\n",
       "</style><div class='table-result-container'><table class='table-result'><thead style='background-color: white'><tr><th>payment_method</th><th>method_count</th></tr></thead><tbody><tr><td>Wallet</td><td>1250</td></tr><tr><td>Card</td><td>1250</td></tr><tr><td>NetBanking</td><td>1250</td></tr><tr><td>UPI</td><td>1250</td></tr></tbody></table></div>"
      ]
     },
     "metadata": {
      "application/vnd.databricks.v1+output": {
       "addedWidgets": {},
       "aggData": [],
       "aggError": "",
       "aggOverflow": false,
       "aggSchema": [],
       "aggSeriesLimitReached": false,
       "aggType": "",
       "arguments": {},
       "columnCustomDisplayInfos": {},
       "data": [
        [
         "Wallet",
         1250
        ],
        [
         "Card",
         1250
        ],
        [
         "NetBanking",
         1250
        ],
        [
         "UPI",
         1250
        ]
       ],
       "datasetInfos": [],
       "dbfsResultPath": null,
       "isJsonSchema": true,
       "metadata": {},
       "overflow": false,
       "plotOptions": {
        "customPlotOptions": {},
        "displayType": "table",
        "pivotAggregation": null,
        "pivotColumns": null,
        "xColumns": null,
        "yColumns": null
       },
       "removedWidgets": [],
       "schema": [
        {
         "metadata": "{}",
         "name": "payment_method",
         "type": "\"string\""
        },
        {
         "metadata": "{}",
         "name": "method_count",
         "type": "\"long\""
        }
       ],
       "type": "table"
      }
     },
     "output_type": "display_data"
    }
   ],
   "source": [
    "%sql\n",
    "    SELECT \n",
    "    payment_method, \n",
    "    COUNT(*) AS method_count\n",
    "FROM transactions\n",
    "GROUP BY payment_method;\n"
   ]
  },
  {
   "cell_type": "code",
   "execution_count": 0,
   "metadata": {
    "application/vnd.databricks.v1+cell": {
     "cellMetadata": {
      "byteLimit": 2048000,
      "rowLimit": 10000
     },
     "inputWidgets": {},
     "nuid": "d69ef429-fd87-4056-bb66-f156ed3dd51a",
     "showTitle": true,
     "tableResultSettingsMap": {},
     "title": "Events"
    }
   },
   "outputs": [
    {
     "output_type": "display_data",
     "data": {
      "text/html": [
       "<style scoped>\n",
       "  .table-result-container {\n",
       "    max-height: 300px;\n",
       "    overflow: auto;\n",
       "  }\n",
       "  table, th, td {\n",
       "    border: 1px solid black;\n",
       "    border-collapse: collapse;\n",
       "  }\n",
       "  th, td {\n",
       "    padding: 5px;\n",
       "  }\n",
       "  th {\n",
       "    text-align: left;\n",
       "  }\n",
       "</style><div class='table-result-container'><table class='table-result'><thead style='background-color: white'><tr><th>event_id</th><th>customer_id</th><th>event_type</th><th>event_date</th><th>platform</th><th>feature_used</th><th>session_id</th><th>session_duration</th><th>event_value</th><th>event_success_flag</th><th>repeat_feature_use_count</th><th>batch_id</th><th>ingest_ts</th><th>source</th><th>record_hash</th></tr></thead><tbody><tr><td>700000</td><td>1000859</td><td>login</td><td>2024-06-15T00:06:53.000+0000</td><td>web</td><td>search</td><td>b27ab346-e5f0-4429-a828-f0b09474e0e4</td><td>506</td><td>93.43</td><td>false</td><td>4</td><td>8000</td><td>2025-06-16T17:46:21.448+0000</td><td>app</td><td>9e0f8c8ef79abbd6ce1ce1242cdec5b7f08c5d5faf8a9e839016a4e75d6dffa0</td></tr><tr><td>700001</td><td>1000171</td><td>logout</td><td>2024-09-15T01:33:42.000+0000</td><td>mobile_app</td><td>product_view</td><td>6821cc3f-1bee-4912-aec1-2d569b4e1fce</td><td>578</td><td>10.67</td><td>true</td><td>5</td><td>8001</td><td>2025-06-16T17:46:21.448+0000</td><td>web</td><td>5d82097dcc0897edcdd8343b0953f4fa5238b5730b0df0afc39ad0aaed746226</td></tr><tr><td>700002</td><td>1000856</td><td>purchase</td><td>2024-06-16T04:01:21.000+0000</td><td>tablet_app</td><td>checkout</td><td>06914720-8ca4-4da1-a828-e30935436c67</td><td>419</td><td>19.73</td><td>true</td><td>5</td><td>8002</td><td>2025-06-16T17:46:21.448+0000</td><td>api</td><td>ed170ea8314bbd15815da990521ca19f2115167c6e6d0a352c3585ac4a9d6924</td></tr><tr><td>700003</td><td>1000797</td><td>cart_add</td><td>2024-03-17T08:59:04.000+0000</td><td>web</td><td>payment</td><td>9d000aec-f34e-4749-869c-f06cc4a1455e</td><td>696</td><td>78.52</td><td>true</td><td>3</td><td>8003</td><td>2025-06-16T17:46:21.448+0000</td><td>app</td><td>91ac0abf2d3e5319b12637f1b38311210a32105f96afe40621809b39833598b0</td></tr><tr><td>700004</td><td>1000650</td><td>cart_remove</td><td>2024-11-17T12:55:46.000+0000</td><td>mobile_app</td><td>profile_update</td><td>6e26543e-19f0-4a28-a467-e3b5707d8baa</td><td>73</td><td>64.34</td><td>true</td><td>4</td><td>8004</td><td>2025-06-16T17:46:21.448+0000</td><td>web</td><td>9f696da02a397fa914f13311758ec4dad3a1a9b4eb821587776647bd1ecf042b</td></tr><tr><td>700005</td><td>1000579</td><td>wishlist_add</td><td>2024-10-20T16:38:41.000+0000</td><td>tablet_app</td><td>notification</td><td>38658ce7-88e3-488c-ad06-c843f436ac99</td><td>46</td><td>75.23</td><td>true</td><td>4</td><td>8005</td><td>2025-06-16T17:46:21.448+0000</td><td>api</td><td>a7bbb8f4cf6cf238592a1ab55a7449cd45eb3c78cd0f19e832a4121b0fab91a1</td></tr><tr><td>700006</td><td>1000227</td><td>review</td><td>2024-09-01T00:35:23.000+0000</td><td>web</td><td>chat</td><td>42143556-9220-4883-87ca-1e413e9ba953</td><td>574</td><td>6.9</td><td>true</td><td>1</td><td>8006</td><td>2025-06-16T17:46:21.448+0000</td><td>app</td><td>9f063ee6e801943b172fc78fe5833c7f71ede8d1f926b4d286d06a623bb04065</td></tr><tr><td>700007</td><td>1000999</td><td>support_chat</td><td>2024-12-04T17:15:34.000+0000</td><td>mobile_app</td><td>search</td><td>a4d94af4-d431-4c37-9f0f-ec8de63aa844</td><td>199</td><td>14.69</td><td>false</td><td>5</td><td>8007</td><td>2025-06-16T17:46:21.448+0000</td><td>web</td><td>93d3643a794baab5545467b5952c759a487e2a214bd7e4961f4dc22159fc3061</td></tr><tr><td>700008</td><td>1000547</td><td>login</td><td>2024-07-16T05:42:29.000+0000</td><td>tablet_app</td><td>product_view</td><td>05ec52b6-a465-4603-9118-d2d6aa8b82e8</td><td>90</td><td>68.75</td><td>true</td><td>3</td><td>8008</td><td>2025-06-16T17:46:21.448+0000</td><td>api</td><td>fc536455d55062f8399113a47cb989387b34566d7a502eba7bcbd1abe8065f44</td></tr><tr><td>700009</td><td>1000834</td><td>logout</td><td>2024-05-17T18:45:31.000+0000</td><td>web</td><td>checkout</td><td>f027a15c-11cf-4d7b-a973-e416f32347e2</td><td>426</td><td>66.9</td><td>true</td><td>2</td><td>8009</td><td>2025-06-16T17:46:21.448+0000</td><td>app</td><td>8f70b0ec9c77c265b51db1e077f0e64307cc0ebfa0fb06e8697180c324e3be99</td></tr></tbody></table></div>"
      ]
     },
     "metadata": {
      "application/vnd.databricks.v1+output": {
       "addedWidgets": {},
       "aggData": [],
       "aggError": "",
       "aggOverflow": false,
       "aggSchema": [],
       "aggSeriesLimitReached": false,
       "aggType": "",
       "arguments": {},
       "columnCustomDisplayInfos": {},
       "data": [
        [
         700000,
         1000859,
         "login",
         "2024-06-15T00:06:53.000+0000",
         "web",
         "search",
         "b27ab346-e5f0-4429-a828-f0b09474e0e4",
         506,
         93.43,
         false,
         4,
         8000,
         "2025-06-16T17:46:21.448+0000",
         "app",
         "9e0f8c8ef79abbd6ce1ce1242cdec5b7f08c5d5faf8a9e839016a4e75d6dffa0"
        ],
        [
         700001,
         1000171,
         "logout",
         "2024-09-15T01:33:42.000+0000",
         "mobile_app",
         "product_view",
         "6821cc3f-1bee-4912-aec1-2d569b4e1fce",
         578,
         10.67,
         true,
         5,
         8001,
         "2025-06-16T17:46:21.448+0000",
         "web",
         "5d82097dcc0897edcdd8343b0953f4fa5238b5730b0df0afc39ad0aaed746226"
        ],
        [
         700002,
         1000856,
         "purchase",
         "2024-06-16T04:01:21.000+0000",
         "tablet_app",
         "checkout",
         "06914720-8ca4-4da1-a828-e30935436c67",
         419,
         19.73,
         true,
         5,
         8002,
         "2025-06-16T17:46:21.448+0000",
         "api",
         "ed170ea8314bbd15815da990521ca19f2115167c6e6d0a352c3585ac4a9d6924"
        ],
        [
         700003,
         1000797,
         "cart_add",
         "2024-03-17T08:59:04.000+0000",
         "web",
         "payment",
         "9d000aec-f34e-4749-869c-f06cc4a1455e",
         696,
         78.52,
         true,
         3,
         8003,
         "2025-06-16T17:46:21.448+0000",
         "app",
         "91ac0abf2d3e5319b12637f1b38311210a32105f96afe40621809b39833598b0"
        ],
        [
         700004,
         1000650,
         "cart_remove",
         "2024-11-17T12:55:46.000+0000",
         "mobile_app",
         "profile_update",
         "6e26543e-19f0-4a28-a467-e3b5707d8baa",
         73,
         64.34,
         true,
         4,
         8004,
         "2025-06-16T17:46:21.448+0000",
         "web",
         "9f696da02a397fa914f13311758ec4dad3a1a9b4eb821587776647bd1ecf042b"
        ],
        [
         700005,
         1000579,
         "wishlist_add",
         "2024-10-20T16:38:41.000+0000",
         "tablet_app",
         "notification",
         "38658ce7-88e3-488c-ad06-c843f436ac99",
         46,
         75.23,
         true,
         4,
         8005,
         "2025-06-16T17:46:21.448+0000",
         "api",
         "a7bbb8f4cf6cf238592a1ab55a7449cd45eb3c78cd0f19e832a4121b0fab91a1"
        ],
        [
         700006,
         1000227,
         "review",
         "2024-09-01T00:35:23.000+0000",
         "web",
         "chat",
         "42143556-9220-4883-87ca-1e413e9ba953",
         574,
         6.9,
         true,
         1,
         8006,
         "2025-06-16T17:46:21.448+0000",
         "app",
         "9f063ee6e801943b172fc78fe5833c7f71ede8d1f926b4d286d06a623bb04065"
        ],
        [
         700007,
         1000999,
         "support_chat",
         "2024-12-04T17:15:34.000+0000",
         "mobile_app",
         "search",
         "a4d94af4-d431-4c37-9f0f-ec8de63aa844",
         199,
         14.69,
         false,
         5,
         8007,
         "2025-06-16T17:46:21.448+0000",
         "web",
         "93d3643a794baab5545467b5952c759a487e2a214bd7e4961f4dc22159fc3061"
        ],
        [
         700008,
         1000547,
         "login",
         "2024-07-16T05:42:29.000+0000",
         "tablet_app",
         "product_view",
         "05ec52b6-a465-4603-9118-d2d6aa8b82e8",
         90,
         68.75,
         true,
         3,
         8008,
         "2025-06-16T17:46:21.448+0000",
         "api",
         "fc536455d55062f8399113a47cb989387b34566d7a502eba7bcbd1abe8065f44"
        ],
        [
         700009,
         1000834,
         "logout",
         "2024-05-17T18:45:31.000+0000",
         "web",
         "checkout",
         "f027a15c-11cf-4d7b-a973-e416f32347e2",
         426,
         66.9,
         true,
         2,
         8009,
         "2025-06-16T17:46:21.448+0000",
         "app",
         "8f70b0ec9c77c265b51db1e077f0e64307cc0ebfa0fb06e8697180c324e3be99"
        ]
       ],
       "datasetInfos": [],
       "dbfsResultPath": null,
       "isJsonSchema": true,
       "metadata": {},
       "overflow": false,
       "plotOptions": {
        "customPlotOptions": {},
        "displayType": "table",
        "pivotAggregation": null,
        "pivotColumns": null,
        "xColumns": null,
        "yColumns": null
       },
       "removedWidgets": [],
       "schema": [
        {
         "metadata": "{}",
         "name": "event_id",
         "type": "\"long\""
        },
        {
         "metadata": "{}",
         "name": "customer_id",
         "type": "\"long\""
        },
        {
         "metadata": "{}",
         "name": "event_type",
         "type": "\"string\""
        },
        {
         "metadata": "{}",
         "name": "event_date",
         "type": "\"timestamp\""
        },
        {
         "metadata": "{}",
         "name": "platform",
         "type": "\"string\""
        },
        {
         "metadata": "{}",
         "name": "feature_used",
         "type": "\"string\""
        },
        {
         "metadata": "{}",
         "name": "session_id",
         "type": "\"string\""
        },
        {
         "metadata": "{}",
         "name": "session_duration",
         "type": "\"long\""
        },
        {
         "metadata": "{}",
         "name": "event_value",
         "type": "\"float\""
        },
        {
         "metadata": "{}",
         "name": "event_success_flag",
         "type": "\"boolean\""
        },
        {
         "metadata": "{}",
         "name": "repeat_feature_use_count",
         "type": "\"long\""
        },
        {
         "metadata": "{}",
         "name": "batch_id",
         "type": "\"long\""
        },
        {
         "metadata": "{}",
         "name": "ingest_ts",
         "type": "\"timestamp\""
        },
        {
         "metadata": "{}",
         "name": "source",
         "type": "\"string\""
        },
        {
         "metadata": "{}",
         "name": "record_hash",
         "type": "\"string\""
        }
       ],
       "type": "table"
      }
     },
     "output_type": "display_data"
    }
   ],
   "source": [
    "import dbldatagen as dg\n",
    "from pyspark.sql.types import StringType, LongType, FloatType, BooleanType, TimestampType\n",
    "from faker import Faker\n",
    "import random\n",
    "from datetime import timedelta, datetime\n",
    "\n",
    "fake = Faker()\n",
    "spark.conf.set(\"spark.sql.shuffle.partitions\", \"4\")\n",
    "\n",
    "# Load customers from valid lifecycle stages\n",
    "customer_df = spark.sql(\"\"\"\n",
    "    SELECT customer_id, name, activation_date, churn_date\n",
    "    FROM customers\n",
    "    WHERE lifecycle_stage IN ('Activated', 'Engaged', 'Paying', 'Retained', 'Lost')\n",
    "\"\"\").cache()\n",
    "\n",
    "customer_ids = [row['customer_id'] for row in customer_df.collect()]\n",
    "activation_dates = {row['customer_id']: row['activation_date'] for row in customer_df.collect()}\n",
    "churn_dates = {row['customer_id']: row['churn_date'] for row in customer_df.collect()}\n",
    "\n",
    "# Weighted VIP sampling\n",
    "vip_customers = random.sample(customer_ids, int(0.1 * len(customer_ids)))\n",
    "weighted_customer_ids = customer_ids + vip_customers * 5\n",
    "\n",
    "# Config\n",
    "num_events = 1000\n",
    "event_customer_samples = random.choices(weighted_customer_ids, k=num_events)\n",
    "\n",
    "# Event dates after activation and before churn\n",
    "def random_event_time(cust_id):\n",
    "    activation = activation_dates[cust_id]\n",
    "    churn = churn_dates.get(cust_id)\n",
    "    activation_dt = datetime.combine(activation, datetime.min.time())\n",
    "    if churn:\n",
    "        churn_dt = datetime.combine(churn, datetime.min.time())\n",
    "        max_days = (churn_dt - activation_dt).days\n",
    "        delta_days = random.randint(0, max_days if max_days > 0 else 1)\n",
    "    else:\n",
    "        delta_days = random.randint(0, 90)\n",
    "    delta_seconds = random.randint(0, 86400)\n",
    "    return activation_dt + timedelta(days=delta_days, seconds=delta_seconds)\n",
    "\n",
    "event_times = [random_event_time(cid) for cid in event_customer_samples]\n",
    "\n",
    "# Static pool values\n",
    "event_types = [\"login\", \"logout\", \"purchase\", \"cart_add\", \"cart_remove\", \"wishlist_add\", \"review\", \"support_chat\"]\n",
    "platforms = [\"web\", \"mobile_app\", \"tablet_app\"]\n",
    "features = [\"search\", \"product_view\", \"checkout\", \"payment\", \"profile_update\", \"notification\", \"chat\"]\n",
    "sources = [\"app\", \"web\", \"api\"]\n",
    "session_ids = [fake.uuid4() for _ in range(num_events)]\n",
    "session_durations = [random.randint(30, 900) for _ in range(num_events)]\n",
    "event_values = [round(random.uniform(1, 100), 2) for _ in range(num_events)]\n",
    "event_success_flags = [random.choices([True, False], weights=[0.85, 0.15])[0] for _ in range(num_events)]\n",
    "repeat_use_counts = [random.randint(1, 5) for _ in range(num_events)]\n",
    "\n",
    "# Generate dataframe\n",
    "df_events_gen = (\n",
    "    dg.DataGenerator(spark, name=\"events\", rows=num_events, partitions=4)\n",
    "    .withColumn(\"event_id\", LongType(), minValue=700000, uniqueValues=num_events * 2)\n",
    "    .withColumn(\"customer_id\", LongType(), values=event_customer_samples)\n",
    "    .withColumn(\"event_type\", StringType(), values=event_types)\n",
    "    .withColumn(\"event_date\", TimestampType(), values=event_times)\n",
    "    .withColumn(\"platform\", StringType(), values=platforms)\n",
    "    .withColumn(\"feature_used\", StringType(), values=features)\n",
    "    .withColumn(\"session_id\", StringType(), values=session_ids)\n",
    "    .withColumn(\"session_duration\", LongType(), values=session_durations)\n",
    "    .withColumn(\"event_value\", FloatType(), values=event_values)\n",
    "    .withColumn(\"event_success_flag\", BooleanType(), values=event_success_flags)\n",
    "    .withColumn(\"repeat_feature_use_count\", LongType(), values=repeat_use_counts)\n",
    "    .withColumn(\"batch_id\", LongType(), minValue=8000, maxValue=9000)\n",
    "    .withColumn(\"ingest_ts\", \"timestamp\", expr=\"current_timestamp()\")\n",
    "    .withColumn(\"source\", StringType(), values=sources)\n",
    "    .withColumn(\"record_hash\", StringType(), expr=\"sha2(concat(event_id, customer_id), 256)\")\n",
    ")\n",
    "\n",
    "df_events = df_events_gen.build()\n",
    "df_events.createOrReplaceTempView(\"events\")\n",
    "display(df_events.limit(10))\n"
   ]
  },
  {
   "cell_type": "code",
   "execution_count": 0,
   "metadata": {
    "application/vnd.databricks.v1+cell": {
     "cellMetadata": {
      "byteLimit": 2048000,
      "implicitDf": true,
      "rowLimit": 10000
     },
     "inputWidgets": {},
     "nuid": "85388503-ef0a-4aaa-a96b-d95d797e7093",
     "showTitle": false,
     "tableResultSettingsMap": {},
     "title": ""
    }
   },
   "outputs": [],
   "source": [
    "# %sql\n",
    "# -- 2.1 Validate customer_id exists in customers table\n",
    "# SELECT e.customer_id\n",
    "# FROM events e\n",
    "# LEFT JOIN customers c ON e.customer_id = c.customer_id\n",
    "# WHERE c.customer_id IS NULL;"
   ]
  },
  {
   "cell_type": "code",
   "execution_count": 0,
   "metadata": {
    "application/vnd.databricks.v1+cell": {
     "cellMetadata": {
      "byteLimit": 2048000,
      "implicitDf": true,
      "rowLimit": 10000
     },
     "inputWidgets": {},
     "nuid": "187aa249-30ab-436b-a08f-ac1a4549fcaa",
     "showTitle": false,
     "tableResultSettingsMap": {},
     "title": ""
    }
   },
   "outputs": [],
   "source": [
    "# %sql\n",
    "# SELECT e.*\n",
    "# FROM events e\n",
    "# JOIN customers c ON e.customer_id = c.customer_id\n",
    "# WHERE e.event_date < c.activation_date\n",
    "#    OR (c.churn_date IS NOT NULL AND e.event_date > c.churn_date);"
   ]
  },
  {
   "cell_type": "code",
   "execution_count": 0,
   "metadata": {
    "application/vnd.databricks.v1+cell": {
     "cellMetadata": {
      "byteLimit": 2048000,
      "implicitDf": true,
      "rowLimit": 10000
     },
     "inputWidgets": {},
     "nuid": "53d3c582-7496-4db4-a5bf-6cb4dd3f8890",
     "showTitle": false,
     "tableResultSettingsMap": {},
     "title": ""
    }
   },
   "outputs": [],
   "source": [
    "# # %sql\n",
    "# # -- 6.1 Customers with no events at all (should be minimal for engaged/retained)\n",
    "# # SELECT c.customer_id, c.lifecycle_stage\n",
    "# FROM customers c\n",
    "# # LEFT JOIN events e ON c.customer_id = e.customer_id\n",
    "# # WHERE e.customer_id IS NULL AND c.lifecycle_stage IN ('Activated', 'Engaged', 'Paying', 'Retained', 'Lost'); "
   ]
  },
  {
   "cell_type": "code",
   "execution_count": 0,
   "metadata": {
    "application/vnd.databricks.v1+cell": {
     "cellMetadata": {
      "byteLimit": 2048000,
      "rowLimit": 10000
     },
     "inputWidgets": {},
     "nuid": "a3fb0016-51e1-4586-8ca0-578c35dcfe74",
     "showTitle": true,
     "tableResultSettingsMap": {},
     "title": "Campaigns"
    }
   },
   "outputs": [
    {
     "output_type": "display_data",
     "data": {
      "text/html": [
       "<style scoped>\n",
       "  .table-result-container {\n",
       "    max-height: 300px;\n",
       "    overflow: auto;\n",
       "  }\n",
       "  table, th, td {\n",
       "    border: 1px solid black;\n",
       "    border-collapse: collapse;\n",
       "  }\n",
       "  th, td {\n",
       "    padding: 5px;\n",
       "  }\n",
       "  th {\n",
       "    text-align: left;\n",
       "  }\n",
       "</style><div class='table-result-container'><table class='table-result'><thead style='background-color: white'><tr><th>campaign_id</th><th>campaign_name</th><th>channel</th><th>start_date</th><th>end_date</th><th>cost</th><th>impressions</th><th>clicks</th><th>conversions</th><th>signup_source</th><th>target_country</th><th>target_city</th><th>batch_id</th><th>ingest_ts</th><th>source</th><th>record_hash</th></tr></thead><tbody><tr><td>900000</td><td>Exclusive transitional intranet Campaign</td><td>email</td><td>2024-11-11</td><td>2024-12-24</td><td>6574.29</td><td>820219</td><td>772850</td><td>205090</td><td>organic</td><td>India</td><td>Delhi</td><td>9000</td><td>2024-01-01T00:00:00.000+0000</td><td>internal</td><td>d1d282f04815e254882e9fee0144155003a6c2383f1614c3c3a8f575b6f2db2f</td></tr><tr><td>900001</td><td>Seamless exuding encryption Campaign</td><td>social_media</td><td>2024-06-26</td><td>2024-07-12</td><td>41429.43</td><td>677674</td><td>548056</td><td>190204</td><td>paid</td><td>Singapore</td><td>Singapore</td><td>9001</td><td>2024-01-02T00:00:00.000+0000</td><td>external</td><td>68bc4088507d3b4859f20bd52d28745726f5cced789e374bebd8f0fef4e91e26</td></tr><tr><td>900002</td><td>Extended human-resource database Campaign</td><td>tv</td><td>2024-08-20</td><td>2024-09-04</td><td>41748.41</td><td>327654</td><td>238272</td><td>54304</td><td>referral</td><td>Singapore</td><td>Singapore</td><td>9002</td><td>2024-01-03T00:00:00.000+0000</td><td>internal</td><td>d4c81d964dc5457b065dac9c046026f4d3c769c6e7c2d6df7c8ba4f291e0fbfd</td></tr><tr><td>900003</td><td>Virtual impactful capability Campaign</td><td>radio</td><td>2024-07-23</td><td>2024-09-02</td><td>33374.13</td><td>555165</td><td>141805</td><td>135663</td><td>affiliate</td><td>India</td><td>Bangalore</td><td>9003</td><td>2024-01-04T00:00:00.000+0000</td><td>external</td><td>cf9c918c6f1963bc717ed02671f8040e1fcf85b714c0dfe0145234f8b0099c7c</td></tr><tr><td>900004</td><td>Configurable zero-defect attitude Campaign</td><td>print</td><td>2025-01-23</td><td>2025-03-07</td><td>39911.33</td><td>387963</td><td>91909</td><td>46639</td><td>organic</td><td>Philippines</td><td>Cebu</td><td>9004</td><td>2024-01-05T00:00:00.000+0000</td><td>internal</td><td>5e4e3c5e2c4e91391e5128ee164b345f7732e3d6e968846cc37f2f659b3ffa6b</td></tr><tr><td>900005</td><td>Front-line user-facing secured line Campaign</td><td>web</td><td>2024-11-20</td><td>2024-12-30</td><td>16857.36</td><td>961666</td><td>228706</td><td>38215</td><td>paid</td><td>Sri Lanka</td><td>Kandy</td><td>9005</td><td>2024-01-06T00:00:00.000+0000</td><td>external</td><td>8c60e46987dec610c92362063d9bc20b9e1d1d3659f9398093fd4286103208cb</td></tr><tr><td>900006</td><td>User-friendly tertiary Graphical User Interface Campaign</td><td>mobile_push</td><td>2024-11-24</td><td>2024-12-31</td><td>25382.31</td><td>100495</td><td>5259</td><td>788</td><td>referral</td><td>Singapore</td><td>Singapore</td><td>9006</td><td>2024-01-07T00:00:00.000+0000</td><td>internal</td><td>51342ec2680e38ebc2664425c0783671dd5aa3690fc1c6cadd5f991c43b8ea1f</td></tr><tr><td>900007</td><td>Virtual 6thgeneration strategy Campaign</td><td>email</td><td>2025-01-26</td><td>2025-03-03</td><td>36811.87</td><td>566076</td><td>540173</td><td>426686</td><td>affiliate</td><td>Singapore</td><td>Singapore</td><td>9007</td><td>2024-01-08T00:00:00.000+0000</td><td>external</td><td>ce56a2df49fb989de29ad24f48913d860abbeaaa81fe6cd50483c59da676edfa</td></tr><tr><td>900008</td><td>Exclusive next generation productivity Campaign</td><td>social_media</td><td>2025-04-10</td><td>2025-05-24</td><td>30971.16</td><td>114609</td><td>90210</td><td>63029</td><td>organic</td><td>Indonesia</td><td>Jakarta</td><td>9008</td><td>2024-01-09T00:00:00.000+0000</td><td>internal</td><td>0f9106768c175c1cffafae8700c1aa7e04f6c94c7dd46104b534e7f77b0f554c</td></tr><tr><td>900009</td><td>Down-sized composite service-desk Campaign</td><td>tv</td><td>2024-08-25</td><td>2024-09-09</td><td>42470.04</td><td>892720</td><td>712183</td><td>698903</td><td>paid</td><td>Singapore</td><td>Singapore</td><td>9009</td><td>2024-01-10T00:00:00.000+0000</td><td>external</td><td>b415b193128ffb38ac4cc26c6a6a4b1e596881adaf454e84617e814a409fa279</td></tr></tbody></table></div>"
      ]
     },
     "metadata": {
      "application/vnd.databricks.v1+output": {
       "addedWidgets": {},
       "aggData": [],
       "aggError": "",
       "aggOverflow": false,
       "aggSchema": [],
       "aggSeriesLimitReached": false,
       "aggType": "",
       "arguments": {},
       "columnCustomDisplayInfos": {},
       "data": [
        [
         900000,
         "Exclusive transitional intranet Campaign",
         "email",
         "2024-11-11",
         "2024-12-24",
         6574.29,
         820219,
         772850,
         205090,
         "organic",
         "India",
         "Delhi",
         9000,
         "2024-01-01T00:00:00.000+0000",
         "internal",
         "d1d282f04815e254882e9fee0144155003a6c2383f1614c3c3a8f575b6f2db2f"
        ],
        [
         900001,
         "Seamless exuding encryption Campaign",
         "social_media",
         "2024-06-26",
         "2024-07-12",
         41429.43,
         677674,
         548056,
         190204,
         "paid",
         "Singapore",
         "Singapore",
         9001,
         "2024-01-02T00:00:00.000+0000",
         "external",
         "68bc4088507d3b4859f20bd52d28745726f5cced789e374bebd8f0fef4e91e26"
        ],
        [
         900002,
         "Extended human-resource database Campaign",
         "tv",
         "2024-08-20",
         "2024-09-04",
         41748.41,
         327654,
         238272,
         54304,
         "referral",
         "Singapore",
         "Singapore",
         9002,
         "2024-01-03T00:00:00.000+0000",
         "internal",
         "d4c81d964dc5457b065dac9c046026f4d3c769c6e7c2d6df7c8ba4f291e0fbfd"
        ],
        [
         900003,
         "Virtual impactful capability Campaign",
         "radio",
         "2024-07-23",
         "2024-09-02",
         33374.13,
         555165,
         141805,
         135663,
         "affiliate",
         "India",
         "Bangalore",
         9003,
         "2024-01-04T00:00:00.000+0000",
         "external",
         "cf9c918c6f1963bc717ed02671f8040e1fcf85b714c0dfe0145234f8b0099c7c"
        ],
        [
         900004,
         "Configurable zero-defect attitude Campaign",
         "print",
         "2025-01-23",
         "2025-03-07",
         39911.33,
         387963,
         91909,
         46639,
         "organic",
         "Philippines",
         "Cebu",
         9004,
         "2024-01-05T00:00:00.000+0000",
         "internal",
         "5e4e3c5e2c4e91391e5128ee164b345f7732e3d6e968846cc37f2f659b3ffa6b"
        ],
        [
         900005,
         "Front-line user-facing secured line Campaign",
         "web",
         "2024-11-20",
         "2024-12-30",
         16857.36,
         961666,
         228706,
         38215,
         "paid",
         "Sri Lanka",
         "Kandy",
         9005,
         "2024-01-06T00:00:00.000+0000",
         "external",
         "8c60e46987dec610c92362063d9bc20b9e1d1d3659f9398093fd4286103208cb"
        ],
        [
         900006,
         "User-friendly tertiary Graphical User Interface Campaign",
         "mobile_push",
         "2024-11-24",
         "2024-12-31",
         25382.31,
         100495,
         5259,
         788,
         "referral",
         "Singapore",
         "Singapore",
         9006,
         "2024-01-07T00:00:00.000+0000",
         "internal",
         "51342ec2680e38ebc2664425c0783671dd5aa3690fc1c6cadd5f991c43b8ea1f"
        ],
        [
         900007,
         "Virtual 6thgeneration strategy Campaign",
         "email",
         "2025-01-26",
         "2025-03-03",
         36811.87,
         566076,
         540173,
         426686,
         "affiliate",
         "Singapore",
         "Singapore",
         9007,
         "2024-01-08T00:00:00.000+0000",
         "external",
         "ce56a2df49fb989de29ad24f48913d860abbeaaa81fe6cd50483c59da676edfa"
        ],
        [
         900008,
         "Exclusive next generation productivity Campaign",
         "social_media",
         "2025-04-10",
         "2025-05-24",
         30971.16,
         114609,
         90210,
         63029,
         "organic",
         "Indonesia",
         "Jakarta",
         9008,
         "2024-01-09T00:00:00.000+0000",
         "internal",
         "0f9106768c175c1cffafae8700c1aa7e04f6c94c7dd46104b534e7f77b0f554c"
        ],
        [
         900009,
         "Down-sized composite service-desk Campaign",
         "tv",
         "2024-08-25",
         "2024-09-09",
         42470.04,
         892720,
         712183,
         698903,
         "paid",
         "Singapore",
         "Singapore",
         9009,
         "2024-01-10T00:00:00.000+0000",
         "external",
         "b415b193128ffb38ac4cc26c6a6a4b1e596881adaf454e84617e814a409fa279"
        ]
       ],
       "datasetInfos": [],
       "dbfsResultPath": null,
       "isJsonSchema": true,
       "metadata": {},
       "overflow": false,
       "plotOptions": {
        "customPlotOptions": {},
        "displayType": "table",
        "pivotAggregation": null,
        "pivotColumns": null,
        "xColumns": null,
        "yColumns": null
       },
       "removedWidgets": [],
       "schema": [
        {
         "metadata": "{}",
         "name": "campaign_id",
         "type": "\"long\""
        },
        {
         "metadata": "{}",
         "name": "campaign_name",
         "type": "\"string\""
        },
        {
         "metadata": "{}",
         "name": "channel",
         "type": "\"string\""
        },
        {
         "metadata": "{}",
         "name": "start_date",
         "type": "\"date\""
        },
        {
         "metadata": "{}",
         "name": "end_date",
         "type": "\"date\""
        },
        {
         "metadata": "{}",
         "name": "cost",
         "type": "\"float\""
        },
        {
         "metadata": "{}",
         "name": "impressions",
         "type": "\"integer\""
        },
        {
         "metadata": "{}",
         "name": "clicks",
         "type": "\"integer\""
        },
        {
         "metadata": "{}",
         "name": "conversions",
         "type": "\"integer\""
        },
        {
         "metadata": "{}",
         "name": "signup_source",
         "type": "\"string\""
        },
        {
         "metadata": "{}",
         "name": "target_country",
         "type": "\"string\""
        },
        {
         "metadata": "{}",
         "name": "target_city",
         "type": "\"string\""
        },
        {
         "metadata": "{}",
         "name": "batch_id",
         "type": "\"long\""
        },
        {
         "metadata": "{}",
         "name": "ingest_ts",
         "type": "\"timestamp\""
        },
        {
         "metadata": "{}",
         "name": "source",
         "type": "\"string\""
        },
        {
         "metadata": "{}",
         "name": "record_hash",
         "type": "\"string\""
        }
       ],
       "type": "table"
      }
     },
     "output_type": "display_data"
    }
   ],
   "source": [
    "import dbldatagen as dg\n",
    "from pyspark.sql.types import StringType, LongType, FloatType, DateType, IntegerType\n",
    "from faker import Faker\n",
    "from pyspark.sql.functions import expr\n",
    "import random\n",
    "from datetime import timedelta\n",
    "from collections import defaultdict\n",
    "\n",
    "fake = Faker()\n",
    "spark.conf.set(\"spark.sql.shuffle.partitions\", \"4\")\n",
    "\n",
    "# Step 1: Pull valid country-city pairs from customer table\n",
    "customer_geo_df = spark.sql(\"\"\"\n",
    "    SELECT DISTINCT country, city\n",
    "    FROM customers\n",
    "    WHERE country IS NOT NULL AND city IS NOT NULL\n",
    "\"\"\").collect()\n",
    "\n",
    "# Create mapping: country → list of cities\n",
    "country_city_map = defaultdict(set)\n",
    "for row in customer_geo_df:\n",
    "    country_city_map[row[\"country\"]].add(row[\"city\"])\n",
    "\n",
    "# Convert to list format\n",
    "for key in country_city_map:\n",
    "    country_city_map[key] = list(country_city_map[key])\n",
    "\n",
    "# Step 2: Sample (country, city) pairs per campaign\n",
    "num_campaigns = 1000\n",
    "target_country_samples = []\n",
    "target_city_samples = []\n",
    "\n",
    "for _ in range(num_campaigns):\n",
    "    country = random.choice(list(country_city_map.keys()))\n",
    "    city = random.choice(country_city_map[country])\n",
    "    target_country_samples.append(country)\n",
    "    target_city_samples.append(city)\n",
    "\n",
    "# Step 3: Other campaign attributes\n",
    "channels = [\"email\", \"social_media\", \"tv\", \"radio\", \"print\", \"web\", \"mobile_push\"]\n",
    "signup_sources = [\"organic\", \"paid\", \"referral\", \"affiliate\"]\n",
    "campaign_names = [f\"{fake.catch_phrase()} Campaign\" for _ in range(num_campaigns)]\n",
    "\n",
    "# Randomized campaign timelines and metrics\n",
    "campaign_start_dates = [fake.date_between(start_date='-1y', end_date='today') for _ in range(num_campaigns)]\n",
    "campaign_end_dates = [start + timedelta(days=random.randint(7, 60)) for start in campaign_start_dates]\n",
    "costs = [round(random.uniform(1000, 50000), 2) for _ in range(num_campaigns)]\n",
    "impressions = [random.randint(10000, 1000000) for _ in range(num_campaigns)]\n",
    "clicks = [random.randint(1000, impressions[i]) for i in range(num_campaigns)]\n",
    "conversions = [random.randint(100, clicks[i]) for i in range(num_campaigns)]\n",
    "\n",
    "# Step 4: Build the Campaigns table\n",
    "df_campaigns_gen = (\n",
    "    dg.DataGenerator(spark, name=\"campaigns\", rows=num_campaigns, partitions=2)\n",
    "    .withColumn(\"campaign_id\", LongType(), minValue=900000, uniqueValues=num_campaigns * 2)\n",
    "    .withColumn(\"campaign_name\", StringType(), values=campaign_names)\n",
    "    .withColumn(\"channel\", StringType(), values=channels)\n",
    "    .withColumn(\"start_date\", DateType(), values=campaign_start_dates)\n",
    "    .withColumn(\"end_date\", DateType(), values=campaign_end_dates)\n",
    "    .withColumn(\"cost\", FloatType(), values=costs)\n",
    "    .withColumn(\"impressions\", IntegerType(), values=impressions)\n",
    "    .withColumn(\"clicks\", IntegerType(), values=clicks)\n",
    "    .withColumn(\"conversions\", IntegerType(), values=conversions)\n",
    "    .withColumn(\"signup_source\", StringType(), values=signup_sources)\n",
    "    .withColumn(\"target_country\", StringType(), values=target_country_samples)\n",
    "    .withColumn(\"target_city\", StringType(), values=target_city_samples)\n",
    "    .withColumn(\"batch_id\", LongType(), minValue=9000, maxValue=10000)\n",
    "    .withColumn(\"ingest_ts\", \"timestamp\", expr(\"current_timestamp()\"))\n",
    "    .withColumn(\"source\", StringType(), values=[\"internal\", \"external\"])\n",
    "    .withColumn(\"record_hash\", StringType(), expr=\"sha2(cast(campaign_id as string), 256)\"))\n",
    "\n",
    "df_campaigns = df_campaigns_gen.build()\n",
    "df_campaigns.createOrReplaceTempView(\"campaigns\")\n",
    "\n",
    "# Optional: Preview\n",
    "display(df_campaigns.limit(10))\n"
   ]
  },
  {
   "cell_type": "code",
   "execution_count": 0,
   "metadata": {
    "application/vnd.databricks.v1+cell": {
     "cellMetadata": {
      "byteLimit": 2048000,
      "rowLimit": 10000
     },
     "inputWidgets": {},
     "nuid": "291fa3d3-9054-4410-88e9-7266b8b12bb8",
     "showTitle": true,
     "tableResultSettingsMap": {},
     "title": "Support"
    }
   },
   "outputs": [
    {
     "output_type": "display_data",
     "data": {
      "text/html": [
       "<style scoped>\n",
       "  .table-result-container {\n",
       "    max-height: 300px;\n",
       "    overflow: auto;\n",
       "  }\n",
       "  table, th, td {\n",
       "    border: 1px solid black;\n",
       "    border-collapse: collapse;\n",
       "  }\n",
       "  th, td {\n",
       "    padding: 5px;\n",
       "  }\n",
       "  th {\n",
       "    text-align: left;\n",
       "  }\n",
       "</style><div class='table-result-container'><table class='table-result'><thead style='background-color: white'><tr><th>ticket_id</th><th>customer_id</th><th>issue_type</th><th>ticket_opened_date</th><th>ticket_closed_date</th><th>resolution_status</th><th>agent_name</th><th>feedback_score</th><th>resolution_time</th><th>linked_transaction_id</th><th>country</th><th>city</th><th>batch_id</th><th>ingest_ts</th><th>source</th><th>record_hash</th></tr></thead><tbody><tr><td>1000000</td><td>1000859</td><td>billing</td><td>2024-05-14T11:15:06.000+0000</td><td>2024-05-17T11:33:24.000+0000</td><td>resolved</td><td>Kimberly Koch</td><td>null</td><td>72</td><td>204903</td><td>Singapore</td><td>Singapore</td><td>10000</td><td>2025-06-16T17:48:50.940+0000</td><td>email</td><td>792703ad9091867e79971d45fa0104021fefe7105a8637613fa0008479cfdecf</td></tr><tr><td>1000001</td><td>1000420</td><td>technical</td><td>2024-04-07T05:47:55.000+0000</td><td>null</td><td>pending</td><td>Gina Hunter</td><td>3</td><td>null</td><td>200908</td><td>Japan</td><td>Kyoto</td><td>10001</td><td>2025-06-16T17:48:50.940+0000</td><td>chat</td><td>1ccfd6e80576acd873d0426a70ac4b588648753c5c413d57596c57969dd2277a</td></tr><tr><td>1000002</td><td>1000553</td><td>account</td><td>2024-09-23T21:42:17.000+0000</td><td>null</td><td>escalated</td><td>Donald Johnson</td><td>1</td><td>null</td><td>203484</td><td>Indonesia</td><td>Bandung</td><td>10002</td><td>2025-06-16T17:48:50.940+0000</td><td>phone</td><td>7343f751da9d11337d87d1b8d9f1bdb1e30e55a3fe730d9ded31d4144bcac534</td></tr><tr><td>1000003</td><td>1000412</td><td>shipping</td><td>2024-03-09T15:14:41.000+0000</td><td>2024-03-23T15:33:38.000+0000</td><td>closed_without_resolution</td><td>Jason Stevenson</td><td>4</td><td>336</td><td>209014</td><td>Thailand</td><td>Chiang Mai</td><td>10003</td><td>2025-06-16T17:48:50.940+0000</td><td>email</td><td>1100db1260fa24310f0fc337b2e7cea42b6ecab71911e751c705ab5fbe8234cd</td></tr><tr><td>1000004</td><td>1000114</td><td>refund</td><td>2024-04-28T01:40:52.000+0000</td><td>2024-05-02T02:23:54.000+0000</td><td>resolved</td><td>Heather Graham</td><td>4</td><td>96</td><td>201915</td><td>Malaysia</td><td>Kuala Lumpur</td><td>10004</td><td>2025-06-16T17:48:50.940+0000</td><td>chat</td><td>5e568ed3207dfa126e21db59c18fec0c33d77d3ea898d9df0cde546934aa4ec9</td></tr><tr><td>1000005</td><td>1000938</td><td>general inquiry</td><td>2024-10-17T04:45:19.000+0000</td><td>2024-10-31T05:26:24.000+0000</td><td>pending</td><td>Amanda Jennings</td><td>null</td><td>336</td><td>203363</td><td>Indonesia</td><td>Jakarta</td><td>10005</td><td>2025-06-16T17:48:50.940+0000</td><td>phone</td><td>77cb73109657db9ac5d60a4cc2971edaa8e84991dd6384d2640b07c85428b355</td></tr><tr><td>1000006</td><td>1000727</td><td>billing</td><td>2025-01-10T22:28:28.000+0000</td><td>2025-01-25T23:02:52.000+0000</td><td>escalated</td><td>Mary Jones</td><td>null</td><td>360</td><td>200058</td><td>Singapore</td><td>Singapore</td><td>10006</td><td>2025-06-16T17:48:50.940+0000</td><td>email</td><td>2808be81f70aa7be57590e4175d26ff49ded6aa0be3e37b27a649896b5b57138</td></tr><tr><td>1000007</td><td>1000978</td><td>technical</td><td>2024-10-08T08:19:27.000+0000</td><td>null</td><td>closed_without_resolution</td><td>Valerie Campbell</td><td>4</td><td>null</td><td>202933</td><td>Nepal</td><td>Kathmandu</td><td>10007</td><td>2025-06-16T17:48:50.940+0000</td><td>chat</td><td>21dd48542b47b227045f01d278c3197dc9ebb549c48b94718175532eeb52d24d</td></tr><tr><td>1000008</td><td>1000050</td><td>account</td><td>2024-03-01T12:20:04.000+0000</td><td>2024-03-08T12:42:34.000+0000</td><td>resolved</td><td>Wendy Woods</td><td>5</td><td>168</td><td>206442</td><td>Philippines</td><td>Cebu</td><td>10008</td><td>2025-06-16T17:48:50.940+0000</td><td>phone</td><td>eb48be3b2e2131d47754829591b43268c8f604050cd0e82abc301aa5e529c4ab</td></tr><tr><td>1000009</td><td>1000390</td><td>shipping</td><td>2024-03-14T12:11:17.000+0000</td><td>null</td><td>pending</td><td>Crystal Neal</td><td>null</td><td>null</td><td>202386</td><td>Thailand</td><td>Chiang Mai</td><td>10009</td><td>2025-06-16T17:48:50.940+0000</td><td>email</td><td>e2aa0c8836094a59249dc913edc198a2a8bf706f8408449a507e8c042833ce36</td></tr></tbody></table></div>"
      ]
     },
     "metadata": {
      "application/vnd.databricks.v1+output": {
       "addedWidgets": {},
       "aggData": [],
       "aggError": "",
       "aggOverflow": false,
       "aggSchema": [],
       "aggSeriesLimitReached": false,
       "aggType": "",
       "arguments": {},
       "columnCustomDisplayInfos": {},
       "data": [
        [
         1000000,
         1000859,
         "billing",
         "2024-05-14T11:15:06.000+0000",
         "2024-05-17T11:33:24.000+0000",
         "resolved",
         "Kimberly Koch",
         null,
         72,
         204903,
         "Singapore",
         "Singapore",
         10000,
         "2025-06-16T17:48:50.940+0000",
         "email",
         "792703ad9091867e79971d45fa0104021fefe7105a8637613fa0008479cfdecf"
        ],
        [
         1000001,
         1000420,
         "technical",
         "2024-04-07T05:47:55.000+0000",
         null,
         "pending",
         "Gina Hunter",
         3,
         null,
         200908,
         "Japan",
         "Kyoto",
         10001,
         "2025-06-16T17:48:50.940+0000",
         "chat",
         "1ccfd6e80576acd873d0426a70ac4b588648753c5c413d57596c57969dd2277a"
        ],
        [
         1000002,
         1000553,
         "account",
         "2024-09-23T21:42:17.000+0000",
         null,
         "escalated",
         "Donald Johnson",
         1,
         null,
         203484,
         "Indonesia",
         "Bandung",
         10002,
         "2025-06-16T17:48:50.940+0000",
         "phone",
         "7343f751da9d11337d87d1b8d9f1bdb1e30e55a3fe730d9ded31d4144bcac534"
        ],
        [
         1000003,
         1000412,
         "shipping",
         "2024-03-09T15:14:41.000+0000",
         "2024-03-23T15:33:38.000+0000",
         "closed_without_resolution",
         "Jason Stevenson",
         4,
         336,
         209014,
         "Thailand",
         "Chiang Mai",
         10003,
         "2025-06-16T17:48:50.940+0000",
         "email",
         "1100db1260fa24310f0fc337b2e7cea42b6ecab71911e751c705ab5fbe8234cd"
        ],
        [
         1000004,
         1000114,
         "refund",
         "2024-04-28T01:40:52.000+0000",
         "2024-05-02T02:23:54.000+0000",
         "resolved",
         "Heather Graham",
         4,
         96,
         201915,
         "Malaysia",
         "Kuala Lumpur",
         10004,
         "2025-06-16T17:48:50.940+0000",
         "chat",
         "5e568ed3207dfa126e21db59c18fec0c33d77d3ea898d9df0cde546934aa4ec9"
        ],
        [
         1000005,
         1000938,
         "general inquiry",
         "2024-10-17T04:45:19.000+0000",
         "2024-10-31T05:26:24.000+0000",
         "pending",
         "Amanda Jennings",
         null,
         336,
         203363,
         "Indonesia",
         "Jakarta",
         10005,
         "2025-06-16T17:48:50.940+0000",
         "phone",
         "77cb73109657db9ac5d60a4cc2971edaa8e84991dd6384d2640b07c85428b355"
        ],
        [
         1000006,
         1000727,
         "billing",
         "2025-01-10T22:28:28.000+0000",
         "2025-01-25T23:02:52.000+0000",
         "escalated",
         "Mary Jones",
         null,
         360,
         200058,
         "Singapore",
         "Singapore",
         10006,
         "2025-06-16T17:48:50.940+0000",
         "email",
         "2808be81f70aa7be57590e4175d26ff49ded6aa0be3e37b27a649896b5b57138"
        ],
        [
         1000007,
         1000978,
         "technical",
         "2024-10-08T08:19:27.000+0000",
         null,
         "closed_without_resolution",
         "Valerie Campbell",
         4,
         null,
         202933,
         "Nepal",
         "Kathmandu",
         10007,
         "2025-06-16T17:48:50.940+0000",
         "chat",
         "21dd48542b47b227045f01d278c3197dc9ebb549c48b94718175532eeb52d24d"
        ],
        [
         1000008,
         1000050,
         "account",
         "2024-03-01T12:20:04.000+0000",
         "2024-03-08T12:42:34.000+0000",
         "resolved",
         "Wendy Woods",
         5,
         168,
         206442,
         "Philippines",
         "Cebu",
         10008,
         "2025-06-16T17:48:50.940+0000",
         "phone",
         "eb48be3b2e2131d47754829591b43268c8f604050cd0e82abc301aa5e529c4ab"
        ],
        [
         1000009,
         1000390,
         "shipping",
         "2024-03-14T12:11:17.000+0000",
         null,
         "pending",
         "Crystal Neal",
         null,
         null,
         202386,
         "Thailand",
         "Chiang Mai",
         10009,
         "2025-06-16T17:48:50.940+0000",
         "email",
         "e2aa0c8836094a59249dc913edc198a2a8bf706f8408449a507e8c042833ce36"
        ]
       ],
       "datasetInfos": [],
       "dbfsResultPath": null,
       "isJsonSchema": true,
       "metadata": {},
       "overflow": false,
       "plotOptions": {
        "customPlotOptions": {},
        "displayType": "table",
        "pivotAggregation": null,
        "pivotColumns": null,
        "xColumns": null,
        "yColumns": null
       },
       "removedWidgets": [],
       "schema": [
        {
         "metadata": "{}",
         "name": "ticket_id",
         "type": "\"long\""
        },
        {
         "metadata": "{}",
         "name": "customer_id",
         "type": "\"long\""
        },
        {
         "metadata": "{}",
         "name": "issue_type",
         "type": "\"string\""
        },
        {
         "metadata": "{}",
         "name": "ticket_opened_date",
         "type": "\"timestamp\""
        },
        {
         "metadata": "{}",
         "name": "ticket_closed_date",
         "type": "\"timestamp\""
        },
        {
         "metadata": "{}",
         "name": "resolution_status",
         "type": "\"string\""
        },
        {
         "metadata": "{}",
         "name": "agent_name",
         "type": "\"string\""
        },
        {
         "metadata": "{}",
         "name": "feedback_score",
         "type": "\"integer\""
        },
        {
         "metadata": "{}",
         "name": "resolution_time",
         "type": "\"integer\""
        },
        {
         "metadata": "{}",
         "name": "linked_transaction_id",
         "type": "\"long\""
        },
        {
         "metadata": "{}",
         "name": "country",
         "type": "\"string\""
        },
        {
         "metadata": "{}",
         "name": "city",
         "type": "\"string\""
        },
        {
         "metadata": "{}",
         "name": "batch_id",
         "type": "\"long\""
        },
        {
         "metadata": "{}",
         "name": "ingest_ts",
         "type": "\"timestamp\""
        },
        {
         "metadata": "{}",
         "name": "source",
         "type": "\"string\""
        },
        {
         "metadata": "{}",
         "name": "record_hash",
         "type": "\"string\""
        }
       ],
       "type": "table"
      }
     },
     "output_type": "display_data"
    }
   ],
   "source": [
    "import dbldatagen as dg\n",
    "from pyspark.sql.types import StringType, LongType, TimestampType, IntegerType\n",
    "from faker import Faker\n",
    "import random\n",
    "from datetime import timedelta, datetime\n",
    "\n",
    "fake = Faker()\n",
    "spark.conf.set(\"spark.sql.shuffle.partitions\", \"4\")\n",
    "\n",
    "# Step 1: Load only valid customers (from lifecycle stages that can have issues)\n",
    "customer_df = spark.sql(\"\"\"\n",
    "    SELECT customer_id, activation_date, churn_date, country, city\n",
    "    FROM customers\n",
    "    WHERE lifecycle_stage IN ('Activated', 'Engaged', 'Paying', 'Retained', 'Lost')\n",
    "\"\"\").cache()\n",
    "\n",
    "# Prepare customer lookups\n",
    "customer_data = customer_df.collect()\n",
    "customer_ids = [row['customer_id'] for row in customer_data]\n",
    "activation_dates = {row['customer_id']: row['activation_date'] for row in customer_data}\n",
    "churn_dates = {row['customer_id']: row['churn_date'] for row in customer_data}\n",
    "countries = {row['customer_id']: row['country'] for row in customer_data}\n",
    "cities = {row['customer_id']: row['city'] for row in customer_data}\n",
    "\n",
    "# Sample tickets\n",
    "num_tickets = 1000\n",
    "ticket_customer_samples = random.choices(customer_ids, k=num_tickets)\n",
    "\n",
    "# Issue and resolution values\n",
    "issue_types = [\"billing\", \"technical\", \"account\", \"shipping\", \"refund\", \"general inquiry\"]\n",
    "resolution_statuses = [\"resolved\", \"pending\", \"escalated\", \"closed_without_resolution\"]\n",
    "agent_names = [fake.name() for _ in range(40)]\n",
    "sources = [\"email\", \"chat\", \"phone\"]\n",
    "\n",
    "# Generate ticket times and supporting data\n",
    "ticket_opened_times = []\n",
    "ticket_closed_times = []\n",
    "resolution_times = []\n",
    "linked_transaction_ids = []\n",
    "sampled_agent_names = []\n",
    "feedback_scores = []\n",
    "ticket_countries = []\n",
    "ticket_cities = []\n",
    "\n",
    "for cid in ticket_customer_samples:\n",
    "    activation = activation_dates[cid]\n",
    "    churn = churn_dates.get(cid)\n",
    "    activation_dt = datetime.combine(activation, datetime.min.time())\n",
    "\n",
    "    # Ticket opened after activation but before churn (if exists)\n",
    "    max_days = (datetime.combine(churn, datetime.min.time()) - activation_dt).days if churn else 90\n",
    "    delta_days = random.randint(1, max_days if max_days > 1 else 2)\n",
    "    opened = activation_dt + timedelta(days=delta_days, seconds=random.randint(0, 86400))\n",
    "    closed = opened + timedelta(days=random.randint(0, 15), seconds=random.randint(0, 3600)) if random.random() > 0.15 else None\n",
    "    resolution_time = (closed - opened).total_seconds() / 3600 if closed else None\n",
    "\n",
    "    # Populate per-ticket values\n",
    "    ticket_opened_times.append(opened)\n",
    "    ticket_closed_times.append(closed)\n",
    "    resolution_times.append(int(resolution_time) if resolution_time else None)\n",
    "    linked_transaction_ids.append(random.randint(200000, 210000))  # Simulated range\n",
    "    sampled_agent_names.append(random.choice(agent_names))\n",
    "    feedback_scores.append(random.randint(1, 5) if random.random() > 0.3 else None)\n",
    "    ticket_countries.append(countries[cid])\n",
    "    ticket_cities.append(cities[cid])\n",
    "\n",
    "# Generate table\n",
    "df_support_gen = (\n",
    "    dg.DataGenerator(spark, name=\"support\", rows=num_tickets, partitions=4)\n",
    "    .withColumn(\"ticket_id\", LongType(), minValue=1000000, uniqueValues=num_tickets * 2)\n",
    "    .withColumn(\"customer_id\", LongType(), values=ticket_customer_samples)\n",
    "    .withColumn(\"issue_type\", StringType(), values=issue_types)\n",
    "    .withColumn(\"ticket_opened_date\", TimestampType(), values=ticket_opened_times)\n",
    "    .withColumn(\"ticket_closed_date\", TimestampType(), values=ticket_closed_times)\n",
    "    .withColumn(\"resolution_status\", StringType(), values=resolution_statuses)\n",
    "    .withColumn(\"agent_name\", StringType(), values=sampled_agent_names)\n",
    "    .withColumn(\"feedback_score\", IntegerType(), values=feedback_scores)\n",
    "    .withColumn(\"resolution_time\", IntegerType(), values=resolution_times)\n",
    "    .withColumn(\"linked_transaction_id\", LongType(), values=linked_transaction_ids)\n",
    "    .withColumn(\"country\", StringType(), values=ticket_countries)\n",
    "    .withColumn(\"city\", StringType(), values=ticket_cities)\n",
    "    .withColumn(\"batch_id\", LongType(), minValue=10000, maxValue=11000)\n",
    "    .withColumn(\"ingest_ts\", \"timestamp\", expr=\"current_timestamp()\")\n",
    "    .withColumn(\"source\", StringType(), values=sources)\n",
    "    .withColumn(\"record_hash\", StringType(), expr=\"sha2(concat(ticket_id, customer_id), 256)\")\n",
    ")\n",
    "\n",
    "# Build & register\n",
    "df_support = df_support_gen.build()\n",
    "df_support.createOrReplaceTempView(\"support\")\n",
    "\n",
    "# Optional: View sample\n",
    "display(df_support.limit(10))"
   ]
  },
  {
   "cell_type": "code",
   "execution_count": 0,
   "metadata": {
    "application/vnd.databricks.v1+cell": {
     "cellMetadata": {
      "byteLimit": 2048000,
      "implicitDf": true,
      "rowLimit": 10000
     },
     "inputWidgets": {},
     "nuid": "b97ea471-5192-4dbb-b5a0-8936453bef1d",
     "showTitle": false,
     "tableResultSettingsMap": {},
     "title": ""
    }
   },
   "outputs": [
    {
     "output_type": "display_data",
     "data": {
      "text/html": [
       "<style scoped>\n",
       "  .table-result-container {\n",
       "    max-height: 300px;\n",
       "    overflow: auto;\n",
       "  }\n",
       "  table, th, td {\n",
       "    border: 1px solid black;\n",
       "    border-collapse: collapse;\n",
       "  }\n",
       "  th, td {\n",
       "    padding: 5px;\n",
       "  }\n",
       "  th {\n",
       "    text-align: left;\n",
       "  }\n",
       "</style><div class='table-result-container'><table class='table-result'><thead style='background-color: white'><tr><th>lifecycle_stage</th></tr></thead><tbody></tbody></table></div>"
      ]
     },
     "metadata": {
      "application/vnd.databricks.v1+output": {
       "addedWidgets": {},
       "aggData": [],
       "aggError": "",
       "aggOverflow": false,
       "aggSchema": [],
       "aggSeriesLimitReached": false,
       "aggType": "",
       "arguments": {},
       "columnCustomDisplayInfos": {},
       "data": [],
       "datasetInfos": [],
       "dbfsResultPath": null,
       "isJsonSchema": true,
       "metadata": {},
       "overflow": false,
       "plotOptions": {
        "customPlotOptions": {},
        "displayType": "table",
        "pivotAggregation": null,
        "pivotColumns": null,
        "xColumns": null,
        "yColumns": null
       },
       "removedWidgets": [],
       "schema": [
        {
         "metadata": "{}",
         "name": "lifecycle_stage",
         "type": "\"string\""
        }
       ],
       "type": "table"
      }
     },
     "output_type": "display_data"
    }
   ],
   "source": [
    "%sql\n",
    "SELECT DISTINCT c.lifecycle_stage\n",
    "FROM support s\n",
    "LEFT JOIN customers c ON s.customer_id = c.customer_id\n",
    "WHERE c.lifecycle_stage NOT IN ('Activated', 'Engaged', 'Paying', 'Retained', 'Lost');\n"
   ]
  },
  {
   "cell_type": "code",
   "execution_count": 0,
   "metadata": {
    "application/vnd.databricks.v1+cell": {
     "cellMetadata": {
      "byteLimit": 2048000,
      "implicitDf": true,
      "rowLimit": 10000
     },
     "inputWidgets": {},
     "nuid": "bf88c2c9-b2c6-4228-bcba-ab7ce86fbd0b",
     "showTitle": false,
     "tableResultSettingsMap": {},
     "title": ""
    }
   },
   "outputs": [
    {
     "output_type": "display_data",
     "data": {
      "text/html": [
       "<style scoped>\n",
       "  .table-result-container {\n",
       "    max-height: 300px;\n",
       "    overflow: auto;\n",
       "  }\n",
       "  table, th, td {\n",
       "    border: 1px solid black;\n",
       "    border-collapse: collapse;\n",
       "  }\n",
       "  th, td {\n",
       "    padding: 5px;\n",
       "  }\n",
       "  th {\n",
       "    text-align: left;\n",
       "  }\n",
       "</style><div class='table-result-container'><table class='table-result'><thead style='background-color: white'><tr><th>customer_id</th><th>activation_date</th><th>ticket_opened_date</th></tr></thead><tbody></tbody></table></div>"
      ]
     },
     "metadata": {
      "application/vnd.databricks.v1+output": {
       "addedWidgets": {},
       "aggData": [],
       "aggError": "",
       "aggOverflow": false,
       "aggSchema": [],
       "aggSeriesLimitReached": false,
       "aggType": "",
       "arguments": {},
       "columnCustomDisplayInfos": {},
       "data": [],
       "datasetInfos": [],
       "dbfsResultPath": null,
       "isJsonSchema": true,
       "metadata": {},
       "overflow": false,
       "plotOptions": {
        "customPlotOptions": {},
        "displayType": "table",
        "pivotAggregation": null,
        "pivotColumns": null,
        "xColumns": null,
        "yColumns": null
       },
       "removedWidgets": [],
       "schema": [
        {
         "metadata": "{}",
         "name": "customer_id",
         "type": "\"long\""
        },
        {
         "metadata": "{}",
         "name": "activation_date",
         "type": "\"timestamp\""
        },
        {
         "metadata": "{}",
         "name": "ticket_opened_date",
         "type": "\"timestamp\""
        }
       ],
       "type": "table"
      }
     },
     "output_type": "display_data"
    }
   ],
   "source": [
    "%sql\n",
    "SELECT s.customer_id, c.activation_date, s.ticket_opened_date\n",
    "FROM support s\n",
    "JOIN customers c ON s.customer_id = c.customer_id\n",
    "WHERE s.ticket_opened_date < c.activation_date;\n"
   ]
  },
  {
   "cell_type": "code",
   "execution_count": 0,
   "metadata": {
    "application/vnd.databricks.v1+cell": {
     "cellMetadata": {
      "byteLimit": 2048000,
      "implicitDf": true,
      "rowLimit": 10000
     },
     "inputWidgets": {},
     "nuid": "a3c53d61-40b1-4a67-b8b7-729c5a37e006",
     "showTitle": false,
     "tableResultSettingsMap": {},
     "title": ""
    }
   },
   "outputs": [
    {
     "output_type": "display_data",
     "data": {
      "text/html": [
       "<style scoped>\n",
       "  .table-result-container {\n",
       "    max-height: 300px;\n",
       "    overflow: auto;\n",
       "  }\n",
       "  table, th, td {\n",
       "    border: 1px solid black;\n",
       "    border-collapse: collapse;\n",
       "  }\n",
       "  th, td {\n",
       "    padding: 5px;\n",
       "  }\n",
       "  th {\n",
       "    text-align: left;\n",
       "  }\n",
       "</style><div class='table-result-container'><table class='table-result'><thead style='background-color: white'><tr><th>ticket_id</th><th>ticket_opened_date</th><th>ticket_closed_date</th></tr></thead><tbody></tbody></table></div>"
      ]
     },
     "metadata": {
      "application/vnd.databricks.v1+output": {
       "addedWidgets": {},
       "aggData": [],
       "aggError": "",
       "aggOverflow": false,
       "aggSchema": [],
       "aggSeriesLimitReached": false,
       "aggType": "",
       "arguments": {},
       "columnCustomDisplayInfos": {},
       "data": [],
       "datasetInfos": [],
       "dbfsResultPath": null,
       "isJsonSchema": true,
       "metadata": {},
       "overflow": false,
       "plotOptions": {
        "customPlotOptions": {},
        "displayType": "table",
        "pivotAggregation": null,
        "pivotColumns": null,
        "xColumns": null,
        "yColumns": null
       },
       "removedWidgets": [],
       "schema": [
        {
         "metadata": "{}",
         "name": "ticket_id",
         "type": "\"long\""
        },
        {
         "metadata": "{}",
         "name": "ticket_opened_date",
         "type": "\"timestamp\""
        },
        {
         "metadata": "{}",
         "name": "ticket_closed_date",
         "type": "\"timestamp\""
        }
       ],
       "type": "table"
      }
     },
     "output_type": "display_data"
    }
   ],
   "source": [
    "%sql\n",
    "SELECT ticket_id, ticket_opened_date, ticket_closed_date\n",
    "FROM support\n",
    "WHERE ticket_closed_date IS NOT NULL\n",
    "  AND ticket_closed_date < ticket_opened_date;\n"
   ]
  },
  {
   "cell_type": "code",
   "execution_count": 0,
   "metadata": {
    "application/vnd.databricks.v1+cell": {
     "cellMetadata": {
      "byteLimit": 2048000,
      "implicitDf": true,
      "rowLimit": 10000
     },
     "inputWidgets": {},
     "nuid": "e708442d-1db3-4a25-842e-f8ed0cc3d5dd",
     "showTitle": false,
     "tableResultSettingsMap": {},
     "title": ""
    }
   },
   "outputs": [
    {
     "output_type": "display_data",
     "data": {
      "text/html": [
       "<style scoped>\n",
       "  .table-result-container {\n",
       "    max-height: 300px;\n",
       "    overflow: auto;\n",
       "  }\n",
       "  table, th, td {\n",
       "    border: 1px solid black;\n",
       "    border-collapse: collapse;\n",
       "  }\n",
       "  th, td {\n",
       "    padding: 5px;\n",
       "  }\n",
       "  th {\n",
       "    text-align: left;\n",
       "  }\n",
       "</style><div class='table-result-container'><table class='table-result'><thead style='background-color: white'><tr><th>ticket_id</th><th>ticket_closed_date</th><th>resolution_time</th></tr></thead><tbody></tbody></table></div>"
      ]
     },
     "metadata": {
      "application/vnd.databricks.v1+output": {
       "addedWidgets": {},
       "aggData": [],
       "aggError": "",
       "aggOverflow": false,
       "aggSchema": [],
       "aggSeriesLimitReached": false,
       "aggType": "",
       "arguments": {},
       "columnCustomDisplayInfos": {},
       "data": [],
       "datasetInfos": [],
       "dbfsResultPath": null,
       "isJsonSchema": true,
       "metadata": {},
       "overflow": false,
       "plotOptions": {
        "customPlotOptions": {},
        "displayType": "table",
        "pivotAggregation": null,
        "pivotColumns": null,
        "xColumns": null,
        "yColumns": null
       },
       "removedWidgets": [],
       "schema": [
        {
         "metadata": "{}",
         "name": "ticket_id",
         "type": "\"long\""
        },
        {
         "metadata": "{}",
         "name": "ticket_closed_date",
         "type": "\"timestamp\""
        },
        {
         "metadata": "{}",
         "name": "resolution_time",
         "type": "\"integer\""
        }
       ],
       "type": "table"
      }
     },
     "output_type": "display_data"
    }
   ],
   "source": [
    "%sql\n",
    "SELECT ticket_id, ticket_closed_date, resolution_time\n",
    "FROM support\n",
    "WHERE (ticket_closed_date IS NULL AND resolution_time IS NOT NULL)\n",
    "   OR (ticket_closed_date IS NOT NULL AND resolution_time IS NULL);"
   ]
  },
  {
   "cell_type": "code",
   "execution_count": 0,
   "metadata": {
    "application/vnd.databricks.v1+cell": {
     "cellMetadata": {
      "byteLimit": 2048000,
      "implicitDf": true,
      "rowLimit": 10000
     },
     "inputWidgets": {},
     "nuid": "2f2f60a5-b53d-4ad4-9e2b-0b428ecb940a",
     "showTitle": false,
     "tableResultSettingsMap": {},
     "title": ""
    }
   },
   "outputs": [
    {
     "output_type": "display_data",
     "data": {
      "text/html": [
       "<style scoped>\n",
       "  .table-result-container {\n",
       "    max-height: 300px;\n",
       "    overflow: auto;\n",
       "  }\n",
       "  table, th, td {\n",
       "    border: 1px solid black;\n",
       "    border-collapse: collapse;\n",
       "  }\n",
       "  th, td {\n",
       "    padding: 5px;\n",
       "  }\n",
       "  th {\n",
       "    text-align: left;\n",
       "  }\n",
       "</style><div class='table-result-container'><table class='table-result'><thead style='background-color: white'><tr></tr></thead><tbody></tbody></table></div>"
      ]
     },
     "metadata": {
      "application/vnd.databricks.v1+output": {
       "addedWidgets": {},
       "aggData": [],
       "aggError": "",
       "aggOverflow": false,
       "aggSchema": [],
       "aggSeriesLimitReached": false,
       "aggType": "",
       "arguments": {},
       "columnCustomDisplayInfos": {},
       "data": [],
       "datasetInfos": [],
       "dbfsResultPath": null,
       "isJsonSchema": true,
       "metadata": {},
       "overflow": false,
       "plotOptions": {
        "customPlotOptions": {},
        "displayType": "table",
        "pivotAggregation": null,
        "pivotColumns": null,
        "xColumns": null,
        "yColumns": null
       },
       "removedWidgets": [],
       "schema": [],
       "type": "table"
      }
     },
     "output_type": "display_data"
    }
   ],
   "source": [
    "%sql\n",
    "CREATE SCHEMA dev"
   ]
  },
  {
   "cell_type": "code",
   "execution_count": 0,
   "metadata": {
    "application/vnd.databricks.v1+cell": {
     "cellMetadata": {
      "byteLimit": 2048000,
      "implicitDf": true,
      "rowLimit": 10000
     },
     "inputWidgets": {},
     "nuid": "b7b5bc68-5b5b-487f-bb99-ab8f147103ae",
     "showTitle": false,
     "tableResultSettingsMap": {},
     "title": ""
    }
   },
   "outputs": [
    {
     "output_type": "display_data",
     "data": {
      "text/html": [
       "<style scoped>\n",
       "  .table-result-container {\n",
       "    max-height: 300px;\n",
       "    overflow: auto;\n",
       "  }\n",
       "  table, th, td {\n",
       "    border: 1px solid black;\n",
       "    border-collapse: collapse;\n",
       "  }\n",
       "  th, td {\n",
       "    padding: 5px;\n",
       "  }\n",
       "  th {\n",
       "    text-align: left;\n",
       "  }\n",
       "</style><div class='table-result-container'><table class='table-result'><thead style='background-color: white'><tr><th>num_affected_rows</th><th>num_inserted_rows</th></tr></thead><tbody></tbody></table></div>"
      ]
     },
     "metadata": {
      "application/vnd.databricks.v1+output": {
       "addedWidgets": {},
       "aggData": [],
       "aggError": "",
       "aggOverflow": false,
       "aggSchema": [],
       "aggSeriesLimitReached": false,
       "aggType": "",
       "arguments": {},
       "columnCustomDisplayInfos": {},
       "data": [],
       "datasetInfos": [],
       "dbfsResultPath": null,
       "isJsonSchema": true,
       "metadata": {},
       "overflow": false,
       "plotOptions": {
        "customPlotOptions": {},
        "displayType": "table",
        "pivotAggregation": null,
        "pivotColumns": null,
        "xColumns": null,
        "yColumns": null
       },
       "removedWidgets": [],
       "schema": [
        {
         "metadata": "{}",
         "name": "num_affected_rows",
         "type": "\"long\""
        },
        {
         "metadata": "{}",
         "name": "num_inserted_rows",
         "type": "\"long\""
        }
       ],
       "type": "table"
      }
     },
     "output_type": "display_data"
    }
   ],
   "source": [
    "%sql\n",
    "CREATE OR REPLACE TABLE dev.stg_customers AS\n",
    "SELECT * FROM customers"
   ]
  },
  {
   "cell_type": "code",
   "execution_count": 0,
   "metadata": {
    "application/vnd.databricks.v1+cell": {
     "cellMetadata": {
      "byteLimit": 2048000,
      "implicitDf": true,
      "rowLimit": 10000
     },
     "inputWidgets": {},
     "nuid": "1cd79ae9-e778-40fa-a8ee-83e7e0000ada",
     "showTitle": false,
     "tableResultSettingsMap": {},
     "title": ""
    }
   },
   "outputs": [
    {
     "output_type": "display_data",
     "data": {
      "text/html": [
       "<style scoped>\n",
       "  .table-result-container {\n",
       "    max-height: 300px;\n",
       "    overflow: auto;\n",
       "  }\n",
       "  table, th, td {\n",
       "    border: 1px solid black;\n",
       "    border-collapse: collapse;\n",
       "  }\n",
       "  th, td {\n",
       "    padding: 5px;\n",
       "  }\n",
       "  th {\n",
       "    text-align: left;\n",
       "  }\n",
       "</style><div class='table-result-container'><table class='table-result'><thead style='background-color: white'><tr><th>num_affected_rows</th><th>num_inserted_rows</th></tr></thead><tbody></tbody></table></div>"
      ]
     },
     "metadata": {
      "application/vnd.databricks.v1+output": {
       "addedWidgets": {},
       "aggData": [],
       "aggError": "",
       "aggOverflow": false,
       "aggSchema": [],
       "aggSeriesLimitReached": false,
       "aggType": "",
       "arguments": {},
       "columnCustomDisplayInfos": {},
       "data": [],
       "datasetInfos": [],
       "dbfsResultPath": null,
       "isJsonSchema": true,
       "metadata": {},
       "overflow": false,
       "plotOptions": {
        "customPlotOptions": {},
        "displayType": "table",
        "pivotAggregation": null,
        "pivotColumns": null,
        "xColumns": null,
        "yColumns": null
       },
       "removedWidgets": [],
       "schema": [
        {
         "metadata": "{}",
         "name": "num_affected_rows",
         "type": "\"long\""
        },
        {
         "metadata": "{}",
         "name": "num_inserted_rows",
         "type": "\"long\""
        }
       ],
       "type": "table"
      }
     },
     "output_type": "display_data"
    }
   ],
   "source": [
    "%sql\n",
    "CREATE OR REPLACE TABLE dev.stg_transactions AS\n",
    "SELECT * FROM transactions"
   ]
  },
  {
   "cell_type": "code",
   "execution_count": 0,
   "metadata": {
    "application/vnd.databricks.v1+cell": {
     "cellMetadata": {
      "byteLimit": 2048000,
      "implicitDf": true,
      "rowLimit": 10000
     },
     "inputWidgets": {},
     "nuid": "430fa3eb-ba00-4ac4-b91a-191d163b6a87",
     "showTitle": false,
     "tableResultSettingsMap": {},
     "title": ""
    }
   },
   "outputs": [
    {
     "output_type": "display_data",
     "data": {
      "text/html": [
       "<style scoped>\n",
       "  .table-result-container {\n",
       "    max-height: 300px;\n",
       "    overflow: auto;\n",
       "  }\n",
       "  table, th, td {\n",
       "    border: 1px solid black;\n",
       "    border-collapse: collapse;\n",
       "  }\n",
       "  th, td {\n",
       "    padding: 5px;\n",
       "  }\n",
       "  th {\n",
       "    text-align: left;\n",
       "  }\n",
       "</style><div class='table-result-container'><table class='table-result'><thead style='background-color: white'><tr><th>num_affected_rows</th><th>num_inserted_rows</th></tr></thead><tbody></tbody></table></div>"
      ]
     },
     "metadata": {
      "application/vnd.databricks.v1+output": {
       "addedWidgets": {},
       "aggData": [],
       "aggError": "",
       "aggOverflow": false,
       "aggSchema": [],
       "aggSeriesLimitReached": false,
       "aggType": "",
       "arguments": {},
       "columnCustomDisplayInfos": {},
       "data": [],
       "datasetInfos": [],
       "dbfsResultPath": null,
       "isJsonSchema": true,
       "metadata": {},
       "overflow": false,
       "plotOptions": {
        "customPlotOptions": {},
        "displayType": "table",
        "pivotAggregation": null,
        "pivotColumns": null,
        "xColumns": null,
        "yColumns": null
       },
       "removedWidgets": [],
       "schema": [
        {
         "metadata": "{}",
         "name": "num_affected_rows",
         "type": "\"long\""
        },
        {
         "metadata": "{}",
         "name": "num_inserted_rows",
         "type": "\"long\""
        }
       ],
       "type": "table"
      }
     },
     "output_type": "display_data"
    }
   ],
   "source": [
    "%sql\n",
    "CREATE OR REPLACE TABLE dev.stg_events AS\n",
    "SELECT * FROM events"
   ]
  },
  {
   "cell_type": "code",
   "execution_count": 0,
   "metadata": {
    "application/vnd.databricks.v1+cell": {
     "cellMetadata": {
      "byteLimit": 2048000,
      "implicitDf": true,
      "rowLimit": 10000
     },
     "inputWidgets": {},
     "nuid": "928a6464-f655-4f13-819b-937234475aa2",
     "showTitle": false,
     "tableResultSettingsMap": {},
     "title": ""
    }
   },
   "outputs": [
    {
     "output_type": "display_data",
     "data": {
      "text/html": [
       "<style scoped>\n",
       "  .table-result-container {\n",
       "    max-height: 300px;\n",
       "    overflow: auto;\n",
       "  }\n",
       "  table, th, td {\n",
       "    border: 1px solid black;\n",
       "    border-collapse: collapse;\n",
       "  }\n",
       "  th, td {\n",
       "    padding: 5px;\n",
       "  }\n",
       "  th {\n",
       "    text-align: left;\n",
       "  }\n",
       "</style><div class='table-result-container'><table class='table-result'><thead style='background-color: white'><tr><th>num_affected_rows</th><th>num_inserted_rows</th></tr></thead><tbody></tbody></table></div>"
      ]
     },
     "metadata": {
      "application/vnd.databricks.v1+output": {
       "addedWidgets": {},
       "aggData": [],
       "aggError": "",
       "aggOverflow": false,
       "aggSchema": [],
       "aggSeriesLimitReached": false,
       "aggType": "",
       "arguments": {},
       "columnCustomDisplayInfos": {},
       "data": [],
       "datasetInfos": [],
       "dbfsResultPath": null,
       "isJsonSchema": true,
       "metadata": {},
       "overflow": false,
       "plotOptions": {
        "customPlotOptions": {},
        "displayType": "table",
        "pivotAggregation": null,
        "pivotColumns": null,
        "xColumns": null,
        "yColumns": null
       },
       "removedWidgets": [],
       "schema": [
        {
         "metadata": "{}",
         "name": "num_affected_rows",
         "type": "\"long\""
        },
        {
         "metadata": "{}",
         "name": "num_inserted_rows",
         "type": "\"long\""
        }
       ],
       "type": "table"
      }
     },
     "output_type": "display_data"
    }
   ],
   "source": [
    "%sql\n",
    "CREATE OR REPLACE TABLE dev.stg_campaigns AS\n",
    "SELECT * FROM campaigns"
   ]
  },
  {
   "cell_type": "code",
   "execution_count": 0,
   "metadata": {
    "application/vnd.databricks.v1+cell": {
     "cellMetadata": {
      "byteLimit": 2048000,
      "implicitDf": true,
      "rowLimit": 10000
     },
     "inputWidgets": {},
     "nuid": "54d93414-dc8e-43d6-b155-3b31db4a54e0",
     "showTitle": false,
     "tableResultSettingsMap": {},
     "title": ""
    }
   },
   "outputs": [
    {
     "output_type": "display_data",
     "data": {
      "text/html": [
       "<style scoped>\n",
       "  .table-result-container {\n",
       "    max-height: 300px;\n",
       "    overflow: auto;\n",
       "  }\n",
       "  table, th, td {\n",
       "    border: 1px solid black;\n",
       "    border-collapse: collapse;\n",
       "  }\n",
       "  th, td {\n",
       "    padding: 5px;\n",
       "  }\n",
       "  th {\n",
       "    text-align: left;\n",
       "  }\n",
       "</style><div class='table-result-container'><table class='table-result'><thead style='background-color: white'><tr><th>num_affected_rows</th><th>num_inserted_rows</th></tr></thead><tbody></tbody></table></div>"
      ]
     },
     "metadata": {
      "application/vnd.databricks.v1+output": {
       "addedWidgets": {},
       "aggData": [],
       "aggError": "",
       "aggOverflow": false,
       "aggSchema": [],
       "aggSeriesLimitReached": false,
       "aggType": "",
       "arguments": {},
       "columnCustomDisplayInfos": {},
       "data": [],
       "datasetInfos": [],
       "dbfsResultPath": null,
       "isJsonSchema": true,
       "metadata": {},
       "overflow": false,
       "plotOptions": {
        "customPlotOptions": {},
        "displayType": "table",
        "pivotAggregation": null,
        "pivotColumns": null,
        "xColumns": null,
        "yColumns": null
       },
       "removedWidgets": [],
       "schema": [
        {
         "metadata": "{}",
         "name": "num_affected_rows",
         "type": "\"long\""
        },
        {
         "metadata": "{}",
         "name": "num_inserted_rows",
         "type": "\"long\""
        }
       ],
       "type": "table"
      }
     },
     "output_type": "display_data"
    }
   ],
   "source": [
    "%sql\n",
    "CREATE OR REPLACE TABLE dev.stg_support AS\n",
    "SELECT * FROM support"
   ]
  },
  {
   "cell_type": "code",
   "execution_count": 0,
   "metadata": {
    "application/vnd.databricks.v1+cell": {
     "cellMetadata": {
      "byteLimit": 2048000,
      "rowLimit": 10000
     },
     "inputWidgets": {},
     "nuid": "4963c92a-e51d-4283-a86c-ca66193ab696",
     "showTitle": false,
     "tableResultSettingsMap": {},
     "title": ""
    }
   },
   "outputs": [],
   "source": []
  }
 ],
 "metadata": {
  "application/vnd.databricks.v1+notebook": {
   "computePreferences": null,
   "dashboards": [],
   "environmentMetadata": {
    "base_environment": "",
    "environment_version": "1"
   },
   "inputWidgetPreferences": null,
   "language": "python",
   "notebookMetadata": {
    "mostRecentlyExecutedCommandWithImplicitDF": {
     "commandId": 2274952150396428,
     "dataframes": [
      "_sqldf"
     ]
    },
    "pythonIndentUnit": 4
   },
   "notebookName": "Data Generation",
   "widgets": {}
  }
 },
 "nbformat": 4,
 "nbformat_minor": 0
}